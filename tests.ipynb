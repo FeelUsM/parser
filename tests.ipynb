{
 "cells": [
  {
   "cell_type": "markdown",
   "metadata": {},
   "source": [
    "* модификаторы относятся к последовательносям а не к скобкам\n",
    "* функции могут быть\n",
    "* * строковые - возвращают строку\n",
    "* * direct - возвращают что угодно\n",
    "* * объектные - возвращают объект (словарь)\n",
    "* символы - строковые\n",
    "* последовательности:\n",
    "* * строковые\n",
    "* * * имя не указано, все подпоследовательности строковые - конкатенируем, обработчик должен вернуть строку\n",
    "* * direct\n",
    "* * * имя пустое или не указано, одна из подпоследовательностей direct, все остальные строковые <br>- берем только у того, который direct, все остальные игнорируем, обработчик допустим, если указано пустое имя\n",
    "* * * имя пустое, все подпоследовательности строковые - конкатенируем, обработчик допустим\n",
    "* * объектные\n",
    "* * * имя не указано, подпоследовательности строковые и объектные <br>- объединяем объектные, все остальные игнорируем, обработчик допустим, но при наличии обработчика выдается warning\n",
    "* * * имя указано, все подпоследовательности строковые - конкатенируем, обработчик допустим\n",
    "* * * имя указано, одна из подпоследовательностей direct, все остальные строковые<br>- берем только у того, который direct, все остальные игнорируем, обработчик допустим\n",
    "* циклы\n",
    "* * строковые\n",
    "* * * имя не указано, паттерн строковый - конкатенируем, обработчик должен вернуть строку\n",
    "* * direct\n",
    "* * * имя либо не указано либо пустое, паттерн - объект или direct <br>- объединяем в массив, обработчик допустим, если указано пустое имя\n",
    "* * * имя пустое, паттерн строковый - конкатенируем, обработчик допустим\n",
    "* * объект\n",
    "* * * имя указано, паттерн - объект или direct - объединяем в массив, обработчик допустим\n",
    "* * * имя указано, паттерн строковый - конкатенируем, обработчик допустим\n",
    "* перечисления (альтернатив)\n",
    "* * direct - если хотябы одна из альтернатив direct\n",
    "* * * direct - OK\n",
    "* * * объект - Warning при компиляции, ОК при выполнении\n",
    "* * * строка - Warning при компиляции, {} (пустой объект) при выполнении\n",
    "* * объектное - иначе если хотябы одна из альтернатив объектная\n",
    "* * * объект - ОК\n",
    "* * * строка - Warning при компиляции, {} (пустой объект) при выполнении\n",
    "* * строковое - иначе\n",
    "* * * строка - ОК\n",
    "* вызов\n",
    "* * строковый - `identifier` или `$identifier`\n",
    "* * * строковый - ОК\n",
    "* * * нестроковый - результат заменяется на NoConcat(identifier)\n",
    "* * * * при конкатенации если хотябы один из результатов NoConcat, то весь результат NoConcat\n",
    "* * * * при попадании результата NoConcat в объект, direct или обработчик происходит ошибка\n",
    "* * объектный - `${name[:=]identifier}` или `${identifier}`. во втором случае name=identifier\n",
    "* * * проверка типа результата не происходит\n",
    "* * direct - `$(identifier)`\n",
    "* * * проверка типа результата не происходит\n",
    "----\n",
    "* обработчики последовательностей `/*code*/` - относятся к последовательностям - получают 1 результат\n",
    "* * строковые и direct последовательности передают 1 аргумент\n",
    "* * объектные последовательности передают объект через `**`, как показано в примере ниже\n",
    "* обработчики перечислений `//code*/` - относятся к скобкам - получают список результатов \n",
    "----\n",
    "* 1-строчные обработчики в начале дополняются `lambda`, аргументы должны быть без скобок\n",
    "* многострочные обработчики в начале дополняются `def foo`, аргументы должны быть в скобках\n",
    "----\n",
    "* todo модификатор `?!`\n",
    "* todo отложенное выполнение обработчиков циклов\n",
    "* todo конкатенация символов и строк (и классов...) в последовательностях и последующая их обработка"
   ]
  },
  {
   "cell_type": "code",
   "execution_count": 1,
   "metadata": {
    "ExecuteTime": {
     "end_time": "2020-01-06T00:10:40.919147Z",
     "start_time": "2020-01-06T00:10:40.885145Z"
    }
   },
   "outputs": [],
   "source": [
    "from my_parser import *"
   ]
  },
  {
   "cell_type": "code",
   "execution_count": 2,
   "metadata": {
    "ExecuteTime": {
     "end_time": "2020-01-06T00:10:40.942148Z",
     "start_time": "2020-01-06T00:10:40.924147Z"
    }
   },
   "outputs": [
    {
     "data": {
      "text/plain": [
       "obj(min=4,asd=6,)"
      ]
     },
     "execution_count": 2,
     "metadata": {},
     "output_type": "execute_result"
    }
   ],
   "source": [
    "obj(min=4,asd=6)"
   ]
  },
  {
   "cell_type": "code",
   "execution_count": 3,
   "metadata": {
    "ExecuteTime": {
     "end_time": "2020-01-06T00:10:41.039154Z",
     "start_time": "2020-01-06T00:10:40.955149Z"
    }
   },
   "outputs": [
    {
     "data": {
      "text/plain": [
       "'__main__'"
      ]
     },
     "execution_count": 3,
     "metadata": {},
     "output_type": "execute_result"
    }
   ],
   "source": [
    "globals()['__name__']"
   ]
  },
  {
   "cell_type": "code",
   "execution_count": 4,
   "metadata": {
    "ExecuteTime": {
     "end_time": "2020-01-06T00:10:41.130159Z",
     "start_time": "2020-01-06T00:10:41.049154Z"
    }
   },
   "outputs": [
    {
     "data": {
      "text/plain": [
       "True"
      ]
     },
     "execution_count": 4,
     "metadata": {},
     "output_type": "execute_result"
    }
   ],
   "source": [
    "any(x==2 for x in [1,2,3])"
   ]
  },
  {
   "cell_type": "markdown",
   "metadata": {
    "ExecuteTime": {
     "end_time": "2019-12-22T09:49:36.834706Z",
     "start_time": "2019-12-22T09:49:18.645665Z"
    }
   },
   "source": [
    "```\n",
    "в метапарсере:\n",
    "передаем (str,pos) или (s,p)\n",
    "возвращаем (pos,res) или (pos,FatalError())\n",
    "    res - результат: (тип, функция)\n",
    "    тип:\n",
    "        string\n",
    "        obj\n",
    "        direct\n",
    "\n",
    "в парсере:\n",
    "передаем (str,pos) или (s,p)\n",
    "возвращаем список [(pos,res)]\n",
    "\n",
    "типы функций: string, obj, direct\n",
    "```    "
   ]
  },
  {
   "cell_type": "code",
   "execution_count": null,
   "metadata": {
    "ExecuteTime": {
     "end_time": "2019-12-29T20:16:33.237399Z",
     "start_time": "2019-12-29T20:16:33.120392Z"
    }
   },
   "outputs": [],
   "source": []
  },
  {
   "cell_type": "code",
   "execution_count": 5,
   "metadata": {
    "ExecuteTime": {
     "end_time": "2020-01-06T00:10:41.227164Z",
     "start_time": "2020-01-06T00:10:41.141159Z"
    }
   },
   "outputs": [
    {
     "data": {
      "text/plain": [
       "FatalError('mes')"
      ]
     },
     "execution_count": 5,
     "metadata": {},
     "output_type": "execute_result"
    }
   ],
   "source": [
    "FatalError('mes')"
   ]
  },
  {
   "cell_type": "code",
   "execution_count": 6,
   "metadata": {
    "ExecuteTime": {
     "end_time": "2020-01-06T00:10:41.345171Z",
     "start_time": "2020-01-06T00:10:41.236165Z"
    }
   },
   "outputs": [
    {
     "data": {
      "text/plain": [
       "'возвращет пару (тип, pp_функция)'"
      ]
     },
     "execution_count": 6,
     "metadata": {},
     "output_type": "execute_result"
    }
   ],
   "source": [
    "# spc :=[\\ \\r\\n\\t\\v\\f]|`(|`(?!`|)`|.)*`|)`|`||`[^\\r\\n\\v\\f]*[\\r\\n\\v\\f];\n",
    "    \"\"\"возвращает пробел\"\"\"\n",
    "#   todo комментарии не реализованы\n",
    "# spcs:=$spc*;\n",
    "    \"\"\"возвращает пробел\"\"\"\n",
    "# num :=[0-9]+;\n",
    "    \"\"\"возвращает число\"\"\"\n",
    "# identifier :=[a-zA-Z_][a-zA-Z_0-9]*;\n",
    "    \"\"\"возвращает строку\"\"\"\n",
    "# quoted_sequence ::=\\` ( [^\\`\\\\] | \\\\\\` | \\\\\\\\)* \\` ;\n",
    "    \"\"\"возвращает строку\"\"\"\n",
    "#   todo сделать обычные кавычки для bnf\n",
    "# reg_char :=[^\\\\\\/\\``;|$.*+?()[]{}`]|\\\\.;\n",
    "#  || здесь перечислены управляющие символы, остальные символы считаются обычными\n",
    "#  || ^-\\/`;|$.*+?()[]{}\n",
    "    \"\"\"возвращает символ\"\"\"\n",
    "# bnf_char :=\\\\.;\n",
    "#  || любые символы считаются управляющими, обычные символы надо брать в кавычки или экранировать\n",
    "#  а управляющие символы сначала надо брать в кавычки а потом еще и экранировать внутри кавычек\n",
    "    \"\"\"возвращает символ\"\"\"\n",
    "# reg_class_char ::= [^\\\\\\/\\``^-;|$.*+?()[]{}`] | `\\\\`.;\n",
    "#  || к управляющим символам добавляется `^-`, пробелы разрешены\n",
    "    \"\"\"возвращает символ\"\"\"\n",
    "# bnf_class_char ::= [^\\\\\\/\\``^-;|$.*+?()[]{} `]| `\\\\`.;\n",
    "#  || к управляющим символам добавляется `^-`, пробелы запрещены\n",
    "    \"\"\"возвращает символ\"\"\"\n",
    "# reg_class ::= `.` | `[``^`?  (reg_classChar(`-`reg_classChar)?   |quotedSequence     )*`]` \n",
    "#  / *=>new RegExp(arg)* /;\n",
    "    \"\"\"возвращает pp_функцию\"\"\"\n",
    "# bnf_class ::= `.` | `[``^`? spcs \n",
    "#    (bnf_classChar(`-`bnf_classChar)? spcs |quotedSequence spcs)*`]` \n",
    "#  / *=>new RegExp(arg)* /;\n",
    "    \"\"\"возвращает pp_функцию\"\"\"\n",
    "# name_modifier ::= `?` identifier? `=`  || имя последовательности - имя результата\n",
    "    \"\"\"возвращет строку\"\"\"\n",
    "# seq_handler ::= `/*`(?!`*/`|.)*`*/`\n",
    "    \"\"\"возвращает функцию-обработчик\"\"\"\n",
    "# alt_handler ::= `//`(?!`*/`|.)*`*/`\n",
    "    \"\"\"возвращает функцию-обработчик\"\"\"\n",
    "# simple_quantifier ::= [`*+?`]\n",
    "    \"\"\"возвращает объект {min:int, max:int, name:..., seq_handler:..., alt_handler:...}\"\"\"\n",
    "# complex_quantifier ::=  `{`spcs \n",
    "#    (name_modifier spcs)? \n",
    "#    ([`*+?`] |`,` spcs num | num (spcs `,` spcs num?)? ) spcs \n",
    "#    (seq_handler spcs)?\n",
    "#    (alt_handler spcs)?\n",
    "#    `}` ;\n",
    "    \"\"\"возвращает объект {min:int, max:int, name:..., seq_handler:..., alt_handler:...}\"\"\"\n",
    "#-----\n",
    "# reg_str_link ::= `$`  ( ?id=identifier ) /*=>{link:arg.id}* /;\n",
    "    \"\"\"возвращет пару (тип, pp_функция)\"\"\"\n",
    "# reg_bnf_link ::= {?}`$`  ( ?id=identifier ) /*=>{link:arg.id}* /;\n",
    "    \"\"\"возвращет пару (тип, pp_функция)\"\"\"\n",
    "# obj_direct_link ::= `$` ('(' $identifier ')'\n",
    "#                          | '{' $identifier {?}([=:] $identifier)'}');\n",
    "    \"\"\"возвращет пару (тип, pp_функция)\"\"\"\n",
    "# reg_symbol ::= reg_char|quoted_sequence|reg_class|reg_str_link|obj_direct_link;\n",
    "    \"\"\"возвращет пару (тип, pp_функция)\"\"\"\n",
    "# bnf_symbol ::= bnf_char|quoted_sequence|bnf_class|bnf_str_link|obj_direct_link;\n",
    "    \"\"\"возвращет пару (тип, pp_функция)\"\"\"\n",
    "#reg_sequence ::=\n",
    "#    name_modifier?\n",
    "#    ( ( reg_symbol | `(` reg_alternatives`)` ) ## пока reg_alternatives -> reg_sequence\n",
    "#       ## quantifier?\n",
    "#    )+\n",
    "#    (seq_handler spcs)*;\n",
    "    \"\"\"возвращет пару (тип, pp_функция)\"\"\"\n"
   ]
  },
  {
   "cell_type": "markdown",
   "metadata": {},
   "source": [
    "## свободные паттерны"
   ]
  },
  {
   "cell_type": "code",
   "execution_count": 7,
   "metadata": {
    "ExecuteTime": {
     "end_time": "2020-01-06T00:10:41.427176Z",
     "start_time": "2020-01-06T00:10:41.354172Z"
    }
   },
   "outputs": [],
   "source": [
    "# spc :=[\\ \\r\\n\\t\\v\\f]|`(|`(?!`|)`|.)*`|)`|`||`[^\\r\\n\\v\\f]*[\\r\\n\\v\\f];\n",
    "# комментарии потом реализуем, если понадобится\n",
    "#def p_spc(s,p):"
   ]
  },
  {
   "cell_type": "code",
   "execution_count": 8,
   "metadata": {
    "ExecuteTime": {
     "end_time": "2020-01-06T00:10:41.517181Z",
     "start_time": "2020-01-06T00:10:41.437176Z"
    }
   },
   "outputs": [],
   "source": [
    "assert p_spc(' ',0)==(1, ' ')"
   ]
  },
  {
   "cell_type": "code",
   "execution_count": 9,
   "metadata": {
    "ExecuteTime": {
     "end_time": "2020-01-06T00:10:41.650189Z",
     "start_time": "2020-01-06T00:10:41.519181Z"
    }
   },
   "outputs": [],
   "source": [
    "assert p_spc('',0)==(0, FatalError('ожидался пробел'))"
   ]
  },
  {
   "cell_type": "code",
   "execution_count": 10,
   "metadata": {
    "ExecuteTime": {
     "end_time": "2020-01-06T00:10:41.763195Z",
     "start_time": "2020-01-06T00:10:41.658189Z"
    }
   },
   "outputs": [],
   "source": [
    "# spcs:=$spc*;\n",
    "#def p_spcs(s,p):"
   ]
  },
  {
   "cell_type": "code",
   "execution_count": 11,
   "metadata": {
    "ExecuteTime": {
     "end_time": "2020-01-06T00:10:41.850200Z",
     "start_time": "2020-01-06T00:10:41.765195Z"
    }
   },
   "outputs": [],
   "source": [
    "assert p_spcs('1   ',4)==(4, ' ')"
   ]
  },
  {
   "cell_type": "code",
   "execution_count": 12,
   "metadata": {
    "ExecuteTime": {
     "end_time": "2020-01-06T00:10:41.942205Z",
     "start_time": "2020-01-06T00:10:41.852200Z"
    },
    "code_folding": []
   },
   "outputs": [],
   "source": [
    "# num :=[0-9]+;\n",
    "#def p_num(s,p):"
   ]
  },
  {
   "cell_type": "code",
   "execution_count": 13,
   "metadata": {
    "ExecuteTime": {
     "end_time": "2020-01-06T00:10:42.034210Z",
     "start_time": "2020-01-06T00:10:41.950206Z"
    }
   },
   "outputs": [],
   "source": [
    "assert p_num('123',0)==(3, 123)"
   ]
  },
  {
   "cell_type": "code",
   "execution_count": 14,
   "metadata": {
    "ExecuteTime": {
     "end_time": "2020-01-06T00:10:42.126216Z",
     "start_time": "2020-01-06T00:10:42.036211Z"
    }
   },
   "outputs": [],
   "source": [
    "assert p_num('a123',0)==(0, FatalError('ожидалось число'))"
   ]
  },
  {
   "cell_type": "code",
   "execution_count": 15,
   "metadata": {
    "ExecuteTime": {
     "end_time": "2020-01-06T00:10:42.209220Z",
     "start_time": "2020-01-06T00:10:42.128216Z"
    },
    "code_folding": []
   },
   "outputs": [],
   "source": [
    "# identifier :=[a-zA-Z_][a-zA-Z_0-9]*;\n",
    "#def p_identifier(s,p):"
   ]
  },
  {
   "cell_type": "code",
   "execution_count": 16,
   "metadata": {
    "ExecuteTime": {
     "end_time": "2020-01-06T00:10:42.307226Z",
     "start_time": "2020-01-06T00:10:42.217221Z"
    }
   },
   "outputs": [],
   "source": [
    "assert p_identifier('qw12',0)==(4, 'qw12')"
   ]
  },
  {
   "cell_type": "code",
   "execution_count": 17,
   "metadata": {
    "ExecuteTime": {
     "end_time": "2020-01-06T00:10:42.390231Z",
     "start_time": "2020-01-06T00:10:42.317227Z"
    }
   },
   "outputs": [],
   "source": [
    "assert p_identifier('1qw12',0)==(0, FatalError('ожидался идентификатор'))"
   ]
  },
  {
   "cell_type": "code",
   "execution_count": 18,
   "metadata": {
    "ExecuteTime": {
     "end_time": "2020-01-06T00:10:42.591242Z",
     "start_time": "2020-01-06T00:10:42.396231Z"
    },
    "code_folding": []
   },
   "outputs": [],
   "source": [
    "# quoted_sequence ::=\\` ( [^\\`\\\\] | \\\\\\` | \\\\\\\\)* \\` ;\n",
    "#def p_quoted_sequence(s,p):"
   ]
  },
  {
   "cell_type": "code",
   "execution_count": 19,
   "metadata": {
    "ExecuteTime": {
     "end_time": "2020-01-06T00:10:42.675247Z",
     "start_time": "2020-01-06T00:10:42.594243Z"
    }
   },
   "outputs": [],
   "source": [
    "assert p_bnf_quoted_sequence(r'\"qwe2134*%\\\\$\"',0)==(14, 'qwe2134*%\\\\$')"
   ]
  },
  {
   "cell_type": "code",
   "execution_count": 20,
   "metadata": {
    "ExecuteTime": {
     "end_time": "2020-01-06T00:10:42.758252Z",
     "start_time": "2020-01-06T00:10:42.677247Z"
    }
   },
   "outputs": [],
   "source": [
    "assert p_reg_quoted_sequence(r'\\Qqwe2134*%\\\\$\\E',0)==(16, r'qwe2134*%\\\\$')"
   ]
  },
  {
   "cell_type": "code",
   "execution_count": 21,
   "metadata": {
    "ExecuteTime": {
     "end_time": "2020-01-06T00:10:42.850257Z",
     "start_time": "2020-01-06T00:10:42.767252Z"
    }
   },
   "outputs": [],
   "source": [
    "assert p_bnf_quoted_sequence(r\"'qwe2134*%\\\\$'\",0)==(14, 'qwe2134*%\\\\$')"
   ]
  },
  {
   "cell_type": "code",
   "execution_count": 22,
   "metadata": {
    "ExecuteTime": {
     "end_time": "2020-01-06T00:10:42.941262Z",
     "start_time": "2020-01-06T00:10:42.858258Z"
    },
    "code_folding": []
   },
   "outputs": [],
   "source": [
    "# reg_char :=[^\\\\\\/\\``;|$.*+?()[]{}`]|\\\\.;\n",
    "#  || здесь перечислены управляющие символы, остальные символы считаются обычными\n",
    "#  || ^-\\/`;|$.*+?()[]{}\n",
    "#def p_reg_char(s,p):"
   ]
  },
  {
   "cell_type": "code",
   "execution_count": 23,
   "metadata": {
    "ExecuteTime": {
     "end_time": "2020-01-06T00:10:43.025267Z",
     "start_time": "2020-01-06T00:10:42.943262Z"
    },
    "code_folding": []
   },
   "outputs": [],
   "source": [
    "# bnf_char :=\\\\.;\n",
    "#  || любые символы считаются управляющими, обычные символы надо брать в кавычки или экранировать\n",
    "#  а управляющие символы сначала надо брать в кавычки а потом еще и экранировать внутри кавычек\n",
    "#def p_bnf_char(s,p):"
   ]
  },
  {
   "cell_type": "code",
   "execution_count": 24,
   "metadata": {
    "ExecuteTime": {
     "end_time": "2020-01-06T00:10:43.143274Z",
     "start_time": "2020-01-06T00:10:43.033268Z"
    },
    "code_folding": []
   },
   "outputs": [],
   "source": [
    "# reg_class_char ::= [^\\\\\\/\\``^-;|$.*+?()[]{}`] | `\\\\`.;\n",
    "#  || к управляющим символам добавляется `^-`, пробелы разрешены\n",
    "#def p_reg_class_char(s,p):"
   ]
  },
  {
   "cell_type": "code",
   "execution_count": 25,
   "metadata": {
    "ExecuteTime": {
     "end_time": "2020-01-06T00:10:43.233279Z",
     "start_time": "2020-01-06T00:10:43.151274Z"
    },
    "code_folding": []
   },
   "outputs": [],
   "source": [
    "# bnf_class_char ::= [^\\\\\\/\\``^-;|$.*+?()[]{} `]| `\\\\`.;\n",
    "#  || к управляющим символам добавляется `^-`, пробелы запрещены\n",
    "#def p_bnf_class_char(s,p):"
   ]
  },
  {
   "cell_type": "code",
   "execution_count": 26,
   "metadata": {
    "ExecuteTime": {
     "end_time": "2020-01-06T00:10:43.316284Z",
     "start_time": "2020-01-06T00:10:43.235279Z"
    },
    "code_folding": []
   },
   "outputs": [],
   "source": [
    "# reg_class ::= `.` | `[``^`?  (reg_classChar(`-`reg_classChar)?   |quotedSequence     )*`]` \n",
    "#  / *=>new RegExp(arg)* /;\n",
    "#def p_reg_class(s,p):"
   ]
  },
  {
   "cell_type": "code",
   "execution_count": 27,
   "metadata": {
    "ExecuteTime": {
     "end_time": "2020-01-06T00:10:43.428290Z",
     "start_time": "2020-01-06T00:10:43.324284Z"
    }
   },
   "outputs": [],
   "source": [
    "assert p_reg_class('a',0)==(0, FatalError('ожидался reg_class'))"
   ]
  },
  {
   "cell_type": "code",
   "execution_count": 28,
   "metadata": {
    "ExecuteTime": {
     "end_time": "2020-01-06T00:10:43.516295Z",
     "start_time": "2020-01-06T00:10:43.437291Z"
    }
   },
   "outputs": [],
   "source": [
    "assert p_reg_class('[a',0)==(2, FatalError('ожидалась `]`'))"
   ]
  },
  {
   "cell_type": "code",
   "execution_count": 29,
   "metadata": {
    "ExecuteTime": {
     "end_time": "2020-01-06T00:10:43.643303Z",
     "start_time": "2020-01-06T00:10:43.524296Z"
    }
   },
   "outputs": [],
   "source": [
    "assert p_reg_class('[a-]',0)==(3, FatalError('ожидался reg_class_char'))"
   ]
  },
  {
   "cell_type": "code",
   "execution_count": 30,
   "metadata": {
    "ExecuteTime": {
     "end_time": "2020-01-06T00:10:43.725307Z",
     "start_time": "2020-01-06T00:10:43.646303Z"
    }
   },
   "outputs": [],
   "source": [
    "assert p_reg_class('.',0)[1]('a',0)==[1, 'a']"
   ]
  },
  {
   "cell_type": "code",
   "execution_count": 31,
   "metadata": {
    "ExecuteTime": {
     "end_time": "2020-01-06T00:10:43.934319Z",
     "start_time": "2020-01-06T00:10:43.727307Z"
    }
   },
   "outputs": [],
   "source": [
    "assert p_reg_class('[a-z]',0)[1]('a',0)==[(1, 'a')]"
   ]
  },
  {
   "cell_type": "code",
   "execution_count": 32,
   "metadata": {
    "ExecuteTime": {
     "end_time": "2020-01-06T00:10:44.028325Z",
     "start_time": "2020-01-06T00:10:43.942320Z"
    }
   },
   "outputs": [],
   "source": [
    "assert p_reg_class('[a-z]',0)[1]('0',0)==[]"
   ]
  },
  {
   "cell_type": "code",
   "execution_count": 33,
   "metadata": {
    "ExecuteTime": {
     "end_time": "2020-01-06T00:10:44.108329Z",
     "start_time": "2020-01-06T00:10:44.036325Z"
    }
   },
   "outputs": [],
   "source": [
    "assert p_reg_class('[a]',0)[1]('a',0)==[(1, 'a')]"
   ]
  },
  {
   "cell_type": "code",
   "execution_count": 34,
   "metadata": {
    "ExecuteTime": {
     "end_time": "2020-01-06T00:10:44.201334Z",
     "start_time": "2020-01-06T00:10:44.117330Z"
    }
   },
   "outputs": [],
   "source": [
    "assert p_reg_class('[^0-9]',0)[1]('a',0)==[(1, 'a')]"
   ]
  },
  {
   "cell_type": "code",
   "execution_count": 35,
   "metadata": {
    "ExecuteTime": {
     "end_time": "2020-01-06T00:10:44.704363Z",
     "start_time": "2020-01-06T00:10:44.209335Z"
    },
    "code_folding": []
   },
   "outputs": [],
   "source": [
    "# bnf_class ::= `.` | `[``^`? spcs \n",
    "#    (bnf_classChar(`-`bnf_classChar)? spcs |quotedSequence spcs)*`]` \n",
    "#  / *=>new RegExp(arg)* /;\n",
    "#def p_bnf_class(s,p):"
   ]
  },
  {
   "cell_type": "code",
   "execution_count": 36,
   "metadata": {
    "ExecuteTime": {
     "end_time": "2020-01-06T00:10:44.802369Z",
     "start_time": "2020-01-06T00:10:44.706363Z"
    }
   },
   "outputs": [],
   "source": [
    "assert p_bnf_class('a',0)==(0, FatalError('ожидался bnf_class'))"
   ]
  },
  {
   "cell_type": "code",
   "execution_count": 37,
   "metadata": {
    "ExecuteTime": {
     "end_time": "2020-01-06T00:10:44.876373Z",
     "start_time": "2020-01-06T00:10:44.811369Z"
    }
   },
   "outputs": [],
   "source": [
    "assert p_bnf_class('[a',0)==(2, FatalError('ожидалась `]`'))"
   ]
  },
  {
   "cell_type": "code",
   "execution_count": 38,
   "metadata": {
    "ExecuteTime": {
     "end_time": "2020-01-06T00:10:44.986379Z",
     "start_time": "2020-01-06T00:10:44.884374Z"
    }
   },
   "outputs": [],
   "source": [
    "assert p_bnf_class('[a-]',0)==(3, FatalError('ожидался bnf_class_char'))"
   ]
  },
  {
   "cell_type": "code",
   "execution_count": 39,
   "metadata": {
    "ExecuteTime": {
     "end_time": "2020-01-06T00:10:45.084385Z",
     "start_time": "2020-01-06T00:10:44.994380Z"
    }
   },
   "outputs": [],
   "source": [
    "assert p_bnf_class('.',0)[1]('a',0)==[1, 'a']"
   ]
  },
  {
   "cell_type": "code",
   "execution_count": 40,
   "metadata": {
    "ExecuteTime": {
     "end_time": "2020-01-06T00:10:45.185391Z",
     "start_time": "2020-01-06T00:10:45.086385Z"
    }
   },
   "outputs": [],
   "source": [
    "assert p_bnf_class('[a-z]',0)[1]('a',0)==[(1, 'a')]"
   ]
  },
  {
   "cell_type": "code",
   "execution_count": 41,
   "metadata": {
    "ExecuteTime": {
     "end_time": "2020-01-06T00:10:45.400403Z",
     "start_time": "2020-01-06T00:10:45.193391Z"
    }
   },
   "outputs": [],
   "source": [
    "assert p_bnf_class('[a-z]',0)[1]('0',0)==[]"
   ]
  },
  {
   "cell_type": "code",
   "execution_count": 42,
   "metadata": {
    "ExecuteTime": {
     "end_time": "2020-01-06T00:10:45.631416Z",
     "start_time": "2020-01-06T00:10:45.409404Z"
    }
   },
   "outputs": [],
   "source": [
    "assert p_bnf_class('[a]',0)[1]('a',0)==[(1, 'a')]"
   ]
  },
  {
   "cell_type": "code",
   "execution_count": 43,
   "metadata": {
    "ExecuteTime": {
     "end_time": "2020-01-06T00:10:45.867430Z",
     "start_time": "2020-01-06T00:10:45.633416Z"
    }
   },
   "outputs": [],
   "source": [
    "assert p_bnf_class('[^0-9]',0)[1]('a',0)==[(1, 'a')]"
   ]
  },
  {
   "cell_type": "code",
   "execution_count": 44,
   "metadata": {
    "ExecuteTime": {
     "end_time": "2020-01-06T00:10:45.961435Z",
     "start_time": "2020-01-06T00:10:45.875430Z"
    }
   },
   "outputs": [],
   "source": [
    "assert p_bnf_class('[ a-z ]',0)[1]('a',0)==[(1, 'a')]"
   ]
  },
  {
   "cell_type": "code",
   "execution_count": 45,
   "metadata": {
    "ExecuteTime": {
     "end_time": "2020-01-06T00:10:46.075442Z",
     "start_time": "2020-01-06T00:10:45.969436Z"
    }
   },
   "outputs": [],
   "source": [
    "assert p_bnf_class('[ a - z ]',0)==(4, FatalError('ожидалась `]`'))"
   ]
  },
  {
   "cell_type": "code",
   "execution_count": 46,
   "metadata": {
    "ExecuteTime": {
     "end_time": "2020-01-06T00:10:46.192448Z",
     "start_time": "2020-01-06T00:10:46.079442Z"
    },
    "code_folding": []
   },
   "outputs": [],
   "source": [
    "# name_modifier ::= `?` identifier? `=`  || имя последовательности - имя результата\n",
    "#def p_name_modifier(s,p):"
   ]
  },
  {
   "cell_type": "code",
   "execution_count": 47,
   "metadata": {
    "ExecuteTime": {
     "end_time": "2020-01-06T00:10:46.301455Z",
     "start_time": "2020-01-06T00:10:46.194448Z"
    }
   },
   "outputs": [],
   "source": [
    "assert p_name_modifier('a=',0)==(0, FatalError('ожидался name_modifier'))"
   ]
  },
  {
   "cell_type": "code",
   "execution_count": 48,
   "metadata": {
    "ExecuteTime": {
     "end_time": "2020-01-06T00:10:46.422461Z",
     "start_time": "2020-01-06T00:10:46.303455Z"
    }
   },
   "outputs": [],
   "source": [
    "assert p_name_modifier('?a',0)==(2, FatalError('ожидалось `=`'))"
   ]
  },
  {
   "cell_type": "code",
   "execution_count": 49,
   "metadata": {
    "ExecuteTime": {
     "end_time": "2020-01-06T00:10:46.541468Z",
     "start_time": "2020-01-06T00:10:46.424462Z"
    }
   },
   "outputs": [],
   "source": [
    "assert p_name_modifier('?a=',0)==(3, 'a')"
   ]
  },
  {
   "cell_type": "code",
   "execution_count": 50,
   "metadata": {
    "ExecuteTime": {
     "end_time": "2020-01-06T00:10:46.668476Z",
     "start_time": "2020-01-06T00:10:46.543468Z"
    }
   },
   "outputs": [],
   "source": [
    "assert p_name_modifier('?=',0)==(2, '')"
   ]
  },
  {
   "cell_type": "code",
   "execution_count": 51,
   "metadata": {
    "ExecuteTime": {
     "end_time": "2020-01-06T00:10:46.792483Z",
     "start_time": "2020-01-06T00:10:46.676476Z"
    },
    "code_folding": []
   },
   "outputs": [],
   "source": [
    "# seq_handler ::= `/*`(?!`*/`|.)*`*/`\n",
    "#def p_seq_handler(s,p):"
   ]
  },
  {
   "cell_type": "code",
   "execution_count": 52,
   "metadata": {
    "ExecuteTime": {
     "end_time": "2020-01-06T00:10:46.891488Z",
     "start_time": "2020-01-06T00:10:46.794483Z"
    }
   },
   "outputs": [
    {
     "name": "stdout",
     "output_type": "stream",
     "text": [
      "2 3 8\n",
      "2 3 8\n"
     ]
    },
    {
     "data": {
      "text/plain": [
       "13"
      ]
     },
     "execution_count": 52,
     "metadata": {},
     "output_type": "execute_result"
    }
   ],
   "source": [
    "o = {'a':2,'b':3}\n",
    "\"b,a,c=8: print(a,b,c)\"\n",
    "foo =lambda b,a,c=8: print(a,b,c)\n",
    "foo(**o)\n",
    "\n",
    "\"\"\"(b,a,c=8): \n",
    "    print(a,b,c)\n",
    "\"\"\"\n",
    "def bar(b,a,c=8): \n",
    "    print(a,b,c)\n",
    "bar(**o)\n",
    "\n",
    "code1 = 'lambda b,a,c=8: a+b+c'\n",
    "code11 = eval(code1)\n",
    "code11(**o)\n",
    "\n",
    "def foo():\n",
    "    code2 = \\\n",
    "'''\n",
    "def qwer(b,a,c=8): \n",
    "    return a+b+c\n",
    "'''\n",
    "    g = globals()\n",
    "    exec(code2,g)\n",
    "    return g['qwer']\n",
    "code = foo()\n",
    "code(**o)"
   ]
  },
  {
   "cell_type": "code",
   "execution_count": 53,
   "metadata": {
    "ExecuteTime": {
     "end_time": "2020-01-06T00:10:46.977493Z",
     "start_time": "2020-01-06T00:10:46.900489Z"
    }
   },
   "outputs": [],
   "source": [
    "assert p_seq_handler('a,b:a+b*/',0)==(0, FatalError('ожидался seq_handler'))"
   ]
  },
  {
   "cell_type": "code",
   "execution_count": 54,
   "metadata": {
    "ExecuteTime": {
     "end_time": "2020-01-06T00:10:47.067498Z",
     "start_time": "2020-01-06T00:10:46.986494Z"
    }
   },
   "outputs": [],
   "source": [
    "assert p_seq_handler('/*a,b:a+b',0)==(9, FatalError('неожиданный конец файла'))"
   ]
  },
  {
   "cell_type": "code",
   "execution_count": 55,
   "metadata": {
    "ExecuteTime": {
     "end_time": "2020-01-06T00:10:47.166504Z",
     "start_time": "2020-01-06T00:10:47.077499Z"
    }
   },
   "outputs": [],
   "source": [
    "assert p_seq_handler('/*a,b:a+b*/',0)[1](2,3)==5"
   ]
  },
  {
   "cell_type": "code",
   "execution_count": 56,
   "metadata": {
    "ExecuteTime": {
     "end_time": "2020-01-06T00:10:47.292511Z",
     "start_time": "2020-01-06T00:10:47.168504Z"
    }
   },
   "outputs": [],
   "source": [
    "assert p_seq_handler('''\n",
    "/*(a,b):\n",
    "    return a+b*/''',\n",
    "              1)[1](2,3)==5"
   ]
  },
  {
   "cell_type": "code",
   "execution_count": 57,
   "metadata": {
    "ExecuteTime": {
     "end_time": "2020-01-06T00:10:47.396517Z",
     "start_time": "2020-01-06T00:10:47.300512Z"
    }
   },
   "outputs": [
    {
     "name": "stdout",
     "output_type": "stream",
     "text": [
      "2 FatalError('ошибка при компиляции обработчика') 11 invalid syntax (<string>, line 1)\n"
     ]
    }
   ],
   "source": [
    "assert p_seq_handler('/*a,a+\"aaa\"*/',0)==(2, FatalError('ошибка при компиляции обработчика'))"
   ]
  },
  {
   "cell_type": "code",
   "execution_count": 58,
   "metadata": {
    "ExecuteTime": {
     "end_time": "2020-01-06T00:10:47.513524Z",
     "start_time": "2020-01-06T00:10:47.404518Z"
    }
   },
   "outputs": [
    {
     "name": "stdout",
     "output_type": "stream",
     "text": [
      "<class 'SyntaxError'>\n"
     ]
    },
    {
     "data": {
      "text/plain": [
       "11"
      ]
     },
     "execution_count": 58,
     "metadata": {},
     "output_type": "execute_result"
    }
   ],
   "source": [
    "code = 'lambda a,a+\"aaa'\n",
    "try:\n",
    "    eval(code)\n",
    "except BaseException as e:\n",
    "    err = e\n",
    "print(type(err))\n",
    "err.offset"
   ]
  },
  {
   "cell_type": "code",
   "execution_count": 59,
   "metadata": {
    "ExecuteTime": {
     "end_time": "2020-01-06T00:10:47.652532Z",
     "start_time": "2020-01-06T00:10:47.528525Z"
    },
    "code_folding": []
   },
   "outputs": [],
   "source": [
    "# alt_handler ::= `//`(?!`*/`|.)*`*/`\n",
    "#def p_alt_handler(s,p):"
   ]
  },
  {
   "cell_type": "code",
   "execution_count": 60,
   "metadata": {
    "ExecuteTime": {
     "end_time": "2020-01-06T00:10:47.741537Z",
     "start_time": "2020-01-06T00:10:47.657532Z"
    }
   },
   "outputs": [],
   "source": [
    "assert p_alt_handler('a,b:a+b*/',0)==(0, FatalError('ожидался alt_handler'))"
   ]
  },
  {
   "cell_type": "code",
   "execution_count": 61,
   "metadata": {
    "ExecuteTime": {
     "end_time": "2020-01-06T00:10:47.833542Z",
     "start_time": "2020-01-06T00:10:47.743537Z"
    }
   },
   "outputs": [],
   "source": [
    "assert p_alt_handler('//a,b:a+b',0)==(9, FatalError('неожиданный конец файла'))"
   ]
  },
  {
   "cell_type": "code",
   "execution_count": 62,
   "metadata": {
    "ExecuteTime": {
     "end_time": "2020-01-06T00:10:47.916547Z",
     "start_time": "2020-01-06T00:10:47.835542Z"
    }
   },
   "outputs": [],
   "source": [
    "assert p_alt_handler('//a,b:a+b*/',0)[1](2,3)==5"
   ]
  },
  {
   "cell_type": "code",
   "execution_count": 63,
   "metadata": {
    "ExecuteTime": {
     "end_time": "2020-01-06T00:10:47.993551Z",
     "start_time": "2020-01-06T00:10:47.924547Z"
    }
   },
   "outputs": [],
   "source": [
    "assert p_alt_handler('''\n",
    "//(a,b):\n",
    "    return a+b*/''',\n",
    "              1)[1](2,3)==5"
   ]
  },
  {
   "cell_type": "code",
   "execution_count": 64,
   "metadata": {
    "ExecuteTime": {
     "end_time": "2020-01-06T00:10:48.083556Z",
     "start_time": "2020-01-06T00:10:47.996552Z"
    },
    "code_folding": []
   },
   "outputs": [],
   "source": [
    "# simple_quantifier ::= [`*+?`]\n",
    "#def p_simple_quantifier(s,p):"
   ]
  },
  {
   "cell_type": "code",
   "execution_count": 65,
   "metadata": {
    "ExecuteTime": {
     "end_time": "2020-01-06T00:10:48.183562Z",
     "start_time": "2020-01-06T00:10:48.085557Z"
    }
   },
   "outputs": [],
   "source": [
    "assert p_simple_quantifier('',0)==(0, FatalError('ожидался simple_quantifier'))"
   ]
  },
  {
   "cell_type": "code",
   "execution_count": 66,
   "metadata": {
    "ExecuteTime": {
     "end_time": "2020-01-06T00:10:48.275567Z",
     "start_time": "2020-01-06T00:10:48.191563Z"
    }
   },
   "outputs": [],
   "source": [
    "assert p_simple_quantifier('*',0)==(1, obj(min=0,max=-1,name=None,seq_handlers=[],))"
   ]
  },
  {
   "cell_type": "code",
   "execution_count": 67,
   "metadata": {
    "ExecuteTime": {
     "end_time": "2020-01-06T00:10:48.386574Z",
     "start_time": "2020-01-06T00:10:48.283568Z"
    }
   },
   "outputs": [],
   "source": [
    "assert p_simple_quantifier('+',0)==(1, obj(min=1,max=-1,name=None,seq_handlers=[],))"
   ]
  },
  {
   "cell_type": "code",
   "execution_count": 68,
   "metadata": {
    "ExecuteTime": {
     "end_time": "2020-01-06T00:10:48.458578Z",
     "start_time": "2020-01-06T00:10:48.394574Z"
    }
   },
   "outputs": [],
   "source": [
    "assert p_simple_quantifier('?',0)==(1, obj(min=0,max=1,name=None,seq_handlers=[],))"
   ]
  },
  {
   "cell_type": "code",
   "execution_count": 69,
   "metadata": {
    "ExecuteTime": {
     "end_time": "2020-01-06T00:10:48.541583Z",
     "start_time": "2020-01-06T00:10:48.460578Z"
    },
    "code_folding": []
   },
   "outputs": [],
   "source": [
    "# complex_quantifier ::= `{`spcs \n",
    "#    (name_modifier spcs)? \n",
    "#    ([`*+?`] |`,` spcs num | num (spcs `,` spcs num?)? ) spcs \n",
    "#    (seq_handler spcs)*\n",
    "#    `}` ;\n",
    "#def p_complex_quantifier(s,p):"
   ]
  },
  {
   "cell_type": "code",
   "execution_count": 70,
   "metadata": {
    "ExecuteTime": {
     "end_time": "2020-01-06T00:10:48.617587Z",
     "start_time": "2020-01-06T00:10:48.543583Z"
    }
   },
   "outputs": [],
   "source": [
    "assert p_complex_quantifier('{,3',0)==(3, FatalError('ожидалась \"}\"'))"
   ]
  },
  {
   "cell_type": "code",
   "execution_count": 71,
   "metadata": {
    "ExecuteTime": {
     "end_time": "2020-01-06T00:10:48.692591Z",
     "start_time": "2020-01-06T00:10:48.620587Z"
    }
   },
   "outputs": [],
   "source": [
    "assert p_complex_quantifier('{,}',0)==(2, FatalError('ожидалось число'))"
   ]
  },
  {
   "cell_type": "code",
   "execution_count": 72,
   "metadata": {
    "ExecuteTime": {
     "end_time": "2020-01-06T00:10:48.783597Z",
     "start_time": "2020-01-06T00:10:48.700592Z"
    }
   },
   "outputs": [],
   "source": [
    "assert p_complex_quantifier('{,3}',0)==(4, obj(min=0,max=3,name=None,seq_handlers=[],))"
   ]
  },
  {
   "cell_type": "code",
   "execution_count": 73,
   "metadata": {
    "ExecuteTime": {
     "end_time": "2020-01-06T00:10:48.894603Z",
     "start_time": "2020-01-06T00:10:48.791597Z"
    }
   },
   "outputs": [],
   "source": [
    "assert p_complex_quantifier('{3}',0)==(3, obj(min=3,max=3,name=None,seq_handlers=[],))"
   ]
  },
  {
   "cell_type": "code",
   "execution_count": 74,
   "metadata": {
    "ExecuteTime": {
     "end_time": "2020-01-06T00:10:48.975608Z",
     "start_time": "2020-01-06T00:10:48.902603Z"
    }
   },
   "outputs": [],
   "source": [
    "assert p_complex_quantifier('{}',0)==(1, FatalError('ожидалось \"*\" или \"+\" или \"-\" или \",\" или число'))"
   ]
  },
  {
   "cell_type": "code",
   "execution_count": 75,
   "metadata": {
    "ExecuteTime": {
     "end_time": "2020-01-06T00:10:49.083614Z",
     "start_time": "2020-01-06T00:10:48.977608Z"
    }
   },
   "outputs": [],
   "source": [
    "assert p_complex_quantifier('{3-5}',0)==(2, FatalError('ожидалась \"}\"'))"
   ]
  },
  {
   "cell_type": "code",
   "execution_count": 76,
   "metadata": {
    "ExecuteTime": {
     "end_time": "2020-01-06T00:10:49.176619Z",
     "start_time": "2020-01-06T00:10:49.086614Z"
    }
   },
   "outputs": [],
   "source": [
    "assert p_complex_quantifier('{3,5}',0)==(5, obj(min=3,max=5,name=None,seq_handlers=[],))"
   ]
  },
  {
   "cell_type": "code",
   "execution_count": 77,
   "metadata": {
    "ExecuteTime": {
     "end_time": "2020-01-06T00:10:49.266624Z",
     "start_time": "2020-01-06T00:10:49.178619Z"
    }
   },
   "outputs": [],
   "source": [
    "assert p_complex_quantifier('{?}',0)==(3, obj(min=0,max=1,name=None,seq_handlers=[],))"
   ]
  },
  {
   "cell_type": "code",
   "execution_count": 78,
   "metadata": {
    "ExecuteTime": {
     "end_time": "2020-01-06T00:10:49.380631Z",
     "start_time": "2020-01-06T00:10:49.275625Z"
    }
   },
   "outputs": [
    {
     "data": {
      "text/plain": [
       "(21,\n",
       " obj(min=0,max=-1,name=qwe,seq_handlers=[<function <lambda> at 0x00000000053252F0>],))"
      ]
     },
     "execution_count": 78,
     "metadata": {},
     "output_type": "execute_result"
    }
   ],
   "source": [
    "assert p_complex_quantifier('{?qwe=*/*a:a+\"aaa\"*/}',0)[1].seq_handlers[0]('s')=='saaa'\n",
    "p_complex_quantifier('{?qwe=*/*a:a+\"aaa\"*/}',0)"
   ]
  },
  {
   "cell_type": "code",
   "execution_count": 79,
   "metadata": {
    "ExecuteTime": {
     "end_time": "2020-01-06T00:10:49.583642Z",
     "start_time": "2020-01-06T00:10:49.389631Z"
    }
   },
   "outputs": [],
   "source": [
    "assert p_complex_quantifier('{?=,7//a:a+\"aaa\"*/}',0)==(5, FatalError('ожидалась \"}\"'))"
   ]
  },
  {
   "cell_type": "code",
   "execution_count": 80,
   "metadata": {
    "ExecuteTime": {
     "end_time": "2020-01-06T00:10:49.805655Z",
     "start_time": "2020-01-06T00:10:49.591643Z"
    }
   },
   "outputs": [
    {
     "data": {
      "text/plain": [
       "(23,\n",
       " obj(min=0,max=-1,name=qwe,seq_handlers=[<function <lambda> at 0x0000000005625378>],))"
      ]
     },
     "execution_count": 80,
     "metadata": {},
     "output_type": "execute_result"
    }
   ],
   "source": [
    "assert p_complex_quantifier('{?qwe= * /*a:a+\"aaa\"*/}',0)[1].seq_handlers[0]('s')=='saaa'\n",
    "p_complex_quantifier('{?qwe= * /*a:a+\"aaa\"*/}',0)\n"
   ]
  },
  {
   "cell_type": "markdown",
   "metadata": {},
   "source": [
    "## паттерны, связанные с классом"
   ]
  },
  {
   "cell_type": "code",
   "execution_count": null,
   "metadata": {
    "ExecuteTime": {
     "end_time": "2019-12-29T20:16:44.370036Z",
     "start_time": "2019-12-29T20:16:44.282031Z"
    }
   },
   "outputs": [],
   "source": []
  },
  {
   "cell_type": "code",
   "execution_count": 81,
   "metadata": {
    "ExecuteTime": {
     "end_time": "2020-01-06T00:10:49.921662Z",
     "start_time": "2020-01-06T00:10:49.809655Z"
    }
   },
   "outputs": [
    {
     "data": {
      "text/plain": [
       "7"
      ]
     },
     "execution_count": 81,
     "metadata": {},
     "output_type": "execute_result"
    }
   ],
   "source": [
    "class CLS:\n",
    "    pass\n",
    "@method(CLS)\n",
    "def foo(self):\n",
    "    self.k = 7\n",
    "p = CLS()\n",
    "p.foo()\n",
    "p.k"
   ]
  },
  {
   "cell_type": "code",
   "execution_count": null,
   "metadata": {
    "ExecuteTime": {
     "end_time": "2019-12-29T20:16:44.695054Z",
     "start_time": "2019-12-29T20:16:44.591048Z"
    }
   },
   "outputs": [],
   "source": []
  },
  {
   "cell_type": "code",
   "execution_count": 82,
   "metadata": {
    "ExecuteTime": {
     "end_time": "2020-01-06T00:10:50.021667Z",
     "start_time": "2020-01-06T00:10:49.923662Z"
    }
   },
   "outputs": [
    {
     "data": {
      "text/plain": [
       "[1, 2, 3]"
      ]
     },
     "execution_count": 82,
     "metadata": {},
     "output_type": "execute_result"
    }
   ],
   "source": [
    "list((1,2,3))"
   ]
  },
  {
   "cell_type": "code",
   "execution_count": 83,
   "metadata": {
    "ExecuteTime": {
     "end_time": "2020-01-06T00:10:50.187677Z",
     "start_time": "2020-01-06T00:10:50.024668Z"
    }
   },
   "outputs": [
    {
     "data": {
      "text/plain": [
       "[]"
      ]
     },
     "execution_count": 83,
     "metadata": {},
     "output_type": "execute_result"
    }
   ],
   "source": [
    "Elist(1,(1,2,3))"
   ]
  },
  {
   "cell_type": "code",
   "execution_count": 84,
   "metadata": {
    "ExecuteTime": {
     "end_time": "2020-01-06T00:10:50.305684Z",
     "start_time": "2020-01-06T00:10:50.195677Z"
    }
   },
   "outputs": [
    {
     "data": {
      "text/plain": [
       "[]"
      ]
     },
     "execution_count": 84,
     "metadata": {},
     "output_type": "execute_result"
    }
   ],
   "source": [
    "Elist(3,'a')"
   ]
  },
  {
   "cell_type": "code",
   "execution_count": 85,
   "metadata": {
    "ExecuteTime": {
     "end_time": "2020-01-06T00:10:50.449692Z",
     "start_time": "2020-01-06T00:10:50.314684Z"
    }
   },
   "outputs": [
    {
     "name": "stdout",
     "output_type": "stream",
     "text": [
      "a\n"
     ]
    },
    {
     "data": {
      "text/plain": [
       "True"
      ]
     },
     "execution_count": 85,
     "metadata": {},
     "output_type": "execute_result"
    }
   ],
   "source": [
    "x = Elist(3,'a')\n",
    "print(x.mes)\n",
    "x==[]"
   ]
  },
  {
   "cell_type": "code",
   "execution_count": 86,
   "metadata": {
    "ExecuteTime": {
     "end_time": "2020-01-06T00:10:50.653703Z",
     "start_time": "2020-01-06T00:10:50.458692Z"
    }
   },
   "outputs": [
    {
     "data": {
      "text/plain": [
       "list"
      ]
     },
     "execution_count": 86,
     "metadata": {},
     "output_type": "execute_result"
    }
   ],
   "source": [
    "type(Elist(3,'a')+[])"
   ]
  },
  {
   "cell_type": "code",
   "execution_count": null,
   "metadata": {
    "ExecuteTime": {
     "end_time": "2019-12-29T20:16:45.377093Z",
     "start_time": "2019-12-29T20:16:45.249086Z"
    }
   },
   "outputs": [],
   "source": []
  },
  {
   "cell_type": "code",
   "execution_count": null,
   "metadata": {
    "ExecuteTime": {
     "end_time": "2019-12-29T20:16:45.541103Z",
     "start_time": "2019-12-29T20:16:45.385094Z"
    }
   },
   "outputs": [],
   "source": [
    "\n"
   ]
  },
  {
   "cell_type": "markdown",
   "metadata": {},
   "source": [
    "### Вызов"
   ]
  },
  {
   "cell_type": "code",
   "execution_count": 87,
   "metadata": {
    "ExecuteTime": {
     "end_time": "2020-01-06T00:10:51.224736Z",
     "start_time": "2020-01-06T00:10:50.661704Z"
    }
   },
   "outputs": [],
   "source": [
    "#def make_pattern_as_str(self,iden):"
   ]
  },
  {
   "cell_type": "code",
   "execution_count": 88,
   "metadata": {
    "ExecuteTime": {
     "end_time": "2020-01-06T00:10:51.309741Z",
     "start_time": "2020-01-06T00:10:51.228736Z"
    },
    "code_folding": []
   },
   "outputs": [],
   "source": [
    "# reg_str_link ::= `$`  ( ?id=identifier ) /*=>{link:arg.id}* /;\n",
    "#@add_method(Parser)\n",
    "#def p_reg_str_link(self,s,p):"
   ]
  },
  {
   "cell_type": "code",
   "execution_count": 89,
   "metadata": {
    "ExecuteTime": {
     "end_time": "2020-01-06T00:10:51.391746Z",
     "start_time": "2020-01-06T00:10:51.318742Z"
    },
    "code_folding": []
   },
   "outputs": [],
   "source": [
    "# reg_bnf_link ::= {?}`$`  ( ?id=identifier ) /*=>{link:arg.id}* /;\n",
    "#@add_method(Parser)\n",
    "#def p_bnf_str_link(self,s,p):"
   ]
  },
  {
   "cell_type": "code",
   "execution_count": 90,
   "metadata": {
    "ExecuteTime": {
     "end_time": "2020-01-06T00:10:51.467750Z",
     "start_time": "2020-01-06T00:10:51.394746Z"
    },
    "code_folding": []
   },
   "outputs": [],
   "source": [
    "# obj_direct_link ::= `$` ('(' $identifier ')'\n",
    "#                          | '{' $identifier {?}([=:] $identifier)'}');\n",
    "#@add_method(Parser)\n",
    "#def p_obj_direct_link(self,s,p):"
   ]
  },
  {
   "cell_type": "code",
   "execution_count": 91,
   "metadata": {
    "ExecuteTime": {
     "end_time": "2020-01-06T00:10:51.542754Z",
     "start_time": "2020-01-06T00:10:51.475751Z"
    },
    "code_folding": []
   },
   "outputs": [],
   "source": [
    "parser = Parser()\n",
    "assert parser.p_obj_direct_link('p',0)==(0, FatalError('p_obj_direct_link expected'))"
   ]
  },
  {
   "cell_type": "code",
   "execution_count": 92,
   "metadata": {
    "ExecuteTime": {
     "end_time": "2020-01-06T00:10:51.617759Z",
     "start_time": "2020-01-06T00:10:51.550755Z"
    },
    "code_folding": []
   },
   "outputs": [],
   "source": [
    "parser = Parser()\n",
    "assert parser.p_obj_direct_link('$(p)',0)[0]==4"
   ]
  },
  {
   "cell_type": "code",
   "execution_count": 93,
   "metadata": {
    "ExecuteTime": {
     "end_time": "2020-01-06T00:10:51.706764Z",
     "start_time": "2020-01-06T00:10:51.620759Z"
    },
    "code_folding": []
   },
   "outputs": [],
   "source": [
    "parser = Parser()\n",
    "assert parser.p_obj_direct_link('${p}',0)[0]==4"
   ]
  },
  {
   "cell_type": "code",
   "execution_count": 94,
   "metadata": {
    "ExecuteTime": {
     "end_time": "2020-01-06T00:10:51.825771Z",
     "start_time": "2020-01-06T00:10:51.715764Z"
    },
    "code_folding": []
   },
   "outputs": [],
   "source": [
    "parser = Parser()\n",
    "assert parser.p_obj_direct_link('${n:p}',0)[0]==6"
   ]
  },
  {
   "cell_type": "code",
   "execution_count": 95,
   "metadata": {
    "ExecuteTime": {
     "end_time": "2020-01-06T00:10:51.908775Z",
     "start_time": "2020-01-06T00:10:51.833771Z"
    },
    "code_folding": []
   },
   "outputs": [],
   "source": [
    "parser = Parser()\n",
    "assert parser.p_obj_direct_link('${n=p}',0)[0]==6"
   ]
  },
  {
   "cell_type": "code",
   "execution_count": 96,
   "metadata": {
    "ExecuteTime": {
     "end_time": "2020-01-06T00:10:52.000781Z",
     "start_time": "2020-01-06T00:10:51.917776Z"
    },
    "code_folding": []
   },
   "outputs": [],
   "source": [
    "# reg_symbol ::= reg_char|quoted_sequence|reg_class|reg_str_link|obj_direct_link;\n",
    "#@add_method(Parser)\n",
    "#def p_reg_symbol(self,s,p):"
   ]
  },
  {
   "cell_type": "code",
   "execution_count": 97,
   "metadata": {
    "ExecuteTime": {
     "end_time": "2020-01-06T00:10:52.094786Z",
     "start_time": "2020-01-06T00:10:52.008781Z"
    },
    "code_folding": []
   },
   "outputs": [],
   "source": [
    "# bnf_symbol ::= bnf_char|quoted_sequence|bnf_class|bnf_str_link|obj_direct_link;\n",
    "#@add_method(Parser)\n",
    "#def p_bnf_symbol(self,s,p):"
   ]
  },
  {
   "cell_type": "code",
   "execution_count": 98,
   "metadata": {
    "ExecuteTime": {
     "end_time": "2020-01-06T00:10:52.178791Z",
     "start_time": "2020-01-06T00:10:52.102786Z"
    }
   },
   "outputs": [
    {
     "name": "stdout",
     "output_type": "stream",
     "text": [
      "string\n"
     ]
    }
   ],
   "source": [
    "parser = Parser()\n",
    "tmp = parser.p_bnf_symbol('[a-z]',0)\n",
    "print(tmp[1][0])\n",
    "assert tmp[1][1]('s',0)==[(1, 's')]"
   ]
  },
  {
   "cell_type": "code",
   "execution_count": 99,
   "metadata": {
    "ExecuteTime": {
     "end_time": "2020-01-06T00:10:52.281797Z",
     "start_time": "2020-01-06T00:10:52.187791Z"
    }
   },
   "outputs": [
    {
     "name": "stdout",
     "output_type": "stream",
     "text": [
      "string\n"
     ]
    }
   ],
   "source": [
    "parser = Parser()\n",
    "tmp = parser.p_bnf_symbol('\"qwe\"',0)\n",
    "print(tmp[1][0])\n",
    "assert tmp[1][1]('qwe',0)==[(3, 'qwe')]"
   ]
  },
  {
   "cell_type": "code",
   "execution_count": 100,
   "metadata": {
    "ExecuteTime": {
     "end_time": "2020-01-06T00:10:52.368802Z",
     "start_time": "2020-01-06T00:10:52.283797Z"
    }
   },
   "outputs": [],
   "source": [
    "#@add_method(Parser)\n",
    "#def bnf_pattern_symbol(self,name,patt):"
   ]
  },
  {
   "cell_type": "code",
   "execution_count": 101,
   "metadata": {
    "ExecuteTime": {
     "end_time": "2020-01-06T00:10:52.483808Z",
     "start_time": "2020-01-06T00:10:52.378802Z"
    }
   },
   "outputs": [],
   "source": [
    "@method(Parser)\n",
    "def bnf_pattern_symbol(self,name,patt):\n",
    "    p,r = self.p_bnf_symbol(patt,0)\n",
    "    if is_fatal(r):\n",
    "        raise BaseException(r)\n",
    "    tmp = r\n",
    "    p,r = p_spcs(patt,p)\n",
    "    if p!=len(patt):\n",
    "        raise BaseException('разобран не весь паттерн')\n",
    "    self.patterns[name] = tmp[1]\n",
    "\n"
   ]
  },
  {
   "cell_type": "code",
   "execution_count": 102,
   "metadata": {
    "ExecuteTime": {
     "end_time": "2020-01-06T00:10:52.566813Z",
     "start_time": "2020-01-06T00:10:52.485808Z"
    }
   },
   "outputs": [],
   "source": [
    "parser = Parser()\n",
    "parser.bnf_pattern_symbol('main','\"a\"')\n",
    "assert parser.parse('a')=='a'\n",
    "#parser.patterns"
   ]
  },
  {
   "cell_type": "code",
   "execution_count": 103,
   "metadata": {
    "ExecuteTime": {
     "end_time": "2020-01-06T00:10:52.668819Z",
     "start_time": "2020-01-06T00:10:52.568813Z"
    }
   },
   "outputs": [],
   "source": [
    "parser = Parser()\n",
    "parser.bnf_pattern_symbol('main','ppp')\n",
    "parser.bnf_pattern_symbol('ppp','\"a\"')\n",
    "assert parser.parse('a')=='a'\n",
    "#parser.patterns"
   ]
  },
  {
   "cell_type": "code",
   "execution_count": 104,
   "metadata": {
    "ExecuteTime": {
     "end_time": "2020-01-06T00:10:52.751823Z",
     "start_time": "2020-01-06T00:10:52.676819Z"
    }
   },
   "outputs": [],
   "source": [
    "parser = Parser()\n",
    "parser.bnf_pattern_symbol('main','$ppp')\n",
    "parser.bnf_pattern_symbol('ppp','\"a\"')\n",
    "assert parser.parse('a')=='a'\n",
    "#parser.patterns"
   ]
  },
  {
   "cell_type": "code",
   "execution_count": 105,
   "metadata": {
    "ExecuteTime": {
     "end_time": "2020-01-06T00:10:52.833828Z",
     "start_time": "2020-01-06T00:10:52.753824Z"
    }
   },
   "outputs": [],
   "source": [
    "parser = Parser()\n",
    "parser.bnf_pattern_symbol('main','$(ppp)')\n",
    "parser.bnf_pattern_symbol('ppp','\"a\"')\n",
    "assert parser.parse('a')=='a'\n",
    "#parser.patterns"
   ]
  },
  {
   "cell_type": "code",
   "execution_count": 106,
   "metadata": {
    "ExecuteTime": {
     "end_time": "2020-01-06T00:10:52.960835Z",
     "start_time": "2020-01-06T00:10:52.835828Z"
    }
   },
   "outputs": [],
   "source": [
    "parser = Parser()\n",
    "parser.bnf_pattern_symbol('main','${ppp}')\n",
    "parser.bnf_pattern_symbol('ppp','\"a\"')\n",
    "assert parser.parse('a')=={'ppp': 'a'}\n",
    "#parser.patterns"
   ]
  },
  {
   "cell_type": "code",
   "execution_count": 107,
   "metadata": {
    "ExecuteTime": {
     "end_time": "2020-01-06T00:10:53.050841Z",
     "start_time": "2020-01-06T00:10:52.962836Z"
    }
   },
   "outputs": [],
   "source": [
    "parser = Parser()\n",
    "parser.bnf_pattern_symbol('main','${n:ppp}')\n",
    "parser.bnf_pattern_symbol('ppp','\"a\"')\n",
    "assert parser.parse('a')=={'n': 'a'}\n",
    "#parser.patterns"
   ]
  },
  {
   "cell_type": "markdown",
   "metadata": {},
   "source": [
    "### последовательности:"
   ]
  },
  {
   "cell_type": "markdown",
   "metadata": {},
   "source": [
    "* строковые\n",
    "* * имя не указано, все подпоследовательности строковые - конкатенируем, обработчик должен вернуть строку\n",
    "* direct\n",
    "* * имя пустое или не указано, одна из подпоследовательностей direct, все остальные строковые <br>- берем только у того, который direct, все остальные игнорируем, обработчик допустим, если указано пустое имя\n",
    "* * имя пустое, все подпоследовательности строковые - конкатенируем, обработчик допустим\n",
    "* объектные\n",
    "* * имя не указано, подпоследовательности строковые и объектные <br>- объединяем объектные, все остальные игнорируем, обработчик допустим, но при наличии обработчика выдается warning\n",
    "* * имя указано, все подпоследовательности строковые - конкатенируем, обработчик допустим\n",
    "* * имя указано, одна из подпоследовательностей direct, все остальные строковые<br>- берем только у того, который direct, все остальные игнорируем, обработчик допустим"
   ]
  },
  {
   "cell_type": "code",
   "execution_count": null,
   "metadata": {
    "ExecuteTime": {
     "end_time": "2019-12-29T20:40:10.454459Z",
     "start_time": "2019-12-29T20:40:10.404456Z"
    },
    "code_folding": []
   },
   "outputs": [],
   "source": []
  },
  {
   "cell_type": "code",
   "execution_count": null,
   "metadata": {
    "ExecuteTime": {
     "end_time": "2019-12-29T22:09:52.283282Z",
     "start_time": "2019-12-29T22:09:52.262281Z"
    },
    "code_folding": []
   },
   "outputs": [],
   "source": []
  },
  {
   "cell_type": "code",
   "execution_count": null,
   "metadata": {
    "ExecuteTime": {
     "end_time": "2019-12-29T22:09:38.589499Z",
     "start_time": "2019-12-29T22:09:38.565498Z"
    },
    "code_folding": []
   },
   "outputs": [],
   "source": []
  },
  {
   "cell_type": "code",
   "execution_count": 108,
   "metadata": {
    "ExecuteTime": {
     "end_time": "2020-01-06T00:10:53.158847Z",
     "start_time": "2020-01-06T00:10:53.058841Z"
    }
   },
   "outputs": [],
   "source": [
    "parser = Parser()"
   ]
  },
  {
   "cell_type": "code",
   "execution_count": 109,
   "metadata": {
    "ExecuteTime": {
     "end_time": "2020-01-06T00:10:53.270853Z",
     "start_time": "2020-01-06T00:10:53.166847Z"
    }
   },
   "outputs": [
    {
     "name": "stdout",
     "output_type": "stream",
     "text": [
      "1 string\n"
     ]
    }
   ],
   "source": [
    "# вообще работает\n",
    "tmp = parser.p_reg_sequence('a',0)\n",
    "print(tmp[0],tmp[1][0])\n",
    "assert tmp[1][1]('a',0)==[(1, 'a')]"
   ]
  },
  {
   "cell_type": "code",
   "execution_count": 110,
   "metadata": {
    "ExecuteTime": {
     "end_time": "2020-01-06T00:10:53.414861Z",
     "start_time": "2020-01-06T00:10:53.279854Z"
    }
   },
   "outputs": [
    {
     "name": "stdout",
     "output_type": "stream",
     "text": [
      "15 string\n"
     ]
    }
   ],
   "source": [
    "# обработчик\n",
    "tmp = parser.p_reg_sequence('ab/*x:x+\"qwe\"*/',0)\n",
    "print(tmp[0],tmp[1][0])\n",
    "assert tmp[1][1]('ab',0)==[(2, 'abqwe')]"
   ]
  },
  {
   "cell_type": "code",
   "execution_count": 111,
   "metadata": {
    "ExecuteTime": {
     "end_time": "2020-01-06T00:10:53.516867Z",
     "start_time": "2020-01-06T00:10:53.422862Z"
    }
   },
   "outputs": [
    {
     "name": "stdout",
     "output_type": "stream",
     "text": [
      "9 string\n"
     ]
    },
    {
     "name": "stderr",
     "output_type": "stream",
     "text": [
      "обработчик строковой последовательности должен возвращать строку\n"
     ]
    }
   ],
   "source": [
    "# обработчик\n",
    "tmp = parser.p_reg_sequence('ab/*x:2*/',0)\n",
    "print(tmp[0],tmp[1][0])\n",
    "assert tmp[1][1]('ab',0)==[]"
   ]
  },
  {
   "cell_type": "code",
   "execution_count": 112,
   "metadata": {
    "ExecuteTime": {
     "end_time": "2020-01-06T00:10:53.637874Z",
     "start_time": "2020-01-06T00:10:53.526868Z"
    }
   },
   "outputs": [
    {
     "name": "stdout",
     "output_type": "stream",
     "text": [
      "5 string\n"
     ]
    }
   ],
   "source": [
    "# str_cat\n",
    "tmp = parser.p_reg_sequence(r'\\Qa\\E',0)\n",
    "print(tmp[0],tmp[1][0])\n",
    "assert tmp[1][1]('a',0)==[(1, 'a')]"
   ]
  },
  {
   "cell_type": "code",
   "execution_count": 113,
   "metadata": {
    "ExecuteTime": {
     "end_time": "2020-01-06T00:10:53.747880Z",
     "start_time": "2020-01-06T00:10:53.639874Z"
    }
   },
   "outputs": [
    {
     "name": "stdout",
     "output_type": "stream",
     "text": [
      "10 string\n"
     ]
    }
   ],
   "source": [
    "# str_cat\n",
    "tmp = parser.p_reg_sequence(r'\\Qa\\E\\Qb\\E',0)\n",
    "print(tmp[0],tmp[1][0])\n",
    "assert tmp[1][1]('ab',0)==[(2, 'ab')]"
   ]
  },
  {
   "cell_type": "code",
   "execution_count": 114,
   "metadata": {
    "ExecuteTime": {
     "end_time": "2020-01-06T00:10:53.968893Z",
     "start_time": "2020-01-06T00:10:53.756881Z"
    }
   },
   "outputs": [
    {
     "name": "stdout",
     "output_type": "stream",
     "text": [
      "7 string\n"
     ]
    }
   ],
   "source": [
    "# str_cat\n",
    "tmp = parser.p_reg_sequence('a[qwe]b',0)\n",
    "print(tmp[0],tmp[1][0])\n",
    "assert tmp[1][1]('aqb',0)==[(3, 'aqb')]"
   ]
  },
  {
   "cell_type": "code",
   "execution_count": 115,
   "metadata": {
    "ExecuteTime": {
     "end_time": "2020-01-06T00:10:54.194906Z",
     "start_time": "2020-01-06T00:10:53.976894Z"
    },
    "scrolled": false
   },
   "outputs": [
    {
     "name": "stdout",
     "output_type": "stream",
     "text": [
      "10 string\n"
     ]
    }
   ],
   "source": [
    "# str_cat\n",
    "tmp = parser.p_reg_sequence('a([qwe]x)b',0)\n",
    "print(tmp[0],tmp[1][0])\n",
    "assert tmp[1][1]('aqxb',0)==[(4, 'aqxb')]"
   ]
  },
  {
   "cell_type": "code",
   "execution_count": 116,
   "metadata": {
    "ExecuteTime": {
     "end_time": "2020-01-06T00:10:54.391917Z",
     "start_time": "2020-01-06T00:10:54.203907Z"
    }
   },
   "outputs": [
    {
     "name": "stdout",
     "output_type": "stream",
     "text": [
      "10 obj\n"
     ]
    }
   ],
   "source": [
    "# объекты\n",
    "tmp = parser.p_reg_sequence('?nnn=[qwe]',0)\n",
    "print(tmp[0],tmp[1][0])\n",
    "assert tmp[1][1]('q',0)==[(1, {'nnn': 'q'})]"
   ]
  },
  {
   "cell_type": "code",
   "execution_count": 117,
   "metadata": {
    "ExecuteTime": {
     "end_time": "2020-01-06T00:10:54.570928Z",
     "start_time": "2020-01-06T00:10:54.393917Z"
    }
   },
   "outputs": [
    {
     "name": "stdout",
     "output_type": "stream",
     "text": [
      "14 obj\n"
     ]
    }
   ],
   "source": [
    "# implicit_obj_join\n",
    "tmp = parser.p_reg_sequence('a(?nnn=[qwe])b',0)\n",
    "print(tmp[0],tmp[1][0])\n",
    "assert tmp[1][1]('aqb',0)==[(3, {'nnn': 'q'})]"
   ]
  },
  {
   "cell_type": "code",
   "execution_count": 118,
   "metadata": {
    "ExecuteTime": {
     "end_time": "2020-01-06T00:10:54.663933Z",
     "start_time": "2020-01-06T00:10:54.581928Z"
    }
   },
   "outputs": [
    {
     "name": "stdout",
     "output_type": "stream",
     "text": [
      "24 obj\n"
     ]
    }
   ],
   "source": [
    "# implicit_obj_join\n",
    "tmp = parser.p_reg_sequence('a(?n1=[qwe])b(?n2=[asd])',0)\n",
    "print(tmp[0],tmp[1][0])\n",
    "assert tmp[1][1]('aqba',0)==[(4, {'n1': 'q', 'n2': 'a'})]"
   ]
  },
  {
   "cell_type": "code",
   "execution_count": 119,
   "metadata": {
    "ExecuteTime": {
     "end_time": "2020-01-06T00:10:54.780940Z",
     "start_time": "2020-01-06T00:10:54.673933Z"
    }
   },
   "outputs": [
    {
     "name": "stdout",
     "output_type": "stream",
     "text": [
      "7 direct\n"
     ]
    }
   ],
   "source": [
    "# direct\n",
    "tmp = parser.p_reg_sequence('?=[qwe]',0)\n",
    "print(tmp[0],tmp[1][0])\n",
    "assert tmp[1][1]('q',0)==[(1, 'q')]"
   ]
  },
  {
   "cell_type": "code",
   "execution_count": 120,
   "metadata": {
    "ExecuteTime": {
     "end_time": "2020-01-06T00:10:54.860944Z",
     "start_time": "2020-01-06T00:10:54.789940Z"
    }
   },
   "outputs": [
    {
     "name": "stdout",
     "output_type": "stream",
     "text": [
      "18 direct\n"
     ]
    }
   ],
   "source": [
    "# implicit_direct_direct\n",
    "tmp = parser.p_reg_sequence('a(?=[qwe])b([asd])',0)\n",
    "print(tmp[0],tmp[1][0])\n",
    "assert tmp[1][1]('aqba',0)==[(4, 'q')]"
   ]
  },
  {
   "cell_type": "code",
   "execution_count": 121,
   "metadata": {
    "ExecuteTime": {
     "end_time": "2020-01-06T00:10:54.968950Z",
     "start_time": "2020-01-06T00:10:54.863944Z"
    }
   },
   "outputs": [
    {
     "name": "stdout",
     "output_type": "stream",
     "text": [
      "в последовательности количество direct подпоследовательностей не должно превышать одну\n"
     ]
    }
   ],
   "source": [
    "# implicit_direct_direct\n",
    "assert parser.p_reg_sequence('a(?=[qwe])b(?=[asd])',0)==\\\n",
    "(20,\n",
    " FatalError('в последовательности количество direct подпоследовательностей не должно превышать одну'))\n"
   ]
  },
  {
   "cell_type": "code",
   "execution_count": 122,
   "metadata": {
    "ExecuteTime": {
     "end_time": "2020-01-06T00:10:55.056955Z",
     "start_time": "2020-01-06T00:10:54.976951Z"
    },
    "scrolled": true
   },
   "outputs": [
    {
     "name": "stdout",
     "output_type": "stream",
     "text": [
      "радом с direct-последовательностью находятся объектные последовательности\n"
     ]
    }
   ],
   "source": [
    "# implicit_direct_direct\n",
    "assert parser.p_reg_sequence('a(?=[qwe])b(?nnn=[asd])',0)==\\\n",
    "(23,\n",
    " FatalError('радом с direct-последовательностью находятся объектные последовательности'))"
   ]
  },
  {
   "cell_type": "code",
   "execution_count": 123,
   "metadata": {
    "ExecuteTime": {
     "end_time": "2020-01-06T00:10:55.169962Z",
     "start_time": "2020-01-06T00:10:55.059956Z"
    }
   },
   "outputs": [
    {
     "name": "stdout",
     "output_type": "stream",
     "text": [
      "16 direct\n"
     ]
    }
   ],
   "source": [
    "# direct_str_cat\n",
    "tmp = parser.p_reg_sequence('a(?=[qwe][asd])b',0)\n",
    "print(tmp[0],tmp[1][0])\n",
    "assert tmp[1][1]('aqab',0)==[(4, 'qa')]"
   ]
  },
  {
   "cell_type": "code",
   "execution_count": 124,
   "metadata": {
    "ExecuteTime": {
     "end_time": "2020-01-06T00:10:55.272968Z",
     "start_time": "2020-01-06T00:10:55.177962Z"
    }
   },
   "outputs": [
    {
     "name": "stdout",
     "output_type": "stream",
     "text": [
      "21 direct\n"
     ]
    }
   ],
   "source": [
    "# direct error warning\n",
    "tmp = parser.p_reg_sequence('?=a(?nnn=[qwe][asd])b',0)\n",
    "print(tmp[0],tmp[1][0])\n",
    "assert tmp[1][1]('aqab',0)==[(4, {'nnn': 'qa'})]"
   ]
  },
  {
   "cell_type": "code",
   "execution_count": 125,
   "metadata": {
    "ExecuteTime": {
     "end_time": "2020-01-06T00:10:55.375974Z",
     "start_time": "2020-01-06T00:10:55.274968Z"
    }
   },
   "outputs": [
    {
     "name": "stdout",
     "output_type": "stream",
     "text": [
      "18 direct\n"
     ]
    }
   ],
   "source": [
    "# direct direct\n",
    "tmp = parser.p_reg_sequence('?=a(?=[qwe][asd])b',0)\n",
    "print(tmp[0],tmp[1][0])\n",
    "assert tmp[1][1]('aqab',0)==[(4, 'qa')]"
   ]
  },
  {
   "cell_type": "code",
   "execution_count": 126,
   "metadata": {
    "ExecuteTime": {
     "end_time": "2020-01-06T00:10:55.484980Z",
     "start_time": "2020-01-06T00:10:55.384974Z"
    }
   },
   "outputs": [
    {
     "name": "stdout",
     "output_type": "stream",
     "text": [
      "радом с direct-последовательностью находятся объектные последовательности\n"
     ]
    }
   ],
   "source": [
    "# direct error\n",
    "assert parser.p_reg_sequence('?=a(?=[qwe])(?n=[asd])b',0)==\\\n",
    "(23,\n",
    " FatalError('радом с direct-последовательностью находятся объектные последовательности'))"
   ]
  },
  {
   "cell_type": "code",
   "execution_count": 127,
   "metadata": {
    "ExecuteTime": {
     "end_time": "2020-01-06T00:10:55.583985Z",
     "start_time": "2020-01-06T00:10:55.492980Z"
    }
   },
   "outputs": [
    {
     "name": "stdout",
     "output_type": "stream",
     "text": [
      "11 obj\n"
     ]
    }
   ],
   "source": [
    "# obj_str_cat\n",
    "tmp = parser.p_reg_sequence('?nn=a[qwe]b',0)\n",
    "print(tmp[0],tmp[1][0])\n",
    "assert tmp[1][1]('aqb',0)==[(3, {'nn': 'aqb'})]"
   ]
  },
  {
   "cell_type": "code",
   "execution_count": 128,
   "metadata": {
    "ExecuteTime": {
     "end_time": "2020-01-06T00:10:55.681991Z",
     "start_time": "2020-01-06T00:10:55.593986Z"
    }
   },
   "outputs": [
    {
     "name": "stdout",
     "output_type": "stream",
     "text": [
      "28 obj\n"
     ]
    }
   ],
   "source": [
    "# obj_join\n",
    "tmp = parser.p_reg_sequence('?n3=a(?n1=[qwe])b(?n2=[asd])',0)\n",
    "print(tmp[0],tmp[1][0])\n",
    "assert tmp[1][1]('aqba',0)==[(4, {'n3': {'n1': 'q', 'n2': 'a'}})]"
   ]
  },
  {
   "cell_type": "code",
   "execution_count": 129,
   "metadata": {
    "ExecuteTime": {
     "end_time": "2020-01-06T00:10:55.770996Z",
     "start_time": "2020-01-06T00:10:55.683991Z"
    }
   },
   "outputs": [
    {
     "name": "stdout",
     "output_type": "stream",
     "text": [
      "22 obj\n"
     ]
    }
   ],
   "source": [
    "# obj_direct\n",
    "tmp = parser.p_reg_sequence('?n3=a(?=[qwe])b([asd])',0)\n",
    "print(tmp[0],tmp[1][0])\n",
    "assert tmp[1][1]('aqba',0)==[(4, {'n3': 'q'})]"
   ]
  },
  {
   "cell_type": "markdown",
   "metadata": {},
   "source": [
    "### циклы"
   ]
  },
  {
   "cell_type": "markdown",
   "metadata": {},
   "source": [
    "* строковые\n",
    "* * имя не указано, паттерн строковый - конкатенируем, обработчик должен вернуть строку\n",
    "* direct\n",
    "* * имя либо не указано либо пустое, паттерн - объект или direct <br>- объединяем в массив, обработчик допустим, если указано пустое имя\n",
    "* * имя пустое, паттерн строковый - конкатенируем, обработчик допустим\n",
    "* объект\n",
    "* * имя указано, паттерн - объект или direct - объединяем в массив, обработчик допустим\n",
    "* * имя указано, паттерн строковый - конкатенируем, обработчик допустим\n",
    "\n",
    "квантификаторы бывают простыми `[+*?]` и составными `{...}` <br>\n",
    "в регулярном синтаксисе квантификаторы идут после символа или скобок (постфиксно)<br>\n",
    "в bnf-синтаксисе простой квантификатор идет посфиксно, а составной - префиксно\n",
    "\n",
    "все циклы кроме `{0-1}` или `?` - сверхжадные и агрессивные<br>\n",
    "сверхжадные - пытаются прочитать как можно больше, и более короткие варианты не возвращают ([Ревнивая квантификация (сверхжадная)](https://ru.wikipedia.org/wiki/%D0%A0%D0%B5%D0%B3%D1%83%D0%BB%D1%8F%D1%80%D0%BD%D1%8B%D0%B5_%D0%B2%D1%8B%D1%80%D0%B0%D0%B6%D0%B5%D0%BD%D0%B8%D1%8F#%D0%A0%D0%B5%D0%B2%D0%BD%D0%B8%D0%B2%D0%B0%D1%8F_%D0%BA%D0%B2%D0%B0%D0%BD%D1%82%D0%B8%D1%84%D0%B8%D0%BA%D0%B0%D1%86%D0%B8%D1%8F_(%D1%81%D0%B2%D0%B5%D1%80%D1%85%D0%B6%D0%B0%D0%B4%D0%BD%D0%B0%D1%8F))) <br>\n",
    "агрессивные - если паттерн возвращает несколько вариантов - остается только первый\n",
    "\n"
   ]
  },
  {
   "cell_type": "code",
   "execution_count": null,
   "metadata": {
    "ExecuteTime": {
     "end_time": "2019-12-29T20:16:52.113479Z",
     "start_time": "2019-12-29T20:16:51.955470Z"
    }
   },
   "outputs": [],
   "source": []
  },
  {
   "cell_type": "code",
   "execution_count": 130,
   "metadata": {
    "ExecuteTime": {
     "end_time": "2020-01-06T00:10:55.963007Z",
     "start_time": "2020-01-06T00:10:55.775996Z"
    }
   },
   "outputs": [
    {
     "name": "stdout",
     "output_type": "stream",
     "text": [
      "2 string\n"
     ]
    }
   ],
   "source": [
    "# \n",
    "tmp = parser.p_reg_sequence('a*',0)\n",
    "print(tmp[0],tmp[1][0])\n",
    "assert tmp[1][1]('aaa',0)==[(3, 'aaa')]"
   ]
  },
  {
   "cell_type": "code",
   "execution_count": 131,
   "metadata": {
    "ExecuteTime": {
     "end_time": "2020-01-06T00:10:56.057013Z",
     "start_time": "2020-01-06T00:10:55.967007Z"
    }
   },
   "outputs": [
    {
     "name": "stdout",
     "output_type": "stream",
     "text": [
      "2 string\n"
     ]
    }
   ],
   "source": [
    "# \n",
    "tmp = parser.p_reg_sequence('a?',0)\n",
    "print(tmp[0],tmp[1][0])\n",
    "assert tmp[1][1]('b',0)==[(0, '')]"
   ]
  },
  {
   "cell_type": "code",
   "execution_count": 132,
   "metadata": {
    "ExecuteTime": {
     "end_time": "2020-01-06T00:10:56.194020Z",
     "start_time": "2020-01-06T00:10:56.060013Z"
    }
   },
   "outputs": [
    {
     "name": "stdout",
     "output_type": "stream",
     "text": [
      "6 direct\n"
     ]
    }
   ],
   "source": [
    "# \n",
    "tmp = parser.p_reg_sequence('(?=a)*',0)\n",
    "print(tmp[0],tmp[1][0])\n",
    "assert tmp[1][1]('aaa',0)==[(3, ['a', 'a', 'a'])]"
   ]
  },
  {
   "cell_type": "code",
   "execution_count": null,
   "metadata": {},
   "outputs": [],
   "source": []
  },
  {
   "cell_type": "markdown",
   "metadata": {},
   "source": [
    "### перечисления (альтернатив)"
   ]
  },
  {
   "cell_type": "markdown",
   "metadata": {},
   "source": [
    "* direct - если хотябы одна из альтернатив direct\n",
    "* * direct - OK\n",
    "* * объект - Warning при компиляции, ОК при выполнении\n",
    "* * строка - Warning при компиляции, {} (пустой объект) при выполнении\n",
    "* объектное - иначе если хотябы одна из альтернатив объектная\n",
    "* * объект - ОК\n",
    "* * строка - Warning при компиляции, {} (пустой объект) при выполнении\n",
    "* строковое - иначе\n",
    "* * строка - ОК"
   ]
  },
  {
   "cell_type": "code",
   "execution_count": null,
   "metadata": {
    "ExecuteTime": {
     "end_time": "2019-12-29T22:09:05.429602Z",
     "start_time": "2019-12-29T22:09:05.409601Z"
    }
   },
   "outputs": [],
   "source": []
  },
  {
   "cell_type": "code",
   "execution_count": null,
   "metadata": {
    "ExecuteTime": {
     "end_time": "2019-12-29T22:14:26.684977Z",
     "start_time": "2019-12-29T22:14:26.672976Z"
    }
   },
   "outputs": [],
   "source": []
  },
  {
   "cell_type": "code",
   "execution_count": null,
   "metadata": {
    "ExecuteTime": {
     "end_time": "2019-12-29T22:14:32.618316Z",
     "start_time": "2019-12-29T22:14:32.605316Z"
    }
   },
   "outputs": [],
   "source": []
  },
  {
   "cell_type": "code",
   "execution_count": null,
   "metadata": {},
   "outputs": [],
   "source": []
  },
  {
   "cell_type": "code",
   "execution_count": null,
   "metadata": {},
   "outputs": [],
   "source": []
  },
  {
   "cell_type": "code",
   "execution_count": null,
   "metadata": {},
   "outputs": [],
   "source": []
  }
 ],
 "metadata": {
  "hide_input": false,
  "kernelspec": {
   "display_name": "Python 3",
   "language": "python",
   "name": "python3"
  },
  "language_info": {
   "codemirror_mode": {
    "name": "ipython",
    "version": 3
   },
   "file_extension": ".py",
   "mimetype": "text/x-python",
   "name": "python",
   "nbconvert_exporter": "python",
   "pygments_lexer": "ipython3",
   "version": "3.6.7"
  }
 },
 "nbformat": 4,
 "nbformat_minor": 2
}
