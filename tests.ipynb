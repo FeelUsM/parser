{
 "cells": [
  {
   "cell_type": "markdown",
   "metadata": {},
   "source": [
    "* модификаторы относятся к последовательносям а не к скобкам\n",
    "* функции могут быть\n",
    "* * строковые - возвращают строку\n",
    "* * direct - возвращают что угодно\n",
    "* * объектные - возвращают объект (словарь)\n",
    "* символы - строковые\n",
    "* последовательности:\n",
    "* * строковые\n",
    "* * * имя не указано, все подпоследовательности строковые - конкатенируем, обработчик должен вернуть строку\n",
    "* * direct\n",
    "* * * имя пустое или не указано, одна из подпоследовательностей direct, все остальные строковые <br>- берем только у того, который direct, все остальные игнорируем, обработчик допустим, если указано пустое имя\n",
    "* * * имя пустое, все подпоследовательности строковые - конкатенируем, обработчик допустим\n",
    "* * объектные\n",
    "* * * имя не указано, подпоследовательности строковые и объектные <br>- объединяем объектные, все остальные игнорируем, обработчик допустим, но при наличии обработчика выдается warning\n",
    "* * * имя указано, все подпоследовательности строковые - конкатенируем, обработчик допустим\n",
    "* * * имя указано, одна из подпоследовательностей direct, все остальные строковые<br>- берем только у того, который direct, все остальные игнорируем, обработчик допустим\n",
    "* циклы\n",
    "* * строковые\n",
    "* * * имя не указано, паттерн строковый - конкатенируем, обработчик должен вернуть строку\n",
    "* * direct\n",
    "* * * имя либо не указано либо пустое, паттерн - объект или direct <br>- объединяем в массив, обработчик допустим, если указано пустое имя\n",
    "* * * имя пустое, паттерн строковый - конкатенируем, обработчик допустим\n",
    "* * объект\n",
    "* * * имя указано, паттерн - объект или direct - объединяем в массив, обработчик допустим\n",
    "* * * имя указано, паттерн строковый - конкатенируем, обработчик допустим\n",
    "* перечисления (альтернатив)\n",
    "* * direct - если хотябы одна из альтернатив direct\n",
    "* * * direct - OK\n",
    "* * * объект - Warning при компиляции, ОК при выполнении\n",
    "* * * строка - Warning при компиляции, {} (пустой объект) при выполнении\n",
    "* * объектное - иначе если хотябы одна из альтернатив объектная\n",
    "* * * объект - ОК\n",
    "* * * строка - Warning при компиляции, {} (пустой объект) при выполнении\n",
    "* * строковое - иначе\n",
    "* * * строка - ОК\n",
    "* вызов\n",
    "* * строковый - `identifier` или `$identifier`\n",
    "* * * строковый - ОК\n",
    "* * * нестроковый - результат заменяется на NoConcat(identifier)\n",
    "* * * * при конкатенации если хотябы один из результатов NoConcat, то весь результат NoConcat\n",
    "* * * * при попадании результата NoConcat в объект, direct или обработчик происходит ошибка\n",
    "* * объектный - `${name[:=]identifier}` или `${identifier}`. во втором случае name=identifier\n",
    "* * * проверка типа результата не происходит\n",
    "* * direct - `$(identifier)`\n",
    "* * * проверка типа результата не происходит\n",
    "----\n",
    "* обработчики последовательностей `/*code*/` - относятся к последовательностям - получают 1 результат\n",
    "* * строковые и direct последовательности передают 1 аргумент\n",
    "* * объектные последовательности передают объект через `**`, как показано в примере ниже\n",
    "* обработчики перечислений `//code*/` - относятся к скобкам - получают список результатов \n",
    "----\n",
    "* 1-строчные обработчики в начале дополняются `lambda`, аргументы должны быть без скобок\n",
    "* многострочные обработчики в начале дополняются `def foo`, аргументы должны быть в скобках\n",
    "----\n",
    "* todo модификатор `?!`\n",
    "* todo отложенное выполнение обработчиков циклов\n",
    "* todo конкатенация символов и строк (и классов...) в последовательностях и последующая их обработка"
   ]
  },
  {
   "cell_type": "code",
   "execution_count": 1,
   "metadata": {
    "ExecuteTime": {
     "end_time": "2020-01-01T14:49:11.457378Z",
     "start_time": "2020-01-01T14:49:11.427376Z"
    }
   },
   "outputs": [],
   "source": [
    "from my_parser import *"
   ]
  },
  {
   "cell_type": "code",
   "execution_count": 2,
   "metadata": {
    "ExecuteTime": {
     "end_time": "2020-01-01T14:49:11.526381Z",
     "start_time": "2020-01-01T14:49:11.464378Z"
    }
   },
   "outputs": [
    {
     "data": {
      "text/plain": [
       "obj(min=4,asd=6,)"
      ]
     },
     "execution_count": 2,
     "metadata": {},
     "output_type": "execute_result"
    }
   ],
   "source": [
    "obj(min=4,asd=6)"
   ]
  },
  {
   "cell_type": "code",
   "execution_count": 3,
   "metadata": {
    "ExecuteTime": {
     "end_time": "2020-01-01T14:49:11.724393Z",
     "start_time": "2020-01-01T14:49:11.542382Z"
    }
   },
   "outputs": [
    {
     "data": {
      "text/plain": [
       "'__main__'"
      ]
     },
     "execution_count": 3,
     "metadata": {},
     "output_type": "execute_result"
    }
   ],
   "source": [
    "globals()['__name__']"
   ]
  },
  {
   "cell_type": "code",
   "execution_count": 4,
   "metadata": {
    "ExecuteTime": {
     "end_time": "2020-01-01T14:49:11.839399Z",
     "start_time": "2020-01-01T14:49:11.728393Z"
    }
   },
   "outputs": [
    {
     "data": {
      "text/plain": [
       "True"
      ]
     },
     "execution_count": 4,
     "metadata": {},
     "output_type": "execute_result"
    }
   ],
   "source": [
    "any(x==2 for x in [1,2,3])"
   ]
  },
  {
   "cell_type": "markdown",
   "metadata": {
    "ExecuteTime": {
     "end_time": "2019-12-22T09:49:36.834706Z",
     "start_time": "2019-12-22T09:49:18.645665Z"
    }
   },
   "source": [
    "```\n",
    "в метапарсере:\n",
    "передаем (str,pos) или (s,p)\n",
    "возвращаем (pos,res) или (pos,FatalError())\n",
    "    res - результат: (тип, функция)\n",
    "    тип:\n",
    "        string\n",
    "        obj\n",
    "        direct\n",
    "\n",
    "в парсере:\n",
    "передаем (str,pos) или (s,p)\n",
    "возвращаем список [(pos,res)]\n",
    "\n",
    "типы функций: string, obj, direct\n",
    "```    "
   ]
  },
  {
   "cell_type": "code",
   "execution_count": null,
   "metadata": {
    "ExecuteTime": {
     "end_time": "2019-12-29T20:16:33.237399Z",
     "start_time": "2019-12-29T20:16:33.120392Z"
    }
   },
   "outputs": [],
   "source": []
  },
  {
   "cell_type": "code",
   "execution_count": 5,
   "metadata": {
    "ExecuteTime": {
     "end_time": "2020-01-01T14:49:11.932405Z",
     "start_time": "2020-01-01T14:49:11.841400Z"
    }
   },
   "outputs": [
    {
     "data": {
      "text/plain": [
       "FatalError('mes')"
      ]
     },
     "execution_count": 5,
     "metadata": {},
     "output_type": "execute_result"
    }
   ],
   "source": [
    "FatalError('mes')"
   ]
  },
  {
   "cell_type": "code",
   "execution_count": 6,
   "metadata": {
    "ExecuteTime": {
     "end_time": "2020-01-01T14:49:12.036411Z",
     "start_time": "2020-01-01T14:49:11.934405Z"
    }
   },
   "outputs": [
    {
     "data": {
      "text/plain": [
       "'возвращет пару (тип, pp_функция)'"
      ]
     },
     "execution_count": 6,
     "metadata": {},
     "output_type": "execute_result"
    }
   ],
   "source": [
    "# spc :=[\\ \\r\\n\\t\\v\\f]|`(|`(?!`|)`|.)*`|)`|`||`[^\\r\\n\\v\\f]*[\\r\\n\\v\\f];\n",
    "    \"\"\"возвращает пробел\"\"\"\n",
    "#   todo комментарии не реализованы\n",
    "# spcs:=$spc*;\n",
    "    \"\"\"возвращает пробел\"\"\"\n",
    "# num :=[0-9]+;\n",
    "    \"\"\"возвращает число\"\"\"\n",
    "# identifier :=[a-zA-Z_][a-zA-Z_0-9]*;\n",
    "    \"\"\"возвращает строку\"\"\"\n",
    "# quoted_sequence ::=\\` ( [^\\`\\\\] | \\\\\\` | \\\\\\\\)* \\` ;\n",
    "    \"\"\"возвращает строку\"\"\"\n",
    "#   todo сделать обычные кавычки для bnf\n",
    "# reg_char :=[^\\\\\\/\\``;|$.*+?()[]{}`]|\\\\.;\n",
    "#  || здесь перечислены управляющие символы, остальные символы считаются обычными\n",
    "#  || ^-\\/`;|$.*+?()[]{}\n",
    "    \"\"\"возвращает символ\"\"\"\n",
    "# bnf_char :=\\\\.;\n",
    "#  || любые символы считаются управляющими, обычные символы надо брать в кавычки или экранировать\n",
    "#  а управляющие символы сначала надо брать в кавычки а потом еще и экранировать внутри кавычек\n",
    "    \"\"\"возвращает символ\"\"\"\n",
    "# reg_class_char ::= [^\\\\\\/\\``^-;|$.*+?()[]{}`] | `\\\\`.;\n",
    "#  || к управляющим символам добавляется `^-`, пробелы разрешены\n",
    "    \"\"\"возвращает символ\"\"\"\n",
    "# bnf_class_char ::= [^\\\\\\/\\``^-;|$.*+?()[]{} `]| `\\\\`.;\n",
    "#  || к управляющим символам добавляется `^-`, пробелы запрещены\n",
    "    \"\"\"возвращает символ\"\"\"\n",
    "# reg_class ::= `.` | `[``^`?  (reg_classChar(`-`reg_classChar)?   |quotedSequence     )*`]` \n",
    "#  / *=>new RegExp(arg)* /;\n",
    "    \"\"\"возвращает pp_функцию\"\"\"\n",
    "# bnf_class ::= `.` | `[``^`? spcs \n",
    "#    (bnf_classChar(`-`bnf_classChar)? spcs |quotedSequence spcs)*`]` \n",
    "#  / *=>new RegExp(arg)* /;\n",
    "    \"\"\"возвращает pp_функцию\"\"\"\n",
    "# name_modifier ::= `?` identifier? `=`  || имя последовательности - имя результата\n",
    "    \"\"\"возвращет строку\"\"\"\n",
    "# seq_handler ::= `/*`(?!`*/`|.)*`*/`\n",
    "    \"\"\"возвращает функцию-обработчик\"\"\"\n",
    "# alt_handler ::= `//`(?!`*/`|.)*`*/`\n",
    "    \"\"\"возвращает функцию-обработчик\"\"\"\n",
    "# simple_quantifier ::= [`*+?`]\n",
    "    \"\"\"возвращает объект {min:int, max:int, name:..., seq_handler:..., alt_handler:...}\"\"\"\n",
    "# complex_quantifier ::=  `{`spcs \n",
    "#    (name_modifier spcs)? \n",
    "#    ([`*+?`] |`,` spcs num | num (spcs `,` spcs num?)? ) spcs \n",
    "#    (seq_handler spcs)?\n",
    "#    (alt_handler spcs)?\n",
    "#    `}` ;\n",
    "    \"\"\"возвращает объект {min:int, max:int, name:..., seq_handler:..., alt_handler:...}\"\"\"\n",
    "#-----\n",
    "# reg_str_link ::= `$`  ( ?id=identifier ) /*=>{link:arg.id}* /;\n",
    "    \"\"\"возвращет пару (тип, pp_функция)\"\"\"\n",
    "# reg_bnf_link ::= {?}`$`  ( ?id=identifier ) /*=>{link:arg.id}* /;\n",
    "    \"\"\"возвращет пару (тип, pp_функция)\"\"\"\n",
    "# obj_direct_link ::= `$` ('(' $identifier ')'\n",
    "#                          | '{' $identifier {?}([=:] $identifier)'}');\n",
    "    \"\"\"возвращет пару (тип, pp_функция)\"\"\"\n",
    "# reg_symbol ::= reg_char|quoted_sequence|reg_class|reg_str_link|obj_direct_link;\n",
    "    \"\"\"возвращет пару (тип, pp_функция)\"\"\"\n",
    "# bnf_symbol ::= bnf_char|quoted_sequence|bnf_class|bnf_str_link|obj_direct_link;\n",
    "    \"\"\"возвращет пару (тип, pp_функция)\"\"\"\n",
    "#reg_sequence ::=\n",
    "#    name_modifier?\n",
    "#    ( ( reg_symbol | `(` reg_alternatives`)` ) ## пока reg_alternatives -> reg_sequence\n",
    "#       ## quantifier?\n",
    "#    )+\n",
    "#    (seq_handler spcs)*;\n",
    "    \"\"\"возвращет пару (тип, pp_функция)\"\"\"\n"
   ]
  },
  {
   "cell_type": "markdown",
   "metadata": {
    "heading_collapsed": true
   },
   "source": [
    "## свободные паттерны"
   ]
  },
  {
   "cell_type": "code",
   "execution_count": 7,
   "metadata": {
    "ExecuteTime": {
     "end_time": "2020-01-01T14:49:12.130416Z",
     "start_time": "2020-01-01T14:49:12.045411Z"
    },
    "hidden": true
   },
   "outputs": [],
   "source": [
    "# spc :=[\\ \\r\\n\\t\\v\\f]|`(|`(?!`|)`|.)*`|)`|`||`[^\\r\\n\\v\\f]*[\\r\\n\\v\\f];\n",
    "# комментарии потом реализуем, если понадобится\n",
    "#def p_spc(s,p):"
   ]
  },
  {
   "cell_type": "code",
   "execution_count": 8,
   "metadata": {
    "ExecuteTime": {
     "end_time": "2020-01-01T14:49:12.236422Z",
     "start_time": "2020-01-01T14:49:12.133416Z"
    },
    "hidden": true
   },
   "outputs": [],
   "source": [
    "assert p_spc(' ',0)==(1, ' ')"
   ]
  },
  {
   "cell_type": "code",
   "execution_count": 9,
   "metadata": {
    "ExecuteTime": {
     "end_time": "2020-01-01T14:49:12.354429Z",
     "start_time": "2020-01-01T14:49:12.238422Z"
    },
    "hidden": true
   },
   "outputs": [],
   "source": [
    "assert p_spc('',0)==(0, FatalError('ожидался пробел'))"
   ]
  },
  {
   "cell_type": "code",
   "execution_count": 10,
   "metadata": {
    "ExecuteTime": {
     "end_time": "2020-01-01T14:49:12.438434Z",
     "start_time": "2020-01-01T14:49:12.356429Z"
    },
    "hidden": true
   },
   "outputs": [],
   "source": [
    "# spcs:=$spc*;\n",
    "#def p_spcs(s,p):"
   ]
  },
  {
   "cell_type": "code",
   "execution_count": 11,
   "metadata": {
    "ExecuteTime": {
     "end_time": "2020-01-01T14:49:12.527439Z",
     "start_time": "2020-01-01T14:49:12.441434Z"
    },
    "hidden": true
   },
   "outputs": [],
   "source": [
    "assert p_spcs('1   ',4)==(4, ' ')"
   ]
  },
  {
   "cell_type": "code",
   "execution_count": 12,
   "metadata": {
    "ExecuteTime": {
     "end_time": "2020-01-01T14:49:12.620444Z",
     "start_time": "2020-01-01T14:49:12.529439Z"
    },
    "code_folding": [],
    "hidden": true
   },
   "outputs": [],
   "source": [
    "# num :=[0-9]+;\n",
    "#def p_num(s,p):"
   ]
  },
  {
   "cell_type": "code",
   "execution_count": 13,
   "metadata": {
    "ExecuteTime": {
     "end_time": "2020-01-01T14:49:12.719450Z",
     "start_time": "2020-01-01T14:49:12.625444Z"
    },
    "hidden": true
   },
   "outputs": [],
   "source": [
    "assert p_num('123',0)==(3, 123)"
   ]
  },
  {
   "cell_type": "code",
   "execution_count": 14,
   "metadata": {
    "ExecuteTime": {
     "end_time": "2020-01-01T14:49:12.801454Z",
     "start_time": "2020-01-01T14:49:12.721450Z"
    },
    "hidden": true
   },
   "outputs": [],
   "source": [
    "assert p_num('a123',0)==(0, FatalError('ожидалось число'))"
   ]
  },
  {
   "cell_type": "code",
   "execution_count": 15,
   "metadata": {
    "ExecuteTime": {
     "end_time": "2020-01-01T14:49:12.910461Z",
     "start_time": "2020-01-01T14:49:12.804455Z"
    },
    "code_folding": [],
    "hidden": true
   },
   "outputs": [],
   "source": [
    "# identifier :=[a-zA-Z_][a-zA-Z_0-9]*;\n",
    "#def p_identifier(s,p):"
   ]
  },
  {
   "cell_type": "code",
   "execution_count": 16,
   "metadata": {
    "ExecuteTime": {
     "end_time": "2020-01-01T14:49:12.993465Z",
     "start_time": "2020-01-01T14:49:12.912461Z"
    },
    "hidden": true
   },
   "outputs": [],
   "source": [
    "assert p_identifier('qw12',0)==(4, 'qw12')"
   ]
  },
  {
   "cell_type": "code",
   "execution_count": 17,
   "metadata": {
    "ExecuteTime": {
     "end_time": "2020-01-01T14:49:13.086471Z",
     "start_time": "2020-01-01T14:49:12.996466Z"
    },
    "hidden": true
   },
   "outputs": [],
   "source": [
    "assert p_identifier('1qw12',0)==(0, FatalError('ожидался идентификатор'))"
   ]
  },
  {
   "cell_type": "code",
   "execution_count": 18,
   "metadata": {
    "ExecuteTime": {
     "end_time": "2020-01-01T14:49:13.167475Z",
     "start_time": "2020-01-01T14:49:13.091471Z"
    },
    "code_folding": [],
    "hidden": true
   },
   "outputs": [],
   "source": [
    "# quoted_sequence ::=\\` ( [^\\`\\\\] | \\\\\\` | \\\\\\\\)* \\` ;\n",
    "#def p_quoted_sequence(s,p):"
   ]
  },
  {
   "cell_type": "code",
   "execution_count": 19,
   "metadata": {
    "ExecuteTime": {
     "end_time": "2020-01-01T14:49:13.261481Z",
     "start_time": "2020-01-01T14:49:13.170476Z"
    },
    "hidden": true
   },
   "outputs": [],
   "source": [
    "assert p_bnf_quoted_sequence(r'\"qwe2134*%\\\\$\"',0)==(14, 'qwe2134*%\\\\$')"
   ]
  },
  {
   "cell_type": "code",
   "execution_count": 20,
   "metadata": {
    "ExecuteTime": {
     "end_time": "2020-01-01T14:49:13.351486Z",
     "start_time": "2020-01-01T14:49:13.264481Z"
    },
    "hidden": true
   },
   "outputs": [],
   "source": [
    "assert p_reg_quoted_sequence(r'\\Qqwe2134*%\\\\$\\E',0)==(16, 'qwe2134*%\\\\$')"
   ]
  },
  {
   "cell_type": "code",
   "execution_count": 21,
   "metadata": {
    "ExecuteTime": {
     "end_time": "2020-01-01T14:49:13.468493Z",
     "start_time": "2020-01-01T14:49:13.353486Z"
    },
    "hidden": true
   },
   "outputs": [],
   "source": [
    "assert p_bnf_quoted_sequence(r\"'qwe2134*%\\\\$'\",0)==(14, 'qwe2134*%\\\\$')"
   ]
  },
  {
   "cell_type": "code",
   "execution_count": 22,
   "metadata": {
    "ExecuteTime": {
     "end_time": "2020-01-01T14:49:13.572499Z",
     "start_time": "2020-01-01T14:49:13.470493Z"
    },
    "code_folding": [],
    "hidden": true
   },
   "outputs": [],
   "source": [
    "# reg_char :=[^\\\\\\/\\``;|$.*+?()[]{}`]|\\\\.;\n",
    "#  || здесь перечислены управляющие символы, остальные символы считаются обычными\n",
    "#  || ^-\\/`;|$.*+?()[]{}\n",
    "#def p_reg_char(s,p):"
   ]
  },
  {
   "cell_type": "code",
   "execution_count": 23,
   "metadata": {
    "ExecuteTime": {
     "end_time": "2020-01-01T14:49:13.689505Z",
     "start_time": "2020-01-01T14:49:13.575499Z"
    },
    "code_folding": [],
    "hidden": true
   },
   "outputs": [],
   "source": [
    "# bnf_char :=\\\\.;\n",
    "#  || любые символы считаются управляющими, обычные символы надо брать в кавычки или экранировать\n",
    "#  а управляющие символы сначала надо брать в кавычки а потом еще и экранировать внутри кавычек\n",
    "#def p_bnf_char(s,p):"
   ]
  },
  {
   "cell_type": "code",
   "execution_count": 24,
   "metadata": {
    "ExecuteTime": {
     "end_time": "2020-01-01T14:49:13.834514Z",
     "start_time": "2020-01-01T14:49:13.692505Z"
    },
    "code_folding": [],
    "hidden": true
   },
   "outputs": [],
   "source": [
    "# reg_class_char ::= [^\\\\\\/\\``^-;|$.*+?()[]{}`] | `\\\\`.;\n",
    "#  || к управляющим символам добавляется `^-`, пробелы разрешены\n",
    "#def p_reg_class_char(s,p):"
   ]
  },
  {
   "cell_type": "code",
   "execution_count": 25,
   "metadata": {
    "ExecuteTime": {
     "end_time": "2020-01-01T14:49:13.943520Z",
     "start_time": "2020-01-01T14:49:13.839514Z"
    },
    "code_folding": [],
    "hidden": true
   },
   "outputs": [],
   "source": [
    "# bnf_class_char ::= [^\\\\\\/\\``^-;|$.*+?()[]{} `]| `\\\\`.;\n",
    "#  || к управляющим символам добавляется `^-`, пробелы запрещены\n",
    "#def p_bnf_class_char(s,p):"
   ]
  },
  {
   "cell_type": "code",
   "execution_count": 26,
   "metadata": {
    "ExecuteTime": {
     "end_time": "2020-01-01T14:49:14.072527Z",
     "start_time": "2020-01-01T14:49:13.946520Z"
    },
    "code_folding": [],
    "hidden": true
   },
   "outputs": [],
   "source": [
    "# reg_class ::= `.` | `[``^`?  (reg_classChar(`-`reg_classChar)?   |quotedSequence     )*`]` \n",
    "#  / *=>new RegExp(arg)* /;\n",
    "#def p_reg_class(s,p):"
   ]
  },
  {
   "cell_type": "code",
   "execution_count": 27,
   "metadata": {
    "ExecuteTime": {
     "end_time": "2020-01-01T14:49:14.193534Z",
     "start_time": "2020-01-01T14:49:14.074527Z"
    },
    "hidden": true
   },
   "outputs": [],
   "source": [
    "assert p_reg_class('a',0)==(0, FatalError('ожидался reg_class'))"
   ]
  },
  {
   "cell_type": "code",
   "execution_count": 28,
   "metadata": {
    "ExecuteTime": {
     "end_time": "2020-01-01T14:49:14.289540Z",
     "start_time": "2020-01-01T14:49:14.195534Z"
    },
    "hidden": true
   },
   "outputs": [],
   "source": [
    "assert p_reg_class('[a',0)==(2, FatalError('ожидалась `]`'))"
   ]
  },
  {
   "cell_type": "code",
   "execution_count": 29,
   "metadata": {
    "ExecuteTime": {
     "end_time": "2020-01-01T14:49:14.498551Z",
     "start_time": "2020-01-01T14:49:14.292540Z"
    },
    "hidden": true
   },
   "outputs": [],
   "source": [
    "assert p_reg_class('[a-]',0)==(3, FatalError('ожидался reg_class_char'))"
   ]
  },
  {
   "cell_type": "code",
   "execution_count": 30,
   "metadata": {
    "ExecuteTime": {
     "end_time": "2020-01-01T14:49:14.589557Z",
     "start_time": "2020-01-01T14:49:14.500552Z"
    },
    "hidden": true
   },
   "outputs": [],
   "source": [
    "assert p_reg_class('.',0)[1]('a',0)==[1, 'a']"
   ]
  },
  {
   "cell_type": "code",
   "execution_count": 31,
   "metadata": {
    "ExecuteTime": {
     "end_time": "2020-01-01T14:49:14.764567Z",
     "start_time": "2020-01-01T14:49:14.591557Z"
    },
    "hidden": true
   },
   "outputs": [],
   "source": [
    "assert p_reg_class('[a-z]',0)[1]('a',0)==[(1, 'a')]"
   ]
  },
  {
   "cell_type": "code",
   "execution_count": 32,
   "metadata": {
    "ExecuteTime": {
     "end_time": "2020-01-01T14:49:14.909575Z",
     "start_time": "2020-01-01T14:49:14.766567Z"
    },
    "hidden": true
   },
   "outputs": [],
   "source": [
    "assert p_reg_class('[a-z]',0)[1]('0',0)==[]"
   ]
  },
  {
   "cell_type": "code",
   "execution_count": 33,
   "metadata": {
    "ExecuteTime": {
     "end_time": "2020-01-01T14:49:15.010581Z",
     "start_time": "2020-01-01T14:49:14.911575Z"
    },
    "hidden": true
   },
   "outputs": [],
   "source": [
    "assert p_reg_class('[a]',0)[1]('a',0)==[(1, 'a')]"
   ]
  },
  {
   "cell_type": "code",
   "execution_count": 34,
   "metadata": {
    "ExecuteTime": {
     "end_time": "2020-01-01T14:49:15.126587Z",
     "start_time": "2020-01-01T14:49:15.014581Z"
    },
    "hidden": true
   },
   "outputs": [],
   "source": [
    "assert p_reg_class('[^0-9]',0)[1]('a',0)==[(1, 'a')]"
   ]
  },
  {
   "cell_type": "code",
   "execution_count": 35,
   "metadata": {
    "ExecuteTime": {
     "end_time": "2020-01-01T14:49:15.366601Z",
     "start_time": "2020-01-01T14:49:15.128588Z"
    },
    "code_folding": [],
    "hidden": true
   },
   "outputs": [],
   "source": [
    "# bnf_class ::= `.` | `[``^`? spcs \n",
    "#    (bnf_classChar(`-`bnf_classChar)? spcs |quotedSequence spcs)*`]` \n",
    "#  / *=>new RegExp(arg)* /;\n",
    "#def p_bnf_class(s,p):"
   ]
  },
  {
   "cell_type": "code",
   "execution_count": 36,
   "metadata": {
    "ExecuteTime": {
     "end_time": "2020-01-01T14:49:15.967636Z",
     "start_time": "2020-01-01T14:49:15.368601Z"
    },
    "hidden": true
   },
   "outputs": [],
   "source": [
    "assert p_bnf_class('a',0)==(0, FatalError('ожидался bnf_class'))"
   ]
  },
  {
   "cell_type": "code",
   "execution_count": 37,
   "metadata": {
    "ExecuteTime": {
     "end_time": "2020-01-01T14:49:16.068641Z",
     "start_time": "2020-01-01T14:49:15.969636Z"
    },
    "hidden": true
   },
   "outputs": [],
   "source": [
    "assert p_bnf_class('[a',0)==(2, FatalError('ожидалась `]`'))"
   ]
  },
  {
   "cell_type": "code",
   "execution_count": 38,
   "metadata": {
    "ExecuteTime": {
     "end_time": "2020-01-01T14:49:16.184648Z",
     "start_time": "2020-01-01T14:49:16.070641Z"
    },
    "hidden": true
   },
   "outputs": [],
   "source": [
    "assert p_bnf_class('[a-]',0)==(3, FatalError('ожидался reg_class_char'))"
   ]
  },
  {
   "cell_type": "code",
   "execution_count": 39,
   "metadata": {
    "ExecuteTime": {
     "end_time": "2020-01-01T14:49:16.284654Z",
     "start_time": "2020-01-01T14:49:16.187648Z"
    },
    "hidden": true
   },
   "outputs": [],
   "source": [
    "assert p_bnf_class('.',0)[1]('a',0)==[1, 'a']"
   ]
  },
  {
   "cell_type": "code",
   "execution_count": 40,
   "metadata": {
    "ExecuteTime": {
     "end_time": "2020-01-01T14:49:16.376659Z",
     "start_time": "2020-01-01T14:49:16.286654Z"
    },
    "hidden": true
   },
   "outputs": [],
   "source": [
    "assert p_bnf_class('[a-z]',0)[1]('a',0)==[(1, 'a')]"
   ]
  },
  {
   "cell_type": "code",
   "execution_count": 41,
   "metadata": {
    "ExecuteTime": {
     "end_time": "2020-01-01T14:49:16.477665Z",
     "start_time": "2020-01-01T14:49:16.378659Z"
    },
    "hidden": true
   },
   "outputs": [],
   "source": [
    "assert p_bnf_class('[a-z]',0)[1]('0',0)==[]"
   ]
  },
  {
   "cell_type": "code",
   "execution_count": 42,
   "metadata": {
    "ExecuteTime": {
     "end_time": "2020-01-01T14:49:16.568670Z",
     "start_time": "2020-01-01T14:49:16.480665Z"
    },
    "hidden": true
   },
   "outputs": [],
   "source": [
    "assert p_bnf_class('[a]',0)[1]('a',0)==[(1, 'a')]"
   ]
  },
  {
   "cell_type": "code",
   "execution_count": 43,
   "metadata": {
    "ExecuteTime": {
     "end_time": "2020-01-01T14:49:16.669676Z",
     "start_time": "2020-01-01T14:49:16.570670Z"
    },
    "hidden": true
   },
   "outputs": [],
   "source": [
    "assert p_bnf_class('[^0-9]',0)[1]('a',0)==[(1, 'a')]"
   ]
  },
  {
   "cell_type": "code",
   "execution_count": 44,
   "metadata": {
    "ExecuteTime": {
     "end_time": "2020-01-01T14:49:16.759681Z",
     "start_time": "2020-01-01T14:49:16.671676Z"
    },
    "hidden": true
   },
   "outputs": [],
   "source": [
    "assert p_bnf_class('[ a-z ]',0)[1]('a',0)==[(1, 'a')]"
   ]
  },
  {
   "cell_type": "code",
   "execution_count": 45,
   "metadata": {
    "ExecuteTime": {
     "end_time": "2020-01-01T14:49:16.859687Z",
     "start_time": "2020-01-01T14:49:16.763681Z"
    },
    "hidden": true
   },
   "outputs": [],
   "source": [
    "assert p_bnf_class('[ a - z ]',0)==(4, FatalError('ожидалась `]`'))"
   ]
  },
  {
   "cell_type": "code",
   "execution_count": 46,
   "metadata": {
    "ExecuteTime": {
     "end_time": "2020-01-01T14:49:16.976693Z",
     "start_time": "2020-01-01T14:49:16.861687Z"
    },
    "code_folding": [],
    "hidden": true
   },
   "outputs": [],
   "source": [
    "# name_modifier ::= `?` identifier? `=`  || имя последовательности - имя результата\n",
    "#def p_name_modifier(s,p):"
   ]
  },
  {
   "cell_type": "code",
   "execution_count": 47,
   "metadata": {
    "ExecuteTime": {
     "end_time": "2020-01-01T14:49:17.077699Z",
     "start_time": "2020-01-01T14:49:16.978693Z"
    },
    "hidden": true
   },
   "outputs": [],
   "source": [
    "assert p_name_modifier('a=',0)==(0, FatalError('ожидался name_modifier'))"
   ]
  },
  {
   "cell_type": "code",
   "execution_count": 48,
   "metadata": {
    "ExecuteTime": {
     "end_time": "2020-01-01T14:49:17.177705Z",
     "start_time": "2020-01-01T14:49:17.079699Z"
    },
    "hidden": true
   },
   "outputs": [],
   "source": [
    "assert p_name_modifier('?a',0)==(2, FatalError('ожидалось `=`'))"
   ]
  },
  {
   "cell_type": "code",
   "execution_count": 49,
   "metadata": {
    "ExecuteTime": {
     "end_time": "2020-01-01T14:49:17.304712Z",
     "start_time": "2020-01-01T14:49:17.179705Z"
    },
    "hidden": true
   },
   "outputs": [],
   "source": [
    "assert p_name_modifier('?a=',0)==(3, 'a')"
   ]
  },
  {
   "cell_type": "code",
   "execution_count": 50,
   "metadata": {
    "ExecuteTime": {
     "end_time": "2020-01-01T14:49:17.401718Z",
     "start_time": "2020-01-01T14:49:17.307712Z"
    },
    "hidden": true
   },
   "outputs": [],
   "source": [
    "assert p_name_modifier('?=',0)==(2, '')"
   ]
  },
  {
   "cell_type": "code",
   "execution_count": 51,
   "metadata": {
    "ExecuteTime": {
     "end_time": "2020-01-01T14:49:17.501723Z",
     "start_time": "2020-01-01T14:49:17.404718Z"
    },
    "code_folding": [],
    "hidden": true
   },
   "outputs": [],
   "source": [
    "# seq_handler ::= `/*`(?!`*/`|.)*`*/`\n",
    "#def p_seq_handler(s,p):"
   ]
  },
  {
   "cell_type": "code",
   "execution_count": 52,
   "metadata": {
    "ExecuteTime": {
     "end_time": "2020-01-01T14:49:17.616730Z",
     "start_time": "2020-01-01T14:49:17.504723Z"
    },
    "hidden": true
   },
   "outputs": [
    {
     "name": "stdout",
     "output_type": "stream",
     "text": [
      "2 3 8\n",
      "2 3 8\n"
     ]
    },
    {
     "data": {
      "text/plain": [
       "13"
      ]
     },
     "execution_count": 52,
     "metadata": {},
     "output_type": "execute_result"
    }
   ],
   "source": [
    "o = {'a':2,'b':3}\n",
    "\"b,a,c=8: print(a,b,c)\"\n",
    "foo =lambda b,a,c=8: print(a,b,c)\n",
    "foo(**o)\n",
    "\n",
    "\"\"\"(b,a,c=8): \n",
    "    print(a,b,c)\n",
    "\"\"\"\n",
    "def bar(b,a,c=8): \n",
    "    print(a,b,c)\n",
    "bar(**o)\n",
    "\n",
    "code1 = 'lambda b,a,c=8: a+b+c'\n",
    "code11 = eval(code1)\n",
    "code11(**o)\n",
    "\n",
    "def foo():\n",
    "    code2 = \\\n",
    "'''\n",
    "def qwer(b,a,c=8): \n",
    "    return a+b+c\n",
    "'''\n",
    "    g = globals()\n",
    "    exec(code2,g)\n",
    "    return g['qwer']\n",
    "code = foo()\n",
    "code(**o)"
   ]
  },
  {
   "cell_type": "code",
   "execution_count": 53,
   "metadata": {
    "ExecuteTime": {
     "end_time": "2020-01-01T14:49:17.713735Z",
     "start_time": "2020-01-01T14:49:17.619730Z"
    },
    "hidden": true
   },
   "outputs": [],
   "source": [
    "assert p_seq_handler('a,b:a+b*/',0)==(0, FatalError('ожидался seq_handler'))"
   ]
  },
  {
   "cell_type": "code",
   "execution_count": 54,
   "metadata": {
    "ExecuteTime": {
     "end_time": "2020-01-01T14:49:17.843743Z",
     "start_time": "2020-01-01T14:49:17.716736Z"
    },
    "hidden": true
   },
   "outputs": [],
   "source": [
    "assert p_seq_handler('/*a,b:a+b',0)==(9, FatalError('неожиданный конец файла'))"
   ]
  },
  {
   "cell_type": "code",
   "execution_count": 55,
   "metadata": {
    "ExecuteTime": {
     "end_time": "2020-01-01T14:49:17.952749Z",
     "start_time": "2020-01-01T14:49:17.845743Z"
    },
    "hidden": true
   },
   "outputs": [],
   "source": [
    "assert p_seq_handler('/*a,b:a+b*/',0)[1](2,3)==5"
   ]
  },
  {
   "cell_type": "code",
   "execution_count": 56,
   "metadata": {
    "ExecuteTime": {
     "end_time": "2020-01-01T14:49:18.159761Z",
     "start_time": "2020-01-01T14:49:17.954749Z"
    },
    "hidden": true
   },
   "outputs": [],
   "source": [
    "assert p_seq_handler('''\n",
    "/*(a,b):\n",
    "    return a+b*/''',\n",
    "              1)[1](2,3)==5"
   ]
  },
  {
   "cell_type": "code",
   "execution_count": 57,
   "metadata": {
    "ExecuteTime": {
     "end_time": "2020-01-01T14:49:18.370773Z",
     "start_time": "2020-01-01T14:49:18.162761Z"
    },
    "hidden": true
   },
   "outputs": [
    {
     "name": "stdout",
     "output_type": "stream",
     "text": [
      "2 FatalError('ошибка при компиляции обработчика') 11 invalid syntax (<string>, line 1)\n"
     ]
    }
   ],
   "source": [
    "assert p_seq_handler('/*a,a+\"aaa\"*/',0)==(2, FatalError('ошибка при компиляции обработчика'))"
   ]
  },
  {
   "cell_type": "code",
   "execution_count": 58,
   "metadata": {
    "ExecuteTime": {
     "end_time": "2020-01-01T14:49:18.587785Z",
     "start_time": "2020-01-01T14:49:18.373773Z"
    },
    "hidden": true
   },
   "outputs": [
    {
     "name": "stdout",
     "output_type": "stream",
     "text": [
      "<class 'SyntaxError'>\n"
     ]
    },
    {
     "data": {
      "text/plain": [
       "11"
      ]
     },
     "execution_count": 58,
     "metadata": {},
     "output_type": "execute_result"
    }
   ],
   "source": [
    "code = 'lambda a,a+\"aaa'\n",
    "try:\n",
    "    eval(code)\n",
    "except BaseException as e:\n",
    "    err = e\n",
    "print(type(err))\n",
    "err.offset"
   ]
  },
  {
   "cell_type": "code",
   "execution_count": 59,
   "metadata": {
    "ExecuteTime": {
     "end_time": "2020-01-01T14:49:18.698792Z",
     "start_time": "2020-01-01T14:49:18.590786Z"
    },
    "code_folding": [],
    "hidden": true
   },
   "outputs": [],
   "source": [
    "# alt_handler ::= `//`(?!`*/`|.)*`*/`\n",
    "#def p_alt_handler(s,p):"
   ]
  },
  {
   "cell_type": "code",
   "execution_count": 60,
   "metadata": {
    "ExecuteTime": {
     "end_time": "2020-01-01T14:49:18.819799Z",
     "start_time": "2020-01-01T14:49:18.700792Z"
    },
    "hidden": true
   },
   "outputs": [],
   "source": [
    "assert p_alt_handler('a,b:a+b*/',0)==(0, FatalError('ожидался alt_handler'))"
   ]
  },
  {
   "cell_type": "code",
   "execution_count": 61,
   "metadata": {
    "ExecuteTime": {
     "end_time": "2020-01-01T14:49:19.185820Z",
     "start_time": "2020-01-01T14:49:18.822799Z"
    },
    "hidden": true
   },
   "outputs": [],
   "source": [
    "assert p_alt_handler('//a,b:a+b',0)==(9, FatalError('неожиданный конец файла'))"
   ]
  },
  {
   "cell_type": "code",
   "execution_count": 62,
   "metadata": {
    "ExecuteTime": {
     "end_time": "2020-01-01T14:49:19.284825Z",
     "start_time": "2020-01-01T14:49:19.188820Z"
    },
    "hidden": true
   },
   "outputs": [],
   "source": [
    "assert p_alt_handler('//a,b:a+b*/',0)[1](2,3)==5"
   ]
  },
  {
   "cell_type": "code",
   "execution_count": 63,
   "metadata": {
    "ExecuteTime": {
     "end_time": "2020-01-01T14:49:19.494837Z",
     "start_time": "2020-01-01T14:49:19.286825Z"
    },
    "hidden": true
   },
   "outputs": [],
   "source": [
    "assert p_alt_handler('''\n",
    "//(a,b):\n",
    "    return a+b*/''',\n",
    "              1)[1](2,3)==5"
   ]
  },
  {
   "cell_type": "code",
   "execution_count": 64,
   "metadata": {
    "ExecuteTime": {
     "end_time": "2020-01-01T14:49:19.734851Z",
     "start_time": "2020-01-01T14:49:19.505838Z"
    },
    "code_folding": [],
    "hidden": true
   },
   "outputs": [],
   "source": [
    "# simple_quantifier ::= [`*+?`]\n",
    "#def p_simple_quantifier(s,p):"
   ]
  },
  {
   "cell_type": "code",
   "execution_count": 65,
   "metadata": {
    "ExecuteTime": {
     "end_time": "2020-01-01T14:49:19.871859Z",
     "start_time": "2020-01-01T14:49:19.739851Z"
    },
    "hidden": true
   },
   "outputs": [],
   "source": [
    "assert p_simple_quantifier('',0)==(0, FatalError('ожидался simple_quantifier'))"
   ]
  },
  {
   "cell_type": "code",
   "execution_count": 66,
   "metadata": {
    "ExecuteTime": {
     "end_time": "2020-01-01T14:49:19.976865Z",
     "start_time": "2020-01-01T14:49:19.873859Z"
    },
    "hidden": true
   },
   "outputs": [],
   "source": [
    "assert p_simple_quantifier('*',0)==(1, obj(min=0,max=-1,name=None,seq_handlers=[],))"
   ]
  },
  {
   "cell_type": "code",
   "execution_count": 67,
   "metadata": {
    "ExecuteTime": {
     "end_time": "2020-01-01T14:49:20.062870Z",
     "start_time": "2020-01-01T14:49:19.978865Z"
    },
    "hidden": true
   },
   "outputs": [],
   "source": [
    "assert p_simple_quantifier('+',0)==(1, obj(min=1,max=-1,name=None,seq_handlers=[],))"
   ]
  },
  {
   "cell_type": "code",
   "execution_count": 68,
   "metadata": {
    "ExecuteTime": {
     "end_time": "2020-01-01T14:49:20.151875Z",
     "start_time": "2020-01-01T14:49:20.065870Z"
    },
    "hidden": true
   },
   "outputs": [],
   "source": [
    "assert p_simple_quantifier('?',0)==(1, obj(min=0,max=1,name=None,seq_handlers=[],))"
   ]
  },
  {
   "cell_type": "code",
   "execution_count": 69,
   "metadata": {
    "ExecuteTime": {
     "end_time": "2020-01-01T14:49:20.251881Z",
     "start_time": "2020-01-01T14:49:20.153875Z"
    },
    "code_folding": [],
    "hidden": true
   },
   "outputs": [],
   "source": [
    "# complex_quantifier ::= `{`spcs \n",
    "#    (name_modifier spcs)? \n",
    "#    ([`*+?`] |`,` spcs num | num (spcs `,` spcs num?)? ) spcs \n",
    "#    (seq_handler spcs)*\n",
    "#    `}` ;\n",
    "#def p_complex_quantifier(s,p):"
   ]
  },
  {
   "cell_type": "code",
   "execution_count": 72,
   "metadata": {
    "ExecuteTime": {
     "end_time": "2020-01-01T14:49:55.971924Z",
     "start_time": "2020-01-01T14:49:55.964923Z"
    },
    "hidden": true
   },
   "outputs": [],
   "source": [
    "assert p_complex_quantifier('{,3',0)==(3, FatalError('ожидалась \"}\"'))"
   ]
  },
  {
   "cell_type": "code",
   "execution_count": 83,
   "metadata": {
    "ExecuteTime": {
     "end_time": "2020-01-01T14:50:25.962639Z",
     "start_time": "2020-01-01T14:50:25.955639Z"
    },
    "hidden": true
   },
   "outputs": [],
   "source": [
    "assert p_complex_quantifier('{,}',0)==(2, FatalError('ожидалось число'))"
   ]
  },
  {
   "cell_type": "code",
   "execution_count": 84,
   "metadata": {
    "ExecuteTime": {
     "end_time": "2020-01-01T14:50:36.434238Z",
     "start_time": "2020-01-01T14:50:36.428238Z"
    },
    "hidden": true
   },
   "outputs": [],
   "source": [
    "assert p_complex_quantifier('{,3}',0)==(4, obj(min=0,max=3,name=None,seq_handlers=[],))"
   ]
  },
  {
   "cell_type": "code",
   "execution_count": 85,
   "metadata": {
    "ExecuteTime": {
     "end_time": "2020-01-01T14:52:32.702888Z",
     "start_time": "2020-01-01T14:52:32.693888Z"
    },
    "hidden": true
   },
   "outputs": [],
   "source": [
    "assert p_complex_quantifier('{3}',0)==(3, obj(min=3,max=3,name=None,seq_handlers=[],))"
   ]
  },
  {
   "cell_type": "code",
   "execution_count": 86,
   "metadata": {
    "ExecuteTime": {
     "end_time": "2020-01-01T14:52:44.924587Z",
     "start_time": "2020-01-01T14:52:44.916587Z"
    },
    "hidden": true
   },
   "outputs": [],
   "source": [
    "assert p_complex_quantifier('{}',0)==(1, FatalError('ожидалось число'))"
   ]
  },
  {
   "cell_type": "code",
   "execution_count": 87,
   "metadata": {
    "ExecuteTime": {
     "end_time": "2020-01-01T14:52:57.707318Z",
     "start_time": "2020-01-01T14:52:57.699318Z"
    },
    "hidden": true
   },
   "outputs": [],
   "source": [
    "assert p_complex_quantifier('{3-5}',0)==(2, FatalError('ожидалась \"}\"'))"
   ]
  },
  {
   "cell_type": "code",
   "execution_count": 88,
   "metadata": {
    "ExecuteTime": {
     "end_time": "2020-01-01T14:53:08.775951Z",
     "start_time": "2020-01-01T14:53:08.768951Z"
    },
    "hidden": true
   },
   "outputs": [],
   "source": [
    "assert p_complex_quantifier('{3,5}',0)==(5, obj(min=3,max=5,name=None,seq_handlers=[],))"
   ]
  },
  {
   "cell_type": "code",
   "execution_count": 89,
   "metadata": {
    "ExecuteTime": {
     "end_time": "2020-01-01T14:53:18.481507Z",
     "start_time": "2020-01-01T14:53:18.476506Z"
    },
    "hidden": true
   },
   "outputs": [],
   "source": [
    "assert p_complex_quantifier('{?}',0)==(3, obj(min=0,max=1,name=None,seq_handlers=[],))"
   ]
  },
  {
   "cell_type": "code",
   "execution_count": 91,
   "metadata": {
    "ExecuteTime": {
     "end_time": "2020-01-01T14:56:17.303735Z",
     "start_time": "2020-01-01T14:56:17.291734Z"
    },
    "hidden": true
   },
   "outputs": [
    {
     "data": {
      "text/plain": [
       "(21,\n",
       " obj(min=0,max=-1,name=qwe,seq_handlers=[<function <lambda> at 0x0000000003679730>],))"
      ]
     },
     "execution_count": 91,
     "metadata": {},
     "output_type": "execute_result"
    }
   ],
   "source": [
    "assert p_complex_quantifier('{?qwe=*/*a:a+\"aaa\"*/}',0)[1].seq_handlers[0]('s')=='saaa'\n",
    "p_complex_quantifier('{?qwe=*/*a:a+\"aaa\"*/}',0)"
   ]
  },
  {
   "cell_type": "code",
   "execution_count": 90,
   "metadata": {
    "ExecuteTime": {
     "end_time": "2020-01-01T14:54:27.668464Z",
     "start_time": "2020-01-01T14:54:27.660463Z"
    },
    "hidden": true
   },
   "outputs": [],
   "source": [
    "assert p_complex_quantifier('{?=,7//a:a+\"aaa\"*/}',0)==(5, FatalError('ожидалась \"}\"'))"
   ]
  },
  {
   "cell_type": "code",
   "execution_count": 92,
   "metadata": {
    "ExecuteTime": {
     "end_time": "2020-01-01T14:56:36.899855Z",
     "start_time": "2020-01-01T14:56:36.892855Z"
    },
    "hidden": true
   },
   "outputs": [
    {
     "data": {
      "text/plain": [
       "(23,\n",
       " obj(min=0,max=-1,name=qwe,seq_handlers=[<function <lambda> at 0x0000000004F09BF8>],))"
      ]
     },
     "execution_count": 92,
     "metadata": {},
     "output_type": "execute_result"
    }
   ],
   "source": [
    "assert p_complex_quantifier('{?qwe= * /*a:a+\"aaa\"*/}',0)[1].seq_handlers[0]('s')=='saaa'\n",
    "p_complex_quantifier('{?qwe= * /*a:a+\"aaa\"*/}',0)\n"
   ]
  },
  {
   "cell_type": "markdown",
   "metadata": {},
   "source": [
    "## паттерны, связанные с классом"
   ]
  },
  {
   "cell_type": "code",
   "execution_count": null,
   "metadata": {
    "ExecuteTime": {
     "end_time": "2019-12-29T20:16:44.370036Z",
     "start_time": "2019-12-29T20:16:44.282031Z"
    }
   },
   "outputs": [],
   "source": []
  },
  {
   "cell_type": "code",
   "execution_count": 93,
   "metadata": {
    "ExecuteTime": {
     "end_time": "2020-01-01T14:56:50.493633Z",
     "start_time": "2020-01-01T14:56:50.481632Z"
    }
   },
   "outputs": [
    {
     "data": {
      "text/plain": [
       "7"
      ]
     },
     "execution_count": 93,
     "metadata": {},
     "output_type": "execute_result"
    }
   ],
   "source": [
    "class CLS:\n",
    "    pass\n",
    "@method(CLS)\n",
    "def foo(self):\n",
    "    self.k = 7\n",
    "p = CLS()\n",
    "p.foo()\n",
    "p.k"
   ]
  },
  {
   "cell_type": "code",
   "execution_count": null,
   "metadata": {
    "ExecuteTime": {
     "end_time": "2019-12-29T20:16:44.695054Z",
     "start_time": "2019-12-29T20:16:44.591048Z"
    }
   },
   "outputs": [],
   "source": []
  },
  {
   "cell_type": "code",
   "execution_count": 94,
   "metadata": {
    "ExecuteTime": {
     "end_time": "2020-01-01T14:56:53.103782Z",
     "start_time": "2020-01-01T14:56:53.096782Z"
    }
   },
   "outputs": [
    {
     "data": {
      "text/plain": [
       "[1, 2, 3]"
      ]
     },
     "execution_count": 94,
     "metadata": {},
     "output_type": "execute_result"
    }
   ],
   "source": [
    "list((1,2,3))"
   ]
  },
  {
   "cell_type": "code",
   "execution_count": 95,
   "metadata": {
    "ExecuteTime": {
     "end_time": "2020-01-01T14:56:54.376855Z",
     "start_time": "2020-01-01T14:56:54.370855Z"
    }
   },
   "outputs": [
    {
     "data": {
      "text/plain": [
       "[]"
      ]
     },
     "execution_count": 95,
     "metadata": {},
     "output_type": "execute_result"
    }
   ],
   "source": [
    "Elist(1,(1,2,3))"
   ]
  },
  {
   "cell_type": "code",
   "execution_count": 96,
   "metadata": {
    "ExecuteTime": {
     "end_time": "2020-01-01T14:56:55.129898Z",
     "start_time": "2020-01-01T14:56:55.122898Z"
    }
   },
   "outputs": [
    {
     "data": {
      "text/plain": [
       "[]"
      ]
     },
     "execution_count": 96,
     "metadata": {},
     "output_type": "execute_result"
    }
   ],
   "source": [
    "Elist(3,'a')"
   ]
  },
  {
   "cell_type": "code",
   "execution_count": 97,
   "metadata": {
    "ExecuteTime": {
     "end_time": "2020-01-01T14:56:56.033950Z",
     "start_time": "2020-01-01T14:56:56.026949Z"
    }
   },
   "outputs": [
    {
     "name": "stdout",
     "output_type": "stream",
     "text": [
      "a\n"
     ]
    },
    {
     "data": {
      "text/plain": [
       "True"
      ]
     },
     "execution_count": 97,
     "metadata": {},
     "output_type": "execute_result"
    }
   ],
   "source": [
    "x = Elist(3,'a')\n",
    "print(x.mes)\n",
    "x==[]"
   ]
  },
  {
   "cell_type": "code",
   "execution_count": 98,
   "metadata": {
    "ExecuteTime": {
     "end_time": "2020-01-01T14:56:58.983118Z",
     "start_time": "2020-01-01T14:56:58.977118Z"
    }
   },
   "outputs": [
    {
     "data": {
      "text/plain": [
       "list"
      ]
     },
     "execution_count": 98,
     "metadata": {},
     "output_type": "execute_result"
    }
   ],
   "source": [
    "type(Elist(3,'a')+[])"
   ]
  },
  {
   "cell_type": "code",
   "execution_count": null,
   "metadata": {
    "ExecuteTime": {
     "end_time": "2019-12-29T20:16:45.377093Z",
     "start_time": "2019-12-29T20:16:45.249086Z"
    }
   },
   "outputs": [],
   "source": []
  },
  {
   "cell_type": "code",
   "execution_count": null,
   "metadata": {
    "ExecuteTime": {
     "end_time": "2019-12-29T20:16:45.541103Z",
     "start_time": "2019-12-29T20:16:45.385094Z"
    }
   },
   "outputs": [],
   "source": [
    "\n"
   ]
  },
  {
   "cell_type": "markdown",
   "metadata": {},
   "source": [
    "### Вызов"
   ]
  },
  {
   "cell_type": "code",
   "execution_count": 99,
   "metadata": {
    "ExecuteTime": {
     "end_time": "2020-01-01T14:57:02.398314Z",
     "start_time": "2020-01-01T14:57:02.393314Z"
    }
   },
   "outputs": [],
   "source": [
    "#def make_pattern_as_str(self,iden):"
   ]
  },
  {
   "cell_type": "code",
   "execution_count": 100,
   "metadata": {
    "ExecuteTime": {
     "end_time": "2020-01-01T14:57:02.901343Z",
     "start_time": "2020-01-01T14:57:02.896342Z"
    },
    "code_folding": []
   },
   "outputs": [],
   "source": [
    "# reg_str_link ::= `$`  ( ?id=identifier ) /*=>{link:arg.id}* /;\n",
    "#@add_method(Parser)\n",
    "#def p_reg_str_link(self,s,p):"
   ]
  },
  {
   "cell_type": "code",
   "execution_count": 101,
   "metadata": {
    "ExecuteTime": {
     "end_time": "2020-01-01T14:57:03.301365Z",
     "start_time": "2020-01-01T14:57:03.296365Z"
    },
    "code_folding": []
   },
   "outputs": [],
   "source": [
    "# reg_bnf_link ::= {?}`$`  ( ?id=identifier ) /*=>{link:arg.id}* /;\n",
    "#@add_method(Parser)\n",
    "#def p_bnf_str_link(self,s,p):"
   ]
  },
  {
   "cell_type": "code",
   "execution_count": 102,
   "metadata": {
    "ExecuteTime": {
     "end_time": "2020-01-01T14:57:04.063409Z",
     "start_time": "2020-01-01T14:57:04.058409Z"
    },
    "code_folding": []
   },
   "outputs": [],
   "source": [
    "# obj_direct_link ::= `$` ('(' $identifier ')'\n",
    "#                          | '{' $identifier {?}([=:] $identifier)'}');\n",
    "#@add_method(Parser)\n",
    "#def p_obj_direct_link(self,s,p):"
   ]
  },
  {
   "cell_type": "code",
   "execution_count": 121,
   "metadata": {
    "ExecuteTime": {
     "end_time": "2020-01-01T15:02:43.090800Z",
     "start_time": "2020-01-01T15:02:43.084800Z"
    },
    "code_folding": []
   },
   "outputs": [],
   "source": [
    "parser = Parser()\n",
    "assert parser.p_obj_direct_link('p',0)==(0, FatalError(''))"
   ]
  },
  {
   "cell_type": "code",
   "execution_count": 122,
   "metadata": {
    "ExecuteTime": {
     "end_time": "2020-01-01T15:04:00.843248Z",
     "start_time": "2020-01-01T15:04:00.836247Z"
    },
    "code_folding": []
   },
   "outputs": [],
   "source": [
    "parser = Parser()\n",
    "assert parser.p_obj_direct_link('$(p)',0)[0]==4"
   ]
  },
  {
   "cell_type": "code",
   "execution_count": 123,
   "metadata": {
    "ExecuteTime": {
     "end_time": "2020-01-01T15:04:19.850335Z",
     "start_time": "2020-01-01T15:04:19.844334Z"
    },
    "code_folding": []
   },
   "outputs": [],
   "source": [
    "parser = Parser()\n",
    "assert parser.p_obj_direct_link('${p}',0)[0]==4"
   ]
  },
  {
   "cell_type": "code",
   "execution_count": 125,
   "metadata": {
    "ExecuteTime": {
     "end_time": "2020-01-01T15:04:42.355622Z",
     "start_time": "2020-01-01T15:04:42.349622Z"
    },
    "code_folding": []
   },
   "outputs": [],
   "source": [
    "parser = Parser()\n",
    "assert parser.p_obj_direct_link('${n:p}',0)[0]==6"
   ]
  },
  {
   "cell_type": "code",
   "execution_count": 126,
   "metadata": {
    "ExecuteTime": {
     "end_time": "2020-01-01T15:04:53.555262Z",
     "start_time": "2020-01-01T15:04:53.549262Z"
    },
    "code_folding": []
   },
   "outputs": [],
   "source": [
    "parser = Parser()\n",
    "assert parser.p_obj_direct_link('${n=p}',0)[0]==6"
   ]
  },
  {
   "cell_type": "code",
   "execution_count": 109,
   "metadata": {
    "ExecuteTime": {
     "end_time": "2020-01-01T15:01:41.696289Z",
     "start_time": "2020-01-01T15:01:41.692289Z"
    },
    "code_folding": []
   },
   "outputs": [],
   "source": [
    "# reg_symbol ::= reg_char|quoted_sequence|reg_class|reg_str_link|obj_direct_link;\n",
    "#@add_method(Parser)\n",
    "#def p_reg_symbol(self,s,p):"
   ]
  },
  {
   "cell_type": "code",
   "execution_count": 110,
   "metadata": {
    "ExecuteTime": {
     "end_time": "2020-01-01T15:01:42.193317Z",
     "start_time": "2020-01-01T15:01:42.187317Z"
    },
    "code_folding": []
   },
   "outputs": [],
   "source": [
    "# bnf_symbol ::= bnf_char|quoted_sequence|bnf_class|bnf_str_link|obj_direct_link;\n",
    "#@add_method(Parser)\n",
    "#def p_bnf_symbol(self,s,p):"
   ]
  },
  {
   "cell_type": "code",
   "execution_count": 127,
   "metadata": {
    "ExecuteTime": {
     "end_time": "2020-01-01T15:05:24.874054Z",
     "start_time": "2020-01-01T15:05:24.862053Z"
    }
   },
   "outputs": [
    {
     "name": "stdout",
     "output_type": "stream",
     "text": [
      "string\n"
     ]
    }
   ],
   "source": [
    "parser = Parser()\n",
    "tmp = parser.p_bnf_symbol('[a-z]',0)\n",
    "print(tmp[1][0])\n",
    "assert tmp[1][1]('s',0)==[(1, 's')]"
   ]
  },
  {
   "cell_type": "code",
   "execution_count": 128,
   "metadata": {
    "ExecuteTime": {
     "end_time": "2020-01-01T15:05:37.675786Z",
     "start_time": "2020-01-01T15:05:37.669786Z"
    }
   },
   "outputs": [
    {
     "name": "stdout",
     "output_type": "stream",
     "text": [
      "string\n"
     ]
    }
   ],
   "source": [
    "parser = Parser()\n",
    "tmp = parser.p_bnf_symbol('\"qwe\"',0)\n",
    "print(tmp[1][0])\n",
    "assert tmp[1][1]('qwe',0)==[(3, 'qwe')]"
   ]
  },
  {
   "cell_type": "code",
   "execution_count": 129,
   "metadata": {
    "ExecuteTime": {
     "end_time": "2020-01-01T15:05:58.455975Z",
     "start_time": "2020-01-01T15:05:58.450974Z"
    }
   },
   "outputs": [],
   "source": [
    "#@add_method(Parser)\n",
    "#def bnf_pattern_symbol(self,name,patt):"
   ]
  },
  {
   "cell_type": "code",
   "execution_count": 114,
   "metadata": {
    "ExecuteTime": {
     "end_time": "2020-01-01T15:01:43.277379Z",
     "start_time": "2020-01-01T15:01:43.268379Z"
    }
   },
   "outputs": [],
   "source": [
    "@method(Parser)\n",
    "def bnf_pattern_symbol(self,name,patt):\n",
    "    p,r = self.p_bnf_symbol(patt,0)\n",
    "    if is_fatal(r):\n",
    "        raise BaseException(r)\n",
    "    tmp = r\n",
    "    p,r = p_spcs(patt,p)\n",
    "    if p!=len(patt):\n",
    "        raise BaseException('разобран не весь паттерн')\n",
    "    self.patterns[name] = tmp[1]\n",
    "\n"
   ]
  },
  {
   "cell_type": "code",
   "execution_count": 130,
   "metadata": {
    "ExecuteTime": {
     "end_time": "2020-01-01T15:26:54.733830Z",
     "start_time": "2020-01-01T15:26:54.725829Z"
    }
   },
   "outputs": [],
   "source": [
    "parser = Parser()\n",
    "parser.bnf_pattern_symbol('__main__','\"a\"')\n",
    "assert parser.parse('a')=='a'\n",
    "#parser.patterns"
   ]
  },
  {
   "cell_type": "code",
   "execution_count": 131,
   "metadata": {
    "ExecuteTime": {
     "end_time": "2020-01-01T15:27:06.789519Z",
     "start_time": "2020-01-01T15:27:06.782519Z"
    }
   },
   "outputs": [],
   "source": [
    "parser = Parser()\n",
    "parser.bnf_pattern_symbol('__main__','ppp')\n",
    "parser.bnf_pattern_symbol('ppp','\"a\"')\n",
    "assert parser.parse('a')=='a'\n",
    "#parser.patterns"
   ]
  },
  {
   "cell_type": "code",
   "execution_count": 132,
   "metadata": {
    "ExecuteTime": {
     "end_time": "2020-01-01T15:27:36.625226Z",
     "start_time": "2020-01-01T15:27:36.620225Z"
    }
   },
   "outputs": [],
   "source": [
    "parser = Parser()\n",
    "parser.bnf_pattern_symbol('__main__','$ppp')\n",
    "parser.bnf_pattern_symbol('ppp','\"a\"')\n",
    "assert parser.parse('a')=='a'\n",
    "#parser.patterns"
   ]
  },
  {
   "cell_type": "code",
   "execution_count": 133,
   "metadata": {
    "ExecuteTime": {
     "end_time": "2020-01-01T15:28:22.822868Z",
     "start_time": "2020-01-01T15:28:22.813867Z"
    }
   },
   "outputs": [],
   "source": [
    "parser = Parser()\n",
    "parser.bnf_pattern_symbol('__main__','$(ppp)')\n",
    "parser.bnf_pattern_symbol('ppp','\"a\"')\n",
    "assert parser.parse('a')=='a'\n",
    "#parser.patterns"
   ]
  },
  {
   "cell_type": "code",
   "execution_count": 134,
   "metadata": {
    "ExecuteTime": {
     "end_time": "2020-01-01T15:28:36.803668Z",
     "start_time": "2020-01-01T15:28:36.796667Z"
    }
   },
   "outputs": [],
   "source": [
    "parser = Parser()\n",
    "parser.bnf_pattern_symbol('__main__','${ppp}')\n",
    "parser.bnf_pattern_symbol('ppp','\"a\"')\n",
    "assert parser.parse('a')=={'ppp': 'a'}\n",
    "#parser.patterns"
   ]
  },
  {
   "cell_type": "code",
   "execution_count": 135,
   "metadata": {
    "ExecuteTime": {
     "end_time": "2020-01-01T15:28:52.322555Z",
     "start_time": "2020-01-01T15:28:52.315555Z"
    }
   },
   "outputs": [],
   "source": [
    "parser = Parser()\n",
    "parser.bnf_pattern_symbol('__main__','${n:ppp}')\n",
    "parser.bnf_pattern_symbol('ppp','\"a\"')\n",
    "assert parser.parse('a')=={'n': 'a'}\n",
    "#parser.patterns"
   ]
  },
  {
   "cell_type": "markdown",
   "metadata": {},
   "source": [
    "### последовательности:"
   ]
  },
  {
   "cell_type": "markdown",
   "metadata": {},
   "source": [
    "* строковые\n",
    "* * имя не указано, все подпоследовательности строковые - конкатенируем, обработчик должен вернуть строку\n",
    "* direct\n",
    "* * имя пустое или не указано, одна из подпоследовательностей direct, все остальные строковые <br>- берем только у того, который direct, все остальные игнорируем, обработчик допустим, если указано пустое имя\n",
    "* * имя пустое, все подпоследовательности строковые - конкатенируем, обработчик допустим\n",
    "* объектные\n",
    "* * имя не указано, подпоследовательности строковые и объектные <br>- объединяем объектные, все остальные игнорируем, обработчик допустим, но при наличии обработчика выдается warning\n",
    "* * имя указано, все подпоследовательности строковые - конкатенируем, обработчик допустим\n",
    "* * имя указано, одна из подпоследовательностей direct, все остальные строковые<br>- берем только у того, который direct, все остальные игнорируем, обработчик допустим"
   ]
  },
  {
   "cell_type": "code",
   "execution_count": null,
   "metadata": {
    "ExecuteTime": {
     "end_time": "2019-12-29T20:40:10.454459Z",
     "start_time": "2019-12-29T20:40:10.404456Z"
    },
    "code_folding": []
   },
   "outputs": [],
   "source": []
  },
  {
   "cell_type": "code",
   "execution_count": null,
   "metadata": {
    "ExecuteTime": {
     "end_time": "2019-12-29T22:09:52.283282Z",
     "start_time": "2019-12-29T22:09:52.262281Z"
    },
    "code_folding": []
   },
   "outputs": [],
   "source": []
  },
  {
   "cell_type": "code",
   "execution_count": null,
   "metadata": {
    "ExecuteTime": {
     "end_time": "2019-12-29T22:09:38.589499Z",
     "start_time": "2019-12-29T22:09:38.565498Z"
    },
    "code_folding": []
   },
   "outputs": [],
   "source": []
  },
  {
   "cell_type": "code",
   "execution_count": null,
   "metadata": {
    "ExecuteTime": {
     "end_time": "2020-01-01T14:49:20.496895Z",
     "start_time": "2020-01-01T14:49:12.023Z"
    }
   },
   "outputs": [],
   "source": [
    "parser = Parser()"
   ]
  },
  {
   "cell_type": "code",
   "execution_count": 159,
   "metadata": {
    "ExecuteTime": {
     "end_time": "2020-01-01T15:29:43.420478Z",
     "start_time": "2020-01-01T15:29:43.413477Z"
    }
   },
   "outputs": [
    {
     "name": "stdout",
     "output_type": "stream",
     "text": [
      "1 string\n"
     ]
    }
   ],
   "source": [
    "# вообще работает\n",
    "tmp = parser.p_reg_sequence('a',0)\n",
    "print(tmp[0],tmp[1][0])\n",
    "assert tmp[1][1]('a',0)==[(1, 'a')]"
   ]
  },
  {
   "cell_type": "code",
   "execution_count": 160,
   "metadata": {
    "ExecuteTime": {
     "end_time": "2020-01-01T15:29:58.465338Z",
     "start_time": "2020-01-01T15:29:58.453338Z"
    }
   },
   "outputs": [
    {
     "name": "stdout",
     "output_type": "stream",
     "text": [
      "15 string\n"
     ]
    }
   ],
   "source": [
    "# обработчик\n",
    "tmp = parser.p_reg_sequence('ab/*x:x+\"qwe\"*/',0)\n",
    "print(tmp[0],tmp[1][0])\n",
    "assert tmp[1][1]('ab',0)==[(2, 'abqwe')]"
   ]
  },
  {
   "cell_type": "code",
   "execution_count": 161,
   "metadata": {
    "ExecuteTime": {
     "end_time": "2020-01-01T15:30:45.474027Z",
     "start_time": "2020-01-01T15:30:45.461026Z"
    }
   },
   "outputs": [
    {
     "name": "stdout",
     "output_type": "stream",
     "text": [
      "9 string\n"
     ]
    },
    {
     "name": "stderr",
     "output_type": "stream",
     "text": [
      "обработчик строковой последовательности должен возвращать строку\n"
     ]
    }
   ],
   "source": [
    "# обработчик\n",
    "tmp = parser.p_reg_sequence('ab/*x:2*/',0)\n",
    "print(tmp[0],tmp[1][0])\n",
    "assert tmp[1][1]('ab',0)==[]"
   ]
  },
  {
   "cell_type": "code",
   "execution_count": 163,
   "metadata": {
    "ExecuteTime": {
     "end_time": "2020-01-01T15:31:11.035489Z",
     "start_time": "2020-01-01T15:31:11.029489Z"
    }
   },
   "outputs": [
    {
     "name": "stdout",
     "output_type": "stream",
     "text": [
      "5 string\n"
     ]
    }
   ],
   "source": [
    "# str_cat\n",
    "tmp = parser.p_reg_sequence(r'\\Qa\\E',0)\n",
    "print(tmp[0],tmp[1][0])\n",
    "assert tmp[1][1]('a',0)==[(1, 'a')]"
   ]
  },
  {
   "cell_type": "code",
   "execution_count": 164,
   "metadata": {
    "ExecuteTime": {
     "end_time": "2020-01-01T15:31:23.441199Z",
     "start_time": "2020-01-01T15:31:23.428198Z"
    }
   },
   "outputs": [
    {
     "name": "stdout",
     "output_type": "stream",
     "text": [
      "10 string\n"
     ]
    }
   ],
   "source": [
    "# str_cat\n",
    "tmp = parser.p_reg_sequence(r'\\Qa\\E\\Qb\\E',0)\n",
    "print(tmp[0],tmp[1][0])\n",
    "assert tmp[1][1]('ab',0)==[(2, 'ab')]"
   ]
  },
  {
   "cell_type": "code",
   "execution_count": 167,
   "metadata": {
    "ExecuteTime": {
     "end_time": "2020-01-01T15:32:16.624241Z",
     "start_time": "2020-01-01T15:32:16.612240Z"
    }
   },
   "outputs": [
    {
     "name": "stdout",
     "output_type": "stream",
     "text": [
      "7 string\n"
     ]
    }
   ],
   "source": [
    "# str_cat\n",
    "tmp = parser.p_reg_sequence('a[qwe]b',0)\n",
    "print(tmp[0],tmp[1][0])\n",
    "assert tmp[1][1]('aqb',0)==[(3, 'aqb')]"
   ]
  },
  {
   "cell_type": "code",
   "execution_count": 170,
   "metadata": {
    "ExecuteTime": {
     "end_time": "2020-01-01T15:33:15.151588Z",
     "start_time": "2020-01-01T15:33:15.139588Z"
    },
    "scrolled": true
   },
   "outputs": [
    {
     "name": "stdout",
     "output_type": "stream",
     "text": [
      "10 string\n"
     ]
    }
   ],
   "source": [
    "# str_cat\n",
    "tmp = parser.p_reg_sequence('a([qwe]x)b',0)\n",
    "print(tmp[0],tmp[1][0])\n",
    "assert tmp[1][1]('aqxb',0)==[(4, 'aqxb')]"
   ]
  },
  {
   "cell_type": "code",
   "execution_count": 171,
   "metadata": {
    "ExecuteTime": {
     "end_time": "2020-01-01T15:33:31.779539Z",
     "start_time": "2020-01-01T15:33:31.771539Z"
    }
   },
   "outputs": [
    {
     "name": "stdout",
     "output_type": "stream",
     "text": [
      "10 obj\n"
     ]
    }
   ],
   "source": [
    "# объекты\n",
    "tmp = parser.p_reg_sequence('?nnn=[qwe]',0)\n",
    "print(tmp[0],tmp[1][0])\n",
    "assert tmp[1][1]('q',0)==[(1, {'nnn': 'q'})]"
   ]
  },
  {
   "cell_type": "code",
   "execution_count": 172,
   "metadata": {
    "ExecuteTime": {
     "end_time": "2020-01-01T15:33:44.312256Z",
     "start_time": "2020-01-01T15:33:44.300255Z"
    }
   },
   "outputs": [
    {
     "name": "stdout",
     "output_type": "stream",
     "text": [
      "14 obj\n"
     ]
    }
   ],
   "source": [
    "# implicit_obj_join\n",
    "tmp = parser.p_reg_sequence('a(?nnn=[qwe])b',0)\n",
    "print(tmp[0],tmp[1][0])\n",
    "assert tmp[1][1]('aqb',0)==[(3, {'nnn': 'q'})]"
   ]
  },
  {
   "cell_type": "code",
   "execution_count": 173,
   "metadata": {
    "ExecuteTime": {
     "end_time": "2020-01-01T15:33:58.584072Z",
     "start_time": "2020-01-01T15:33:58.573072Z"
    }
   },
   "outputs": [
    {
     "name": "stdout",
     "output_type": "stream",
     "text": [
      "24 obj\n"
     ]
    }
   ],
   "source": [
    "# implicit_obj_join\n",
    "tmp = parser.p_reg_sequence('a(?n1=[qwe])b(?n2=[asd])',0)\n",
    "print(tmp[0],tmp[1][0])\n",
    "assert tmp[1][1]('aqba',0)==[(4, {'n1': 'q', 'n2': 'a'})]"
   ]
  },
  {
   "cell_type": "code",
   "execution_count": 174,
   "metadata": {
    "ExecuteTime": {
     "end_time": "2020-01-01T15:34:10.261740Z",
     "start_time": "2020-01-01T15:34:10.253740Z"
    }
   },
   "outputs": [
    {
     "name": "stdout",
     "output_type": "stream",
     "text": [
      "7 direct\n"
     ]
    }
   ],
   "source": [
    "# direct\n",
    "tmp = parser.p_reg_sequence('?=[qwe]',0)\n",
    "print(tmp[0],tmp[1][0])\n",
    "assert tmp[1][1]('q',0)==[(1, 'q')]"
   ]
  },
  {
   "cell_type": "code",
   "execution_count": 175,
   "metadata": {
    "ExecuteTime": {
     "end_time": "2020-01-01T15:35:45.627195Z",
     "start_time": "2020-01-01T15:35:45.620195Z"
    }
   },
   "outputs": [
    {
     "name": "stdout",
     "output_type": "stream",
     "text": [
      "18 direct\n"
     ]
    }
   ],
   "source": [
    "# implicit_direct_direct\n",
    "tmp = parser.p_reg_sequence('a(?=[qwe])b([asd])',0)\n",
    "print(tmp[0],tmp[1][0])\n",
    "assert tmp[1][1]('aqba',0)==[(4, 'q')]"
   ]
  },
  {
   "cell_type": "code",
   "execution_count": 191,
   "metadata": {
    "ExecuteTime": {
     "end_time": "2020-01-01T15:36:47.318723Z",
     "start_time": "2020-01-01T15:36:47.308723Z"
    }
   },
   "outputs": [
    {
     "name": "stdout",
     "output_type": "stream",
     "text": [
      "в последовательности количество direct подпоследовательностей не должно превышать одну\n"
     ]
    }
   ],
   "source": [
    "# implicit_direct_direct\n",
    "assert parser.p_reg_sequence('a(?=[qwe])b(?=[asd])',0)==\\\n",
    "(20,\n",
    " FatalError('в последовательности количество direct подпоследовательностей не должно превышать одну'))\n"
   ]
  },
  {
   "cell_type": "code",
   "execution_count": 192,
   "metadata": {
    "ExecuteTime": {
     "end_time": "2020-01-01T15:37:17.147430Z",
     "start_time": "2020-01-01T15:37:17.140429Z"
    },
    "scrolled": true
   },
   "outputs": [
    {
     "name": "stdout",
     "output_type": "stream",
     "text": [
      "радом с direct-последовательностью находятся объектные последовательности\n"
     ]
    }
   ],
   "source": [
    "# implicit_direct_direct\n",
    "assert parser.p_reg_sequence('a(?=[qwe])b(?nnn=[asd])',0)==\\\n",
    "(23,\n",
    " FatalError('радом с direct-последовательностью находятся объектные последовательности'))"
   ]
  },
  {
   "cell_type": "code",
   "execution_count": 193,
   "metadata": {
    "ExecuteTime": {
     "end_time": "2020-01-01T15:37:34.621429Z",
     "start_time": "2020-01-01T15:37:34.610428Z"
    }
   },
   "outputs": [
    {
     "name": "stdout",
     "output_type": "stream",
     "text": [
      "16 direct\n"
     ]
    }
   ],
   "source": [
    "# direct_str_cat\n",
    "tmp = parser.p_reg_sequence('a(?=[qwe][asd])b',0)\n",
    "print(tmp[0],tmp[1][0])\n",
    "assert tmp[1][1]('aqab',0)==[(4, 'qa')]"
   ]
  },
  {
   "cell_type": "code",
   "execution_count": 195,
   "metadata": {
    "ExecuteTime": {
     "end_time": "2020-01-01T15:40:41.457115Z",
     "start_time": "2020-01-01T15:40:41.446115Z"
    }
   },
   "outputs": [
    {
     "name": "stdout",
     "output_type": "stream",
     "text": [
      "21 direct\n"
     ]
    }
   ],
   "source": [
    "# direct error warning\n",
    "tmp = parser.p_reg_sequence('?=a(?nnn=[qwe][asd])b',0)\n",
    "print(tmp[0],tmp[1][0])\n",
    "assert tmp[1][1]('aqab',0)==[(4, {'nnn': 'qa'})]"
   ]
  },
  {
   "cell_type": "code",
   "execution_count": 196,
   "metadata": {
    "ExecuteTime": {
     "end_time": "2020-01-01T15:40:50.745647Z",
     "start_time": "2020-01-01T15:40:50.733646Z"
    }
   },
   "outputs": [
    {
     "name": "stdout",
     "output_type": "stream",
     "text": [
      "18 direct\n"
     ]
    }
   ],
   "source": [
    "# direct direct\n",
    "tmp = parser.p_reg_sequence('?=a(?=[qwe][asd])b',0)\n",
    "print(tmp[0],tmp[1][0])\n",
    "assert tmp[1][1]('aqab',0)==[(4, 'qa')]"
   ]
  },
  {
   "cell_type": "code",
   "execution_count": 197,
   "metadata": {
    "ExecuteTime": {
     "end_time": "2020-01-01T15:41:08.623669Z",
     "start_time": "2020-01-01T15:41:08.614669Z"
    }
   },
   "outputs": [
    {
     "name": "stdout",
     "output_type": "stream",
     "text": [
      "радом с direct-последовательностью находятся объектные последовательности\n"
     ]
    }
   ],
   "source": [
    "# direct error\n",
    "assert parser.p_reg_sequence('?=a(?=[qwe])(?n=[asd])b',0)==\\\n",
    "(23,\n",
    " FatalError('радом с direct-последовательностью находятся объектные последовательности'))"
   ]
  },
  {
   "cell_type": "code",
   "execution_count": 198,
   "metadata": {
    "ExecuteTime": {
     "end_time": "2020-01-01T15:41:31.069953Z",
     "start_time": "2020-01-01T15:41:31.060953Z"
    }
   },
   "outputs": [
    {
     "name": "stdout",
     "output_type": "stream",
     "text": [
      "11 obj\n"
     ]
    }
   ],
   "source": [
    "# obj_str_cat\n",
    "tmp = parser.p_reg_sequence('?nn=a[qwe]b',0)\n",
    "print(tmp[0],tmp[1][0])\n",
    "assert tmp[1][1]('aqb',0)==[(3, {'nn': 'aqb'})]"
   ]
  },
  {
   "cell_type": "code",
   "execution_count": 199,
   "metadata": {
    "ExecuteTime": {
     "end_time": "2020-01-01T15:41:40.499492Z",
     "start_time": "2020-01-01T15:41:40.492492Z"
    }
   },
   "outputs": [
    {
     "name": "stdout",
     "output_type": "stream",
     "text": [
      "28 obj\n"
     ]
    }
   ],
   "source": [
    "# obj_join\n",
    "tmp = parser.p_reg_sequence('?n3=a(?n1=[qwe])b(?n2=[asd])',0)\n",
    "print(tmp[0],tmp[1][0])\n",
    "assert tmp[1][1]('aqba',0)==[(4, {'n3': {'n1': 'q', 'n2': 'a'}})]"
   ]
  },
  {
   "cell_type": "code",
   "execution_count": 200,
   "metadata": {
    "ExecuteTime": {
     "end_time": "2020-01-01T15:41:52.345170Z",
     "start_time": "2020-01-01T15:41:52.333169Z"
    }
   },
   "outputs": [
    {
     "name": "stdout",
     "output_type": "stream",
     "text": [
      "22 obj\n"
     ]
    }
   ],
   "source": [
    "# obj_direct\n",
    "tmp = parser.p_reg_sequence('?n3=a(?=[qwe])b([asd])',0)\n",
    "print(tmp[0],tmp[1][0])\n",
    "assert tmp[1][1]('aqba',0)==[(4, {'n3': 'q'})]"
   ]
  },
  {
   "cell_type": "markdown",
   "metadata": {},
   "source": [
    "### циклы"
   ]
  },
  {
   "cell_type": "markdown",
   "metadata": {},
   "source": [
    "* строковые\n",
    "* * имя не указано, паттерн строковый - конкатенируем, обработчик должен вернуть строку\n",
    "* direct\n",
    "* * имя либо не указано либо пустое, паттерн - объект или direct <br>- объединяем в массив, обработчик допустим, если указано пустое имя\n",
    "* * имя пустое, паттерн строковый - конкатенируем, обработчик допустим\n",
    "* объект\n",
    "* * имя указано, паттерн - объект или direct - объединяем в массив, обработчик допустим\n",
    "* * имя указано, паттерн строковый - конкатенируем, обработчик допустим\n",
    "\n",
    "квантификаторы бывают простыми `[+*?]` и составными `{...}` <br>\n",
    "в регулярном синтаксисе квантификаторы идут после символа или скобок (постфиксно)<br>\n",
    "в bnf-синтаксисе простой квантификатор идет посфиксно, а составной - префиксно\n",
    "\n",
    "все циклы кроме `{0-1}` или `?` - сверхжадные и агрессивные<br>\n",
    "сверхжадные - пытаются прочитать как можно больше, и более короткие варианты не возвращают ([Ревнивая квантификация (сверхжадная)](https://ru.wikipedia.org/wiki/%D0%A0%D0%B5%D0%B3%D1%83%D0%BB%D1%8F%D1%80%D0%BD%D1%8B%D0%B5_%D0%B2%D1%8B%D1%80%D0%B0%D0%B6%D0%B5%D0%BD%D0%B8%D1%8F#%D0%A0%D0%B5%D0%B2%D0%BD%D0%B8%D0%B2%D0%B0%D1%8F_%D0%BA%D0%B2%D0%B0%D0%BD%D1%82%D0%B8%D1%84%D0%B8%D0%BA%D0%B0%D1%86%D0%B8%D1%8F_(%D1%81%D0%B2%D0%B5%D1%80%D1%85%D0%B6%D0%B0%D0%B4%D0%BD%D0%B0%D1%8F))) <br>\n",
    "агрессивные - если паттерн возвращает несколько вариантов - остается только первый\n",
    "\n"
   ]
  },
  {
   "cell_type": "code",
   "execution_count": null,
   "metadata": {
    "ExecuteTime": {
     "end_time": "2019-12-29T20:16:52.113479Z",
     "start_time": "2019-12-29T20:16:51.955470Z"
    }
   },
   "outputs": [],
   "source": []
  },
  {
   "cell_type": "code",
   "execution_count": 201,
   "metadata": {
    "ExecuteTime": {
     "end_time": "2020-01-01T15:42:52.621618Z",
     "start_time": "2020-01-01T15:42:52.614617Z"
    }
   },
   "outputs": [
    {
     "name": "stdout",
     "output_type": "stream",
     "text": [
      "2 string\n"
     ]
    }
   ],
   "source": [
    "# \n",
    "tmp = parser.p_reg_sequence('a*',0)\n",
    "print(tmp[0],tmp[1][0])\n",
    "assert tmp[1][1]('aaa',0)==[(3, 'aaa')]"
   ]
  },
  {
   "cell_type": "code",
   "execution_count": 202,
   "metadata": {
    "ExecuteTime": {
     "end_time": "2020-01-01T15:43:06.976439Z",
     "start_time": "2020-01-01T15:43:06.964438Z"
    }
   },
   "outputs": [
    {
     "name": "stdout",
     "output_type": "stream",
     "text": [
      "2 string\n"
     ]
    }
   ],
   "source": [
    "# \n",
    "tmp = parser.p_reg_sequence('a?',0)\n",
    "print(tmp[0],tmp[1][0])\n",
    "assert tmp[1][1]('b',0)==[(0, '')]"
   ]
  },
  {
   "cell_type": "code",
   "execution_count": 203,
   "metadata": {
    "ExecuteTime": {
     "end_time": "2020-01-01T15:43:15.732939Z",
     "start_time": "2020-01-01T15:43:15.723939Z"
    }
   },
   "outputs": [
    {
     "name": "stdout",
     "output_type": "stream",
     "text": [
      "6 direct\n"
     ]
    }
   ],
   "source": [
    "# \n",
    "tmp = parser.p_reg_sequence('(?=a)*',0)\n",
    "print(tmp[0],tmp[1][0])\n",
    "assert tmp[1][1]('aaa',0)==[(3, ['a', 'a', 'a'])]"
   ]
  },
  {
   "cell_type": "code",
   "execution_count": null,
   "metadata": {},
   "outputs": [],
   "source": []
  },
  {
   "cell_type": "markdown",
   "metadata": {},
   "source": [
    "### перечисления (альтернатив)"
   ]
  },
  {
   "cell_type": "markdown",
   "metadata": {},
   "source": [
    "* direct - если хотябы одна из альтернатив direct\n",
    "* * direct - OK\n",
    "* * объект - Warning при компиляции, ОК при выполнении\n",
    "* * строка - Warning при компиляции, {} (пустой объект) при выполнении\n",
    "* объектное - иначе если хотябы одна из альтернатив объектная\n",
    "* * объект - ОК\n",
    "* * строка - Warning при компиляции, {} (пустой объект) при выполнении\n",
    "* строковое - иначе\n",
    "* * строка - ОК"
   ]
  },
  {
   "cell_type": "code",
   "execution_count": null,
   "metadata": {
    "ExecuteTime": {
     "end_time": "2019-12-29T22:09:05.429602Z",
     "start_time": "2019-12-29T22:09:05.409601Z"
    }
   },
   "outputs": [],
   "source": []
  },
  {
   "cell_type": "code",
   "execution_count": null,
   "metadata": {
    "ExecuteTime": {
     "end_time": "2019-12-29T22:14:26.684977Z",
     "start_time": "2019-12-29T22:14:26.672976Z"
    }
   },
   "outputs": [],
   "source": []
  },
  {
   "cell_type": "code",
   "execution_count": null,
   "metadata": {
    "ExecuteTime": {
     "end_time": "2019-12-29T22:14:32.618316Z",
     "start_time": "2019-12-29T22:14:32.605316Z"
    }
   },
   "outputs": [],
   "source": []
  },
  {
   "cell_type": "code",
   "execution_count": null,
   "metadata": {},
   "outputs": [],
   "source": []
  },
  {
   "cell_type": "code",
   "execution_count": null,
   "metadata": {},
   "outputs": [],
   "source": []
  }
 ],
 "metadata": {
  "hide_input": false,
  "kernelspec": {
   "display_name": "Python 3",
   "language": "python",
   "name": "python3"
  },
  "language_info": {
   "codemirror_mode": {
    "name": "ipython",
    "version": 3
   },
   "file_extension": ".py",
   "mimetype": "text/x-python",
   "name": "python",
   "nbconvert_exporter": "python",
   "pygments_lexer": "ipython3",
   "version": "3.6.7"
  }
 },
 "nbformat": 4,
 "nbformat_minor": 2
}
