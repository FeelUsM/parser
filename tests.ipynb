{
 "cells": [
  {
   "cell_type": "markdown",
   "metadata": {},
   "source": [
    "* модификаторы относятся к последовательносям а не к скобкам\n",
    "* функции могут быть\n",
    "* * строковые - возвращают строку\n",
    "* * direct - возвращают что угодно\n",
    "* * объектные - возвращают объект (словарь)\n",
    "* символы - строковые\n",
    "* последовательности:\n",
    "* * строковые\n",
    "* * * имя не указано, все подпоследовательности строковые - конкатенируем, обработчик должен вернуть строку\n",
    "* * direct\n",
    "* * * имя пустое или не указано, одна из подпоследовательностей direct, все остальные строковые <br>- берем только у того, который direct, все остальные игнорируем, обработчик допустим, если указано пустое имя\n",
    "* * * имя пустое, все подпоследовательности строковые - конкатенируем, обработчик допустим\n",
    "* * объектные\n",
    "* * * имя не указано, подпоследовательности строковые и объектные <br>- объединяем объектные, все остальные игнорируем, обработчик НЕдопустим\n",
    "* * * имя указано, все подпоследовательности строковые - конкатенируем, обработчик допустим\n",
    "* * * имя указано, одна из подпоследовательностей direct, все остальные строковые<br>- берем только у того, который direct, все остальные игнорируем, обработчик допустим\n",
    "* циклы\n",
    "* * строковые\n",
    "* * * имя не указано, паттерн строковый - конкатенируем, обработчик должен вернуть строку\n",
    "* * direct\n",
    "* * * имя либо не указано либо пустое, паттерн - объект или direct <br>- объединяем в массив, обработчик допустим, если указано пустое имя\n",
    "* * * имя пустое, паттерн строковый - конкатенируем, обработчик допустим\n",
    "* * объект\n",
    "* * * имя указано, паттерн - объект или direct - объединяем в массив, обработчик допустим\n",
    "* * * имя указано, паттерн строковый - конкатенируем, обработчик допустим\n",
    "* перечисления (альтернатив)\n",
    "* * direct - если хотябы одна из альтернатив direct\n",
    "* * * direct - OK\n",
    "* * * объект - Warning при компиляции, ОК при выполнении\n",
    "* * * строка - Warning при компиляции, {} (пустой объект) при выполнении\n",
    "* * объектное - иначе если хотябы одна из альтернатив объектная\n",
    "* * * объект - ОК\n",
    "* * * строка - Warning при компиляции, {} (пустой объект) при выполнении\n",
    "* * строковое - иначе\n",
    "* * * строка - ОК\n",
    "* вызов\n",
    "* * строковый - `identifier` или `$identifier`\n",
    "* * * строковый - ОК\n",
    "* * * нестроковый - результат заменяется на NoConcat(identifier)\n",
    "* * * * при конкатенации если хотябы один из результатов NoConcat, то весь результат NoConcat\n",
    "* * * * при попадании результата NoConcat в объект, direct или обработчик происходит ошибка\n",
    "* * объектный - `${name[:=]identifier}` или `${identifier}`. во втором случае name=identifier\n",
    "* * * проверка типа результата не происходит\n",
    "* * direct - `$(identifier)`\n",
    "* * * проверка типа результата не происходит\n",
    "----\n",
    "* обработчики последовательностей `/*code*/` - относятся к последовательностям - получают 1 результат\n",
    "* * строковые и direct последовательности передают 1 аргумент\n",
    "* * объектные последовательности передают объект через `**`, как показано в примере ниже\n",
    "* обработчики перечислений `//code*/` - относятся к скобкам - получают список результатов \n",
    "----\n",
    "* 1-строчные обработчики в начале дополняются `lambda`, аргументы должны быть без скобок\n",
    "* многострочные обработчики в начале дополняются `def foo`, аргументы должны быть в скобках\n",
    "----\n",
    "* todo модификатор `?!`\n",
    "* todo отложенное выполнение обработчиков циклов\n",
    "* todo конкатенация символов и строк (и классов...) в последовательностях и последующая их обработка"
   ]
  },
  {
   "cell_type": "code",
   "execution_count": 1,
   "metadata": {
    "ExecuteTime": {
     "end_time": "2019-12-30T12:20:21.606569Z",
     "start_time": "2019-12-30T12:20:21.596569Z"
    }
   },
   "outputs": [],
   "source": [
    "from my_parser import *"
   ]
  },
  {
   "cell_type": "code",
   "execution_count": 2,
   "metadata": {
    "ExecuteTime": {
     "end_time": "2019-12-30T12:20:21.737577Z",
     "start_time": "2019-12-30T12:20:21.610570Z"
    }
   },
   "outputs": [
    {
     "data": {
      "text/plain": [
       "obj(min=4,asd=6,)"
      ]
     },
     "execution_count": 2,
     "metadata": {},
     "output_type": "execute_result"
    }
   ],
   "source": [
    "obj(min=4,asd=6)"
   ]
  },
  {
   "cell_type": "code",
   "execution_count": 3,
   "metadata": {
    "ExecuteTime": {
     "end_time": "2019-12-30T12:20:21.837583Z",
     "start_time": "2019-12-30T12:20:21.740577Z"
    }
   },
   "outputs": [
    {
     "data": {
      "text/plain": [
       "'__main__'"
      ]
     },
     "execution_count": 3,
     "metadata": {},
     "output_type": "execute_result"
    }
   ],
   "source": [
    "globals()['__name__']"
   ]
  },
  {
   "cell_type": "markdown",
   "metadata": {
    "ExecuteTime": {
     "end_time": "2019-12-22T09:49:36.834706Z",
     "start_time": "2019-12-22T09:49:18.645665Z"
    }
   },
   "source": [
    "```\n",
    "в метапарсере:\n",
    "передаем (str,pos) или (s,p)\n",
    "возвращаем (pos,res) или (pos,FatalError())\n",
    "    res - результат: (тип, функция)\n",
    "    тип:\n",
    "        string\n",
    "        obj\n",
    "        direct\n",
    "\n",
    "в парсере:\n",
    "передаем (str,pos) или (s,p)\n",
    "возвращаем список [(pos,res)]\n",
    "\n",
    "типы функций: string, obj, direct\n",
    "```    "
   ]
  },
  {
   "cell_type": "code",
   "execution_count": null,
   "metadata": {
    "ExecuteTime": {
     "end_time": "2019-12-29T20:16:33.237399Z",
     "start_time": "2019-12-29T20:16:33.120392Z"
    }
   },
   "outputs": [],
   "source": []
  },
  {
   "cell_type": "code",
   "execution_count": 4,
   "metadata": {
    "ExecuteTime": {
     "end_time": "2019-12-30T12:20:21.955589Z",
     "start_time": "2019-12-30T12:20:21.843583Z"
    }
   },
   "outputs": [
    {
     "data": {
      "text/plain": [
       "FatalError('mes')"
      ]
     },
     "execution_count": 4,
     "metadata": {},
     "output_type": "execute_result"
    }
   ],
   "source": [
    "FatalError('mes')"
   ]
  },
  {
   "cell_type": "code",
   "execution_count": 5,
   "metadata": {
    "ExecuteTime": {
     "end_time": "2019-12-30T12:20:22.044594Z",
     "start_time": "2019-12-30T12:20:21.958589Z"
    }
   },
   "outputs": [
    {
     "data": {
      "text/plain": [
       "'возвращет пару (тип, pp_функция)'"
      ]
     },
     "execution_count": 5,
     "metadata": {},
     "output_type": "execute_result"
    }
   ],
   "source": [
    "# spc :=[\\ \\r\\n\\t\\v\\f]|`(|`(?!`|)`|.)*`|)`|`||`[^\\r\\n\\v\\f]*[\\r\\n\\v\\f];\n",
    "    \"\"\"возвращает пробел\"\"\"\n",
    "#   todo комментарии не реализованы\n",
    "# spcs:=$spc*;\n",
    "    \"\"\"возвращает пробел\"\"\"\n",
    "# num :=[0-9]+;\n",
    "    \"\"\"возвращает число\"\"\"\n",
    "# identifier :=[a-zA-Z_][a-zA-Z_0-9]*;\n",
    "    \"\"\"возвращает строку\"\"\"\n",
    "# quoted_sequence ::=\\` ( [^\\`\\\\] | \\\\\\` | \\\\\\\\)* \\` ;\n",
    "    \"\"\"возвращает строку\"\"\"\n",
    "#   todo сделать обычные кавычки для bnf\n",
    "# reg_char :=[^\\\\\\/\\``;|$.*+?()[]{}`]|\\\\.;\n",
    "#  || здесь перечислены управляющие символы, остальные символы считаются обычными\n",
    "#  || ^-\\/`;|$.*+?()[]{}\n",
    "    \"\"\"возвращает символ\"\"\"\n",
    "# bnf_char :=\\\\.;\n",
    "#  || любые символы считаются управляющими, обычные символы надо брать в кавычки или экранировать\n",
    "#  а управляющие символы сначала надо брать в кавычки а потом еще и экранировать внутри кавычек\n",
    "    \"\"\"возвращает символ\"\"\"\n",
    "# reg_class_char ::= [^\\\\\\/\\``^-;|$.*+?()[]{}`] | `\\\\`.;\n",
    "#  || к управляющим символам добавляется `^-`, пробелы разрешены\n",
    "    \"\"\"возвращает символ\"\"\"\n",
    "# bnf_class_char ::= [^\\\\\\/\\``^-;|$.*+?()[]{} `]| `\\\\`.;\n",
    "#  || к управляющим символам добавляется `^-`, пробелы запрещены\n",
    "    \"\"\"возвращает символ\"\"\"\n",
    "# reg_class ::= `.` | `[``^`?  (reg_classChar(`-`reg_classChar)?   |quotedSequence     )*`]` \n",
    "#  / *=>new RegExp(arg)* /;\n",
    "    \"\"\"возвращает pp_функцию\"\"\"\n",
    "# bnf_class ::= `.` | `[``^`? spcs \n",
    "#    (bnf_classChar(`-`bnf_classChar)? spcs |quotedSequence spcs)*`]` \n",
    "#  / *=>new RegExp(arg)* /;\n",
    "    \"\"\"возвращает pp_функцию\"\"\"\n",
    "# name_modifier ::= `?` identifier? `=`  || имя последовательности - имя результата\n",
    "    \"\"\"возвращет строку\"\"\"\n",
    "# seq_handler ::= `/*`(?!`*/`|.)*`*/`\n",
    "    \"\"\"возвращает функцию-обработчик\"\"\"\n",
    "# alt_handler ::= `//`(?!`*/`|.)*`*/`\n",
    "    \"\"\"возвращает функцию-обработчик\"\"\"\n",
    "# simple_quantifier ::= [`*+?`]\n",
    "    \"\"\"возвращает объект {min:int, max:int, name:..., seq_handler:..., alt_handler:...}\"\"\"\n",
    "# complex_quantifier ::=  `{`spcs \n",
    "#    (name_modifier spcs)? \n",
    "#    ([`*+?`] |`,` spcs num | num (spcs `,` spcs num?)? ) spcs \n",
    "#    (seq_handler spcs)?\n",
    "#    (alt_handler spcs)?\n",
    "#    `}` ;\n",
    "    \"\"\"возвращает объект {min:int, max:int, name:..., seq_handler:..., alt_handler:...}\"\"\"\n",
    "#-----\n",
    "# reg_str_link ::= `$`  ( ?id=identifier ) /*=>{link:arg.id}* /;\n",
    "    \"\"\"возвращет пару (тип, pp_функция)\"\"\"\n",
    "# reg_bnf_link ::= {?}`$`  ( ?id=identifier ) /*=>{link:arg.id}* /;\n",
    "    \"\"\"возвращет пару (тип, pp_функция)\"\"\"\n",
    "# obj_direct_link ::= `$` ('(' $identifier ')'\n",
    "#                          | '{' $identifier {?}([=:] $identifier)'}');\n",
    "    \"\"\"возвращет пару (тип, pp_функция)\"\"\"\n",
    "# reg_symbol ::= reg_char|quoted_sequence|reg_class|reg_str_link|obj_direct_link;\n",
    "    \"\"\"возвращет пару (тип, pp_функция)\"\"\"\n",
    "# bnf_symbol ::= bnf_char|quoted_sequence|bnf_class|bnf_str_link|obj_direct_link;\n",
    "    \"\"\"возвращет пару (тип, pp_функция)\"\"\"\n",
    "#reg_sequence ::=\n",
    "#    name_modifier?\n",
    "#    ( ( reg_symbol | `(` reg_alternatives`)` ) ## пока reg_alternatives -> reg_sequence\n",
    "#       ## quantifier?\n",
    "#    )+\n",
    "#    (seq_handler spcs)*;\n",
    "    \"\"\"возвращет пару (тип, pp_функция)\"\"\"\n"
   ]
  },
  {
   "cell_type": "markdown",
   "metadata": {},
   "source": [
    "## свободные паттерны"
   ]
  },
  {
   "cell_type": "code",
   "execution_count": 6,
   "metadata": {
    "ExecuteTime": {
     "end_time": "2019-12-30T12:20:22.135600Z",
     "start_time": "2019-12-30T12:20:22.051595Z"
    }
   },
   "outputs": [],
   "source": [
    "# spc :=[\\ \\r\\n\\t\\v\\f]|`(|`(?!`|)`|.)*`|)`|`||`[^\\r\\n\\v\\f]*[\\r\\n\\v\\f];\n",
    "# комментарии потом реализуем, если понадобится\n",
    "#def p_spc(s,p):"
   ]
  },
  {
   "cell_type": "code",
   "execution_count": 7,
   "metadata": {
    "ExecuteTime": {
     "end_time": "2019-12-30T12:20:22.260607Z",
     "start_time": "2019-12-30T12:20:22.138600Z"
    }
   },
   "outputs": [
    {
     "data": {
      "text/plain": [
       "(1, ' ')"
      ]
     },
     "execution_count": 7,
     "metadata": {},
     "output_type": "execute_result"
    }
   ],
   "source": [
    "p_spc(' ',0)"
   ]
  },
  {
   "cell_type": "code",
   "execution_count": 8,
   "metadata": {
    "ExecuteTime": {
     "end_time": "2019-12-30T12:20:22.356612Z",
     "start_time": "2019-12-30T12:20:22.262607Z"
    }
   },
   "outputs": [
    {
     "data": {
      "text/plain": [
       "(0, FatalError('ожидался пробел'))"
      ]
     },
     "execution_count": 8,
     "metadata": {},
     "output_type": "execute_result"
    }
   ],
   "source": [
    "p_spc('',0)"
   ]
  },
  {
   "cell_type": "code",
   "execution_count": 9,
   "metadata": {
    "ExecuteTime": {
     "end_time": "2019-12-30T12:20:22.430616Z",
     "start_time": "2019-12-30T12:20:22.362613Z"
    }
   },
   "outputs": [],
   "source": [
    "# spcs:=$spc*;\n",
    "#def p_spcs(s,p):"
   ]
  },
  {
   "cell_type": "code",
   "execution_count": 10,
   "metadata": {
    "ExecuteTime": {
     "end_time": "2019-12-30T12:20:22.523622Z",
     "start_time": "2019-12-30T12:20:22.432617Z"
    }
   },
   "outputs": [
    {
     "data": {
      "text/plain": [
       "(4, ' ')"
      ]
     },
     "execution_count": 10,
     "metadata": {},
     "output_type": "execute_result"
    }
   ],
   "source": [
    "p_spcs('1   ',4)"
   ]
  },
  {
   "cell_type": "code",
   "execution_count": 11,
   "metadata": {
    "ExecuteTime": {
     "end_time": "2019-12-30T12:20:22.704632Z",
     "start_time": "2019-12-30T12:20:22.526622Z"
    },
    "code_folding": []
   },
   "outputs": [],
   "source": [
    "# num :=[0-9]+;\n",
    "#def p_num(s,p):"
   ]
  },
  {
   "cell_type": "code",
   "execution_count": 12,
   "metadata": {
    "ExecuteTime": {
     "end_time": "2019-12-30T12:20:22.775636Z",
     "start_time": "2019-12-30T12:20:22.710632Z"
    }
   },
   "outputs": [
    {
     "data": {
      "text/plain": [
       "(3, 123)"
      ]
     },
     "execution_count": 12,
     "metadata": {},
     "output_type": "execute_result"
    }
   ],
   "source": [
    "p_num('123',0)"
   ]
  },
  {
   "cell_type": "code",
   "execution_count": 13,
   "metadata": {
    "ExecuteTime": {
     "end_time": "2019-12-30T12:20:22.879642Z",
     "start_time": "2019-12-30T12:20:22.779636Z"
    }
   },
   "outputs": [
    {
     "data": {
      "text/plain": [
       "(0, FatalError('ожидалось число'))"
      ]
     },
     "execution_count": 13,
     "metadata": {},
     "output_type": "execute_result"
    }
   ],
   "source": [
    "p_num('a123',0)"
   ]
  },
  {
   "cell_type": "code",
   "execution_count": 14,
   "metadata": {
    "ExecuteTime": {
     "end_time": "2019-12-30T12:20:22.947646Z",
     "start_time": "2019-12-30T12:20:22.881642Z"
    },
    "code_folding": []
   },
   "outputs": [],
   "source": [
    "# identifier :=[a-zA-Z_][a-zA-Z_0-9]*;\n",
    "#def p_identifier(s,p):"
   ]
  },
  {
   "cell_type": "code",
   "execution_count": 15,
   "metadata": {
    "ExecuteTime": {
     "end_time": "2019-12-30T12:20:23.026651Z",
     "start_time": "2019-12-30T12:20:22.949646Z"
    }
   },
   "outputs": [
    {
     "data": {
      "text/plain": [
       "(4, 'qw12')"
      ]
     },
     "execution_count": 15,
     "metadata": {},
     "output_type": "execute_result"
    }
   ],
   "source": [
    "p_identifier('qw12',0)"
   ]
  },
  {
   "cell_type": "code",
   "execution_count": 16,
   "metadata": {
    "ExecuteTime": {
     "end_time": "2019-12-30T12:20:23.109655Z",
     "start_time": "2019-12-30T12:20:23.029651Z"
    }
   },
   "outputs": [
    {
     "data": {
      "text/plain": [
       "(0, FatalError('ожидался идентификатор'))"
      ]
     },
     "execution_count": 16,
     "metadata": {},
     "output_type": "execute_result"
    }
   ],
   "source": [
    "p_identifier('1qw12',0)"
   ]
  },
  {
   "cell_type": "code",
   "execution_count": 17,
   "metadata": {
    "ExecuteTime": {
     "end_time": "2019-12-30T12:20:23.189660Z",
     "start_time": "2019-12-30T12:20:23.111655Z"
    },
    "code_folding": []
   },
   "outputs": [],
   "source": [
    "# quoted_sequence ::=\\` ( [^\\`\\\\] | \\\\\\` | \\\\\\\\)* \\` ;\n",
    "#def p_quoted_sequence(s,p):"
   ]
  },
  {
   "cell_type": "code",
   "execution_count": 18,
   "metadata": {
    "ExecuteTime": {
     "end_time": "2019-12-30T12:20:23.276665Z",
     "start_time": "2019-12-30T12:20:23.194660Z"
    }
   },
   "outputs": [
    {
     "data": {
      "text/plain": [
       "(14, 'qwe2134*%\\\\$')"
      ]
     },
     "execution_count": 18,
     "metadata": {},
     "output_type": "execute_result"
    }
   ],
   "source": [
    "p_quoted_sequence(r'`qwe2134*%\\\\$`',0)"
   ]
  },
  {
   "cell_type": "code",
   "execution_count": 19,
   "metadata": {
    "ExecuteTime": {
     "end_time": "2019-12-30T12:20:23.287665Z",
     "start_time": "2019-12-30T12:20:23.279665Z"
    }
   },
   "outputs": [
    {
     "data": {
      "text/plain": [
       "(13, FatalError('неожиданный конец файла внутри строкового литерала'))"
      ]
     },
     "execution_count": 19,
     "metadata": {},
     "output_type": "execute_result"
    }
   ],
   "source": [
    "p_quoted_sequence(r'`qwe2134*%\\\\$',0)"
   ]
  },
  {
   "cell_type": "code",
   "execution_count": 20,
   "metadata": {
    "ExecuteTime": {
     "end_time": "2019-12-30T12:20:23.297666Z",
     "start_time": "2019-12-30T12:20:23.290666Z"
    }
   },
   "outputs": [
    {
     "data": {
      "text/plain": [
       "(0, FatalError('ожидалась строка в обратных кавычках'))"
      ]
     },
     "execution_count": 20,
     "metadata": {},
     "output_type": "execute_result"
    }
   ],
   "source": [
    "p_quoted_sequence(r'qwe2134*%\\\\$',0)"
   ]
  },
  {
   "cell_type": "code",
   "execution_count": 21,
   "metadata": {
    "ExecuteTime": {
     "end_time": "2019-12-30T12:20:23.408672Z",
     "start_time": "2019-12-30T12:20:23.308667Z"
    },
    "code_folding": []
   },
   "outputs": [],
   "source": [
    "# reg_char :=[^\\\\\\/\\``;|$.*+?()[]{}`]|\\\\.;\n",
    "#  || здесь перечислены управляющие символы, остальные символы считаются обычными\n",
    "#  || ^-\\/`;|$.*+?()[]{}\n",
    "#def p_reg_char(s,p):"
   ]
  },
  {
   "cell_type": "code",
   "execution_count": 22,
   "metadata": {
    "ExecuteTime": {
     "end_time": "2019-12-30T12:20:23.608684Z",
     "start_time": "2019-12-30T12:20:23.411673Z"
    },
    "code_folding": []
   },
   "outputs": [],
   "source": [
    "# bnf_char :=\\\\.;\n",
    "#  || любые символы считаются управляющими, обычные символы надо брать в кавычки или экранировать\n",
    "#  а управляющие символы сначала надо брать в кавычки а потом еще и экранировать внутри кавычек\n",
    "#def p_bnf_char(s,p):"
   ]
  },
  {
   "cell_type": "code",
   "execution_count": 23,
   "metadata": {
    "ExecuteTime": {
     "end_time": "2019-12-30T12:20:23.672687Z",
     "start_time": "2019-12-30T12:20:23.611684Z"
    },
    "code_folding": []
   },
   "outputs": [],
   "source": [
    "# reg_class_char ::= [^\\\\\\/\\``^-;|$.*+?()[]{}`] | `\\\\`.;\n",
    "#  || к управляющим символам добавляется `^-`, пробелы разрешены\n",
    "#def p_reg_class_char(s,p):"
   ]
  },
  {
   "cell_type": "code",
   "execution_count": 24,
   "metadata": {
    "ExecuteTime": {
     "end_time": "2019-12-30T12:20:23.746692Z",
     "start_time": "2019-12-30T12:20:23.675688Z"
    },
    "code_folding": []
   },
   "outputs": [],
   "source": [
    "# bnf_class_char ::= [^\\\\\\/\\``^-;|$.*+?()[]{} `]| `\\\\`.;\n",
    "#  || к управляющим символам добавляется `^-`, пробелы запрещены\n",
    "#def p_bnf_class_char(s,p):"
   ]
  },
  {
   "cell_type": "code",
   "execution_count": 25,
   "metadata": {
    "ExecuteTime": {
     "end_time": "2019-12-30T12:20:23.830697Z",
     "start_time": "2019-12-30T12:20:23.749692Z"
    },
    "code_folding": []
   },
   "outputs": [],
   "source": [
    "# reg_class ::= `.` | `[``^`?  (reg_classChar(`-`reg_classChar)?   |quotedSequence     )*`]` \n",
    "#  / *=>new RegExp(arg)* /;\n",
    "#def p_reg_class(s,p):"
   ]
  },
  {
   "cell_type": "code",
   "execution_count": 26,
   "metadata": {
    "ExecuteTime": {
     "end_time": "2019-12-30T12:20:23.908701Z",
     "start_time": "2019-12-30T12:20:23.833697Z"
    }
   },
   "outputs": [
    {
     "data": {
      "text/plain": [
       "(0, FatalError('ожидался reg_class'))"
      ]
     },
     "execution_count": 26,
     "metadata": {},
     "output_type": "execute_result"
    }
   ],
   "source": [
    "p_reg_class('a',0)"
   ]
  },
  {
   "cell_type": "code",
   "execution_count": 27,
   "metadata": {
    "ExecuteTime": {
     "end_time": "2019-12-30T12:20:23.995706Z",
     "start_time": "2019-12-30T12:20:23.912701Z"
    }
   },
   "outputs": [
    {
     "data": {
      "text/plain": [
       "(2, FatalError('ожидалась `]`'))"
      ]
     },
     "execution_count": 27,
     "metadata": {},
     "output_type": "execute_result"
    }
   ],
   "source": [
    "p_reg_class('[a',0)"
   ]
  },
  {
   "cell_type": "code",
   "execution_count": 28,
   "metadata": {
    "ExecuteTime": {
     "end_time": "2019-12-30T12:20:24.086711Z",
     "start_time": "2019-12-30T12:20:23.998706Z"
    }
   },
   "outputs": [
    {
     "data": {
      "text/plain": [
       "(3, FatalError('ожидался reg_class_char'))"
      ]
     },
     "execution_count": 28,
     "metadata": {},
     "output_type": "execute_result"
    }
   ],
   "source": [
    "p_reg_class('[a-]',0)"
   ]
  },
  {
   "cell_type": "code",
   "execution_count": 29,
   "metadata": {
    "ExecuteTime": {
     "end_time": "2019-12-30T12:20:24.195717Z",
     "start_time": "2019-12-30T12:20:24.088711Z"
    }
   },
   "outputs": [
    {
     "data": {
      "text/plain": [
       "[1, 'a']"
      ]
     },
     "execution_count": 29,
     "metadata": {},
     "output_type": "execute_result"
    }
   ],
   "source": [
    "p_reg_class('.',0)[1]('a',0)"
   ]
  },
  {
   "cell_type": "code",
   "execution_count": 30,
   "metadata": {
    "ExecuteTime": {
     "end_time": "2019-12-30T12:20:24.434731Z",
     "start_time": "2019-12-30T12:20:24.198718Z"
    }
   },
   "outputs": [
    {
     "data": {
      "text/plain": [
       "[(1, 'a')]"
      ]
     },
     "execution_count": 30,
     "metadata": {},
     "output_type": "execute_result"
    }
   ],
   "source": [
    "p_reg_class('[a-z]',0)[1]('a',0)"
   ]
  },
  {
   "cell_type": "code",
   "execution_count": 31,
   "metadata": {
    "ExecuteTime": {
     "end_time": "2019-12-30T12:20:24.520736Z",
     "start_time": "2019-12-30T12:20:24.437731Z"
    }
   },
   "outputs": [
    {
     "data": {
      "text/plain": [
       "[]"
      ]
     },
     "execution_count": 31,
     "metadata": {},
     "output_type": "execute_result"
    }
   ],
   "source": [
    "p_reg_class('[a-z]',0)[1]('0',0)"
   ]
  },
  {
   "cell_type": "code",
   "execution_count": 32,
   "metadata": {
    "ExecuteTime": {
     "end_time": "2019-12-30T12:20:24.721747Z",
     "start_time": "2019-12-30T12:20:24.523736Z"
    }
   },
   "outputs": [
    {
     "data": {
      "text/plain": [
       "[(1, 'a')]"
      ]
     },
     "execution_count": 32,
     "metadata": {},
     "output_type": "execute_result"
    }
   ],
   "source": [
    "p_reg_class('[a]',0)[1]('a',0)"
   ]
  },
  {
   "cell_type": "code",
   "execution_count": 33,
   "metadata": {
    "ExecuteTime": {
     "end_time": "2019-12-30T12:20:24.914759Z",
     "start_time": "2019-12-30T12:20:24.724748Z"
    }
   },
   "outputs": [
    {
     "data": {
      "text/plain": [
       "[(1, 'a')]"
      ]
     },
     "execution_count": 33,
     "metadata": {},
     "output_type": "execute_result"
    }
   ],
   "source": [
    "p_reg_class('[^0-9]',0)[1]('a',0)"
   ]
  },
  {
   "cell_type": "code",
   "execution_count": 34,
   "metadata": {
    "ExecuteTime": {
     "end_time": "2019-12-30T12:20:25.099769Z",
     "start_time": "2019-12-30T12:20:24.917759Z"
    },
    "code_folding": [
     11
    ]
   },
   "outputs": [],
   "source": [
    "# bnf_class ::= `.` | `[``^`? spcs \n",
    "#    (bnf_classChar(`-`bnf_classChar)? spcs |quotedSequence spcs)*`]` \n",
    "#  / *=>new RegExp(arg)* /;\n",
    "#def p_bnf_class(s,p):"
   ]
  },
  {
   "cell_type": "code",
   "execution_count": 35,
   "metadata": {
    "ExecuteTime": {
     "end_time": "2019-12-30T12:20:25.199775Z",
     "start_time": "2019-12-30T12:20:25.101769Z"
    }
   },
   "outputs": [
    {
     "data": {
      "text/plain": [
       "(0, FatalError('ожидался bnf_class'))"
      ]
     },
     "execution_count": 35,
     "metadata": {},
     "output_type": "execute_result"
    }
   ],
   "source": [
    "p_bnf_class('a',0)"
   ]
  },
  {
   "cell_type": "code",
   "execution_count": 36,
   "metadata": {
    "ExecuteTime": {
     "end_time": "2019-12-30T12:20:25.314781Z",
     "start_time": "2019-12-30T12:20:25.202775Z"
    }
   },
   "outputs": [
    {
     "data": {
      "text/plain": [
       "(2, FatalError('ожидалась `]`'))"
      ]
     },
     "execution_count": 36,
     "metadata": {},
     "output_type": "execute_result"
    }
   ],
   "source": [
    "p_bnf_class('[a',0)"
   ]
  },
  {
   "cell_type": "code",
   "execution_count": 37,
   "metadata": {
    "ExecuteTime": {
     "end_time": "2019-12-30T12:20:25.467790Z",
     "start_time": "2019-12-30T12:20:25.317782Z"
    }
   },
   "outputs": [
    {
     "data": {
      "text/plain": [
       "(3, FatalError('ожидался reg_class_char'))"
      ]
     },
     "execution_count": 37,
     "metadata": {},
     "output_type": "execute_result"
    }
   ],
   "source": [
    "p_bnf_class('[a-]',0)"
   ]
  },
  {
   "cell_type": "code",
   "execution_count": 38,
   "metadata": {
    "ExecuteTime": {
     "end_time": "2019-12-30T12:20:25.562796Z",
     "start_time": "2019-12-30T12:20:25.471790Z"
    }
   },
   "outputs": [
    {
     "data": {
      "text/plain": [
       "[1, 'a']"
      ]
     },
     "execution_count": 38,
     "metadata": {},
     "output_type": "execute_result"
    }
   ],
   "source": [
    "p_bnf_class('.',0)[1]('a',0)"
   ]
  },
  {
   "cell_type": "code",
   "execution_count": 39,
   "metadata": {
    "ExecuteTime": {
     "end_time": "2019-12-30T12:20:25.676802Z",
     "start_time": "2019-12-30T12:20:25.565796Z"
    }
   },
   "outputs": [
    {
     "data": {
      "text/plain": [
       "[(1, 'a')]"
      ]
     },
     "execution_count": 39,
     "metadata": {},
     "output_type": "execute_result"
    }
   ],
   "source": [
    "p_bnf_class('[a-z]',0)[1]('a',0)"
   ]
  },
  {
   "cell_type": "code",
   "execution_count": 40,
   "metadata": {
    "ExecuteTime": {
     "end_time": "2019-12-30T12:20:25.778808Z",
     "start_time": "2019-12-30T12:20:25.679802Z"
    }
   },
   "outputs": [
    {
     "data": {
      "text/plain": [
       "[]"
      ]
     },
     "execution_count": 40,
     "metadata": {},
     "output_type": "execute_result"
    }
   ],
   "source": [
    "p_bnf_class('[a-z]',0)[1]('0',0)"
   ]
  },
  {
   "cell_type": "code",
   "execution_count": 41,
   "metadata": {
    "ExecuteTime": {
     "end_time": "2019-12-30T12:20:25.966819Z",
     "start_time": "2019-12-30T12:20:25.783808Z"
    }
   },
   "outputs": [
    {
     "data": {
      "text/plain": [
       "[(1, 'a')]"
      ]
     },
     "execution_count": 41,
     "metadata": {},
     "output_type": "execute_result"
    }
   ],
   "source": [
    "p_bnf_class('[a]',0)[1]('a',0)"
   ]
  },
  {
   "cell_type": "code",
   "execution_count": 42,
   "metadata": {
    "ExecuteTime": {
     "end_time": "2019-12-30T12:20:26.081825Z",
     "start_time": "2019-12-30T12:20:25.969819Z"
    }
   },
   "outputs": [
    {
     "data": {
      "text/plain": [
       "[(1, 'a')]"
      ]
     },
     "execution_count": 42,
     "metadata": {},
     "output_type": "execute_result"
    }
   ],
   "source": [
    "p_bnf_class('[^0-9]',0)[1]('a',0)"
   ]
  },
  {
   "cell_type": "code",
   "execution_count": 43,
   "metadata": {
    "ExecuteTime": {
     "end_time": "2019-12-30T12:20:26.657858Z",
     "start_time": "2019-12-30T12:20:26.084825Z"
    }
   },
   "outputs": [
    {
     "data": {
      "text/plain": [
       "[(1, 'a')]"
      ]
     },
     "execution_count": 43,
     "metadata": {},
     "output_type": "execute_result"
    }
   ],
   "source": [
    "p_bnf_class('[ a-z ]',0)[1]('a',0)"
   ]
  },
  {
   "cell_type": "code",
   "execution_count": 44,
   "metadata": {
    "ExecuteTime": {
     "end_time": "2019-12-30T12:20:26.762864Z",
     "start_time": "2019-12-30T12:20:26.660858Z"
    }
   },
   "outputs": [
    {
     "data": {
      "text/plain": [
       "(4, FatalError('ожидалась `]`'))"
      ]
     },
     "execution_count": 44,
     "metadata": {},
     "output_type": "execute_result"
    }
   ],
   "source": [
    "p_bnf_class('[ a - z ]',0)"
   ]
  },
  {
   "cell_type": "code",
   "execution_count": 45,
   "metadata": {
    "ExecuteTime": {
     "end_time": "2019-12-30T12:20:26.847869Z",
     "start_time": "2019-12-30T12:20:26.764864Z"
    },
    "code_folding": []
   },
   "outputs": [],
   "source": [
    "# name_modifier ::= `?` identifier? `=`  || имя последовательности - имя результата\n",
    "#def p_name_modifier(s,p):"
   ]
  },
  {
   "cell_type": "code",
   "execution_count": 46,
   "metadata": {
    "ExecuteTime": {
     "end_time": "2019-12-30T12:20:26.950875Z",
     "start_time": "2019-12-30T12:20:26.851869Z"
    }
   },
   "outputs": [
    {
     "data": {
      "text/plain": [
       "(0, FatalError('ожидался name_modifier'))"
      ]
     },
     "execution_count": 46,
     "metadata": {},
     "output_type": "execute_result"
    }
   ],
   "source": [
    "p_name_modifier('a=',0)"
   ]
  },
  {
   "cell_type": "code",
   "execution_count": 47,
   "metadata": {
    "ExecuteTime": {
     "end_time": "2019-12-30T12:20:27.044880Z",
     "start_time": "2019-12-30T12:20:26.953875Z"
    }
   },
   "outputs": [
    {
     "data": {
      "text/plain": [
       "(2, FatalError('ожидалось `=`'))"
      ]
     },
     "execution_count": 47,
     "metadata": {},
     "output_type": "execute_result"
    }
   ],
   "source": [
    "p_name_modifier('?a',0)"
   ]
  },
  {
   "cell_type": "code",
   "execution_count": 48,
   "metadata": {
    "ExecuteTime": {
     "end_time": "2019-12-30T12:20:27.150886Z",
     "start_time": "2019-12-30T12:20:27.047881Z"
    }
   },
   "outputs": [
    {
     "data": {
      "text/plain": [
       "(3, 'a')"
      ]
     },
     "execution_count": 48,
     "metadata": {},
     "output_type": "execute_result"
    }
   ],
   "source": [
    "p_name_modifier('?a=',0)"
   ]
  },
  {
   "cell_type": "code",
   "execution_count": 49,
   "metadata": {
    "ExecuteTime": {
     "end_time": "2019-12-30T12:20:27.255892Z",
     "start_time": "2019-12-30T12:20:27.153887Z"
    }
   },
   "outputs": [
    {
     "data": {
      "text/plain": [
       "(2, '')"
      ]
     },
     "execution_count": 49,
     "metadata": {},
     "output_type": "execute_result"
    }
   ],
   "source": [
    "p_name_modifier('?=',0)"
   ]
  },
  {
   "cell_type": "code",
   "execution_count": 50,
   "metadata": {
    "ExecuteTime": {
     "end_time": "2019-12-30T12:20:27.330897Z",
     "start_time": "2019-12-30T12:20:27.260893Z"
    },
    "code_folding": []
   },
   "outputs": [],
   "source": [
    "# seq_handler ::= `/*`(?!`*/`|.)*`*/`\n",
    "#def p_seq_handler(s,p):"
   ]
  },
  {
   "cell_type": "code",
   "execution_count": 51,
   "metadata": {
    "ExecuteTime": {
     "end_time": "2019-12-30T12:20:27.429902Z",
     "start_time": "2019-12-30T12:20:27.332897Z"
    }
   },
   "outputs": [
    {
     "name": "stdout",
     "output_type": "stream",
     "text": [
      "2 3 8\n",
      "2 3 8\n"
     ]
    },
    {
     "data": {
      "text/plain": [
       "13"
      ]
     },
     "execution_count": 51,
     "metadata": {},
     "output_type": "execute_result"
    }
   ],
   "source": [
    "o = {'a':2,'b':3}\n",
    "\"b,a,c=8: print(a,b,c)\"\n",
    "foo =lambda b,a,c=8: print(a,b,c)\n",
    "foo(**o)\n",
    "\n",
    "\"\"\"(b,a,c=8): \n",
    "    print(a,b,c)\n",
    "\"\"\"\n",
    "def bar(b,a,c=8): \n",
    "    print(a,b,c)\n",
    "bar(**o)\n",
    "\n",
    "code1 = 'lambda b,a,c=8: a+b+c'\n",
    "code11 = eval(code1)\n",
    "code11(**o)\n",
    "\n",
    "def foo():\n",
    "    code2 = \\\n",
    "'''\n",
    "def qwer(b,a,c=8): \n",
    "    return a+b+c\n",
    "'''\n",
    "    g = globals()\n",
    "    exec(code2,g)\n",
    "    return g['qwer']\n",
    "code = foo()\n",
    "code(**o)"
   ]
  },
  {
   "cell_type": "code",
   "execution_count": 52,
   "metadata": {
    "ExecuteTime": {
     "end_time": "2019-12-30T12:20:27.501906Z",
     "start_time": "2019-12-30T12:20:27.442903Z"
    }
   },
   "outputs": [
    {
     "data": {
      "text/plain": [
       "(0, FatalError('ожидался seq_handler'))"
      ]
     },
     "execution_count": 52,
     "metadata": {},
     "output_type": "execute_result"
    }
   ],
   "source": [
    "p_seq_handler('a,b:a+b*/',0)"
   ]
  },
  {
   "cell_type": "code",
   "execution_count": 53,
   "metadata": {
    "ExecuteTime": {
     "end_time": "2019-12-30T12:20:27.604912Z",
     "start_time": "2019-12-30T12:20:27.506907Z"
    }
   },
   "outputs": [
    {
     "data": {
      "text/plain": [
       "(9, FatalError('неожиданный конец файла'))"
      ]
     },
     "execution_count": 53,
     "metadata": {},
     "output_type": "execute_result"
    }
   ],
   "source": [
    "p_seq_handler('/*a,b:a+b',0)"
   ]
  },
  {
   "cell_type": "code",
   "execution_count": 54,
   "metadata": {
    "ExecuteTime": {
     "end_time": "2019-12-30T12:20:27.684917Z",
     "start_time": "2019-12-30T12:20:27.618913Z"
    }
   },
   "outputs": [
    {
     "data": {
      "text/plain": [
       "5"
      ]
     },
     "execution_count": 54,
     "metadata": {},
     "output_type": "execute_result"
    }
   ],
   "source": [
    "p_seq_handler('/*a,b:a+b*/',0)[1](2,3)"
   ]
  },
  {
   "cell_type": "code",
   "execution_count": 55,
   "metadata": {
    "ExecuteTime": {
     "end_time": "2019-12-30T12:20:27.805924Z",
     "start_time": "2019-12-30T12:20:27.686917Z"
    }
   },
   "outputs": [
    {
     "data": {
      "text/plain": [
       "5"
      ]
     },
     "execution_count": 55,
     "metadata": {},
     "output_type": "execute_result"
    }
   ],
   "source": [
    "p_seq_handler('''\n",
    "/*(a,b):\n",
    "    return a+b*/''',\n",
    "              1)[1](2,3)"
   ]
  },
  {
   "cell_type": "code",
   "execution_count": 56,
   "metadata": {
    "ExecuteTime": {
     "end_time": "2019-12-30T12:20:27.899929Z",
     "start_time": "2019-12-30T12:20:27.808924Z"
    }
   },
   "outputs": [
    {
     "name": "stdout",
     "output_type": "stream",
     "text": [
      "2 FatalError('ошибка при компиляции обработчика') 11 invalid syntax (<string>, line 1)\n"
     ]
    },
    {
     "data": {
      "text/plain": [
       "(2, FatalError('ошибка при компиляции обработчика'))"
      ]
     },
     "execution_count": 56,
     "metadata": {},
     "output_type": "execute_result"
    }
   ],
   "source": [
    "p_seq_handler('/*a,a+\"aaa\"*/',0)"
   ]
  },
  {
   "cell_type": "code",
   "execution_count": 57,
   "metadata": {
    "ExecuteTime": {
     "end_time": "2019-12-30T12:20:28.000935Z",
     "start_time": "2019-12-30T12:20:27.901929Z"
    }
   },
   "outputs": [
    {
     "name": "stdout",
     "output_type": "stream",
     "text": [
      "<class 'SyntaxError'>\n"
     ]
    },
    {
     "data": {
      "text/plain": [
       "11"
      ]
     },
     "execution_count": 57,
     "metadata": {},
     "output_type": "execute_result"
    }
   ],
   "source": [
    "code = 'lambda a,a+\"aaa'\n",
    "try:\n",
    "    eval(code)\n",
    "except BaseException as e:\n",
    "    err = e\n",
    "print(type(err))\n",
    "err.offset"
   ]
  },
  {
   "cell_type": "code",
   "execution_count": 58,
   "metadata": {
    "ExecuteTime": {
     "end_time": "2019-12-30T12:20:28.109941Z",
     "start_time": "2019-12-30T12:20:28.003935Z"
    },
    "code_folding": []
   },
   "outputs": [],
   "source": [
    "# alt_handler ::= `//`(?!`*/`|.)*`*/`\n",
    "#def p_alt_handler(s,p):"
   ]
  },
  {
   "cell_type": "code",
   "execution_count": 59,
   "metadata": {
    "ExecuteTime": {
     "end_time": "2019-12-30T12:20:28.210947Z",
     "start_time": "2019-12-30T12:20:28.111941Z"
    }
   },
   "outputs": [
    {
     "data": {
      "text/plain": [
       "(0, FatalError('ожидался alt_handler'))"
      ]
     },
     "execution_count": 59,
     "metadata": {},
     "output_type": "execute_result"
    }
   ],
   "source": [
    "p_alt_handler('a,b:a+b*/',0)"
   ]
  },
  {
   "cell_type": "code",
   "execution_count": 60,
   "metadata": {
    "ExecuteTime": {
     "end_time": "2019-12-30T12:20:28.322953Z",
     "start_time": "2019-12-30T12:20:28.213947Z"
    }
   },
   "outputs": [
    {
     "data": {
      "text/plain": [
       "(9, FatalError('неожиданный конец файла'))"
      ]
     },
     "execution_count": 60,
     "metadata": {},
     "output_type": "execute_result"
    }
   ],
   "source": [
    "p_alt_handler('//a,b:a+b',0)"
   ]
  },
  {
   "cell_type": "code",
   "execution_count": 61,
   "metadata": {
    "ExecuteTime": {
     "end_time": "2019-12-30T12:20:28.448961Z",
     "start_time": "2019-12-30T12:20:28.324954Z"
    }
   },
   "outputs": [
    {
     "data": {
      "text/plain": [
       "5"
      ]
     },
     "execution_count": 61,
     "metadata": {},
     "output_type": "execute_result"
    }
   ],
   "source": [
    "p_alt_handler('//a,b:a+b*/',0)[1](2,3)"
   ]
  },
  {
   "cell_type": "code",
   "execution_count": 62,
   "metadata": {
    "ExecuteTime": {
     "end_time": "2019-12-30T12:20:28.597969Z",
     "start_time": "2019-12-30T12:20:28.450961Z"
    }
   },
   "outputs": [
    {
     "data": {
      "text/plain": [
       "5"
      ]
     },
     "execution_count": 62,
     "metadata": {},
     "output_type": "execute_result"
    }
   ],
   "source": [
    "p_alt_handler('''\n",
    "//(a,b):\n",
    "    return a+b*/''',\n",
    "              1)[1](2,3)"
   ]
  },
  {
   "cell_type": "code",
   "execution_count": 63,
   "metadata": {
    "ExecuteTime": {
     "end_time": "2019-12-30T12:20:28.750978Z",
     "start_time": "2019-12-30T12:20:28.601969Z"
    },
    "code_folding": []
   },
   "outputs": [],
   "source": [
    "# simple_quantifier ::= [`*+?`]\n",
    "#def p_simple_quantifier(s,p):"
   ]
  },
  {
   "cell_type": "code",
   "execution_count": 64,
   "metadata": {
    "ExecuteTime": {
     "end_time": "2019-12-30T12:20:28.888986Z",
     "start_time": "2019-12-30T12:20:28.753978Z"
    }
   },
   "outputs": [
    {
     "data": {
      "text/plain": [
       "(0, FatalError('ожидался simple_quantifier'))"
      ]
     },
     "execution_count": 64,
     "metadata": {},
     "output_type": "execute_result"
    }
   ],
   "source": [
    "p_simple_quantifier('',0)"
   ]
  },
  {
   "cell_type": "code",
   "execution_count": 65,
   "metadata": {
    "ExecuteTime": {
     "end_time": "2019-12-30T12:20:29.019993Z",
     "start_time": "2019-12-30T12:20:28.891986Z"
    }
   },
   "outputs": [
    {
     "data": {
      "text/plain": [
       "(1, obj(min=0,max=-1,name=None,seq_handlers=[],))"
      ]
     },
     "execution_count": 65,
     "metadata": {},
     "output_type": "execute_result"
    }
   ],
   "source": [
    "p_simple_quantifier('*',0)"
   ]
  },
  {
   "cell_type": "code",
   "execution_count": 66,
   "metadata": {
    "ExecuteTime": {
     "end_time": "2019-12-30T12:20:29.136000Z",
     "start_time": "2019-12-30T12:20:29.022993Z"
    }
   },
   "outputs": [
    {
     "data": {
      "text/plain": [
       "(1, obj(min=1,max=-1,name=None,seq_handlers=[],))"
      ]
     },
     "execution_count": 66,
     "metadata": {},
     "output_type": "execute_result"
    }
   ],
   "source": [
    "p_simple_quantifier('+',0)"
   ]
  },
  {
   "cell_type": "code",
   "execution_count": 67,
   "metadata": {
    "ExecuteTime": {
     "end_time": "2019-12-30T12:20:29.269008Z",
     "start_time": "2019-12-30T12:20:29.139000Z"
    }
   },
   "outputs": [
    {
     "data": {
      "text/plain": [
       "(1, obj(min=0,max=1,name=None,seq_handlers=[],))"
      ]
     },
     "execution_count": 67,
     "metadata": {},
     "output_type": "execute_result"
    }
   ],
   "source": [
    "p_simple_quantifier('?',0)"
   ]
  },
  {
   "cell_type": "code",
   "execution_count": 68,
   "metadata": {
    "ExecuteTime": {
     "end_time": "2019-12-30T12:20:29.380014Z",
     "start_time": "2019-12-30T12:20:29.272008Z"
    },
    "code_folding": [
     10,
     12,
     25,
     29,
     33
    ]
   },
   "outputs": [],
   "source": [
    "# complex_quantifier ::= `{`spcs \n",
    "#    (name_modifier spcs)? \n",
    "#    ([`*+?`] |`,` spcs num | num (spcs `,` spcs num?)? ) spcs \n",
    "#    (seq_handler spcs)*\n",
    "#    `}` ;\n",
    "#def p_complex_quantifier(s,p):"
   ]
  },
  {
   "cell_type": "code",
   "execution_count": 69,
   "metadata": {
    "ExecuteTime": {
     "end_time": "2019-12-30T12:20:29.494020Z",
     "start_time": "2019-12-30T12:20:29.384014Z"
    }
   },
   "outputs": [
    {
     "data": {
      "text/plain": [
       "(3, FatalError(''))"
      ]
     },
     "execution_count": 69,
     "metadata": {},
     "output_type": "execute_result"
    }
   ],
   "source": [
    "p_complex_quantifier('{,3',0)"
   ]
  },
  {
   "cell_type": "code",
   "execution_count": 70,
   "metadata": {
    "ExecuteTime": {
     "end_time": "2019-12-30T12:20:29.686031Z",
     "start_time": "2019-12-30T12:20:29.496021Z"
    }
   },
   "outputs": [
    {
     "data": {
      "text/plain": [
       "(2, FatalError(''))"
      ]
     },
     "execution_count": 70,
     "metadata": {},
     "output_type": "execute_result"
    }
   ],
   "source": [
    "p_complex_quantifier('{,}',0)"
   ]
  },
  {
   "cell_type": "code",
   "execution_count": 71,
   "metadata": {
    "ExecuteTime": {
     "end_time": "2019-12-30T12:20:29.920045Z",
     "start_time": "2019-12-30T12:20:29.689032Z"
    }
   },
   "outputs": [
    {
     "data": {
      "text/plain": [
       "(4, obj(min=0,max=3,name=None,seq_handlers=[],))"
      ]
     },
     "execution_count": 71,
     "metadata": {},
     "output_type": "execute_result"
    }
   ],
   "source": [
    "p_complex_quantifier('{,3}',0)"
   ]
  },
  {
   "cell_type": "code",
   "execution_count": 72,
   "metadata": {
    "ExecuteTime": {
     "end_time": "2019-12-30T12:20:30.046052Z",
     "start_time": "2019-12-30T12:20:29.923045Z"
    }
   },
   "outputs": [
    {
     "data": {
      "text/plain": [
       "(3, obj(min=3,max=3,name=None,seq_handlers=[],))"
      ]
     },
     "execution_count": 72,
     "metadata": {},
     "output_type": "execute_result"
    }
   ],
   "source": [
    "p_complex_quantifier('{3}',0)"
   ]
  },
  {
   "cell_type": "code",
   "execution_count": 73,
   "metadata": {
    "ExecuteTime": {
     "end_time": "2019-12-30T12:20:30.170059Z",
     "start_time": "2019-12-30T12:20:30.050052Z"
    }
   },
   "outputs": [
    {
     "data": {
      "text/plain": [
       "(1, FatalError(''))"
      ]
     },
     "execution_count": 73,
     "metadata": {},
     "output_type": "execute_result"
    }
   ],
   "source": [
    "p_complex_quantifier('{}',0)"
   ]
  },
  {
   "cell_type": "code",
   "execution_count": 74,
   "metadata": {
    "ExecuteTime": {
     "end_time": "2019-12-30T12:20:30.407073Z",
     "start_time": "2019-12-30T12:20:30.173059Z"
    }
   },
   "outputs": [
    {
     "data": {
      "text/plain": [
       "(2, FatalError(''))"
      ]
     },
     "execution_count": 74,
     "metadata": {},
     "output_type": "execute_result"
    }
   ],
   "source": [
    "p_complex_quantifier('{3-5}',0)"
   ]
  },
  {
   "cell_type": "code",
   "execution_count": 75,
   "metadata": {
    "ExecuteTime": {
     "end_time": "2019-12-30T12:20:30.636086Z",
     "start_time": "2019-12-30T12:20:30.413073Z"
    }
   },
   "outputs": [
    {
     "data": {
      "text/plain": [
       "(5, obj(min=3,max=5,name=None,seq_handlers=[],))"
      ]
     },
     "execution_count": 75,
     "metadata": {},
     "output_type": "execute_result"
    }
   ],
   "source": [
    "p_complex_quantifier('{3,5}',0)"
   ]
  },
  {
   "cell_type": "code",
   "execution_count": 76,
   "metadata": {
    "ExecuteTime": {
     "end_time": "2019-12-30T12:20:30.878100Z",
     "start_time": "2019-12-30T12:20:30.639086Z"
    }
   },
   "outputs": [
    {
     "data": {
      "text/plain": [
       "(3, obj(min=0,max=1,name=None,seq_handlers=[],))"
      ]
     },
     "execution_count": 76,
     "metadata": {},
     "output_type": "execute_result"
    }
   ],
   "source": [
    "p_complex_quantifier('{?}',0)"
   ]
  },
  {
   "cell_type": "code",
   "execution_count": 77,
   "metadata": {
    "ExecuteTime": {
     "end_time": "2019-12-30T12:20:30.996106Z",
     "start_time": "2019-12-30T12:20:30.881100Z"
    }
   },
   "outputs": [
    {
     "data": {
      "text/plain": [
       "(21,\n",
       " obj(min=0,max=-1,name=qwe,seq_handlers=[<function <lambda> at 0x00000000051A12F0>],))"
      ]
     },
     "execution_count": 77,
     "metadata": {},
     "output_type": "execute_result"
    }
   ],
   "source": [
    "p_complex_quantifier('{?qwe=*/*a:a+\"aaa\"*/}',0)"
   ]
  },
  {
   "cell_type": "code",
   "execution_count": 78,
   "metadata": {
    "ExecuteTime": {
     "end_time": "2019-12-30T12:20:31.094112Z",
     "start_time": "2019-12-30T12:20:30.999107Z"
    }
   },
   "outputs": [
    {
     "data": {
      "text/plain": [
       "(5, FatalError(''))"
      ]
     },
     "execution_count": 78,
     "metadata": {},
     "output_type": "execute_result"
    }
   ],
   "source": [
    "p_complex_quantifier('{?=,7//a:a+\"aaa\"*/}',0)"
   ]
  },
  {
   "cell_type": "code",
   "execution_count": 79,
   "metadata": {
    "ExecuteTime": {
     "end_time": "2019-12-30T12:20:31.205118Z",
     "start_time": "2019-12-30T12:20:31.096112Z"
    }
   },
   "outputs": [
    {
     "data": {
      "text/plain": [
       "(23,\n",
       " obj(min=0,max=-1,name=qwe,seq_handlers=[<function <lambda> at 0x00000000051A19D8>],))"
      ]
     },
     "execution_count": 79,
     "metadata": {},
     "output_type": "execute_result"
    }
   ],
   "source": [
    "p_complex_quantifier('{?qwe= * /*a:a+\"aaa\"*/}',0)"
   ]
  },
  {
   "cell_type": "markdown",
   "metadata": {},
   "source": [
    "## паттерны, связанные с классом"
   ]
  },
  {
   "cell_type": "code",
   "execution_count": null,
   "metadata": {
    "ExecuteTime": {
     "end_time": "2019-12-29T20:16:44.370036Z",
     "start_time": "2019-12-29T20:16:44.282031Z"
    }
   },
   "outputs": [],
   "source": []
  },
  {
   "cell_type": "code",
   "execution_count": 80,
   "metadata": {
    "ExecuteTime": {
     "end_time": "2019-12-30T12:20:31.301124Z",
     "start_time": "2019-12-30T12:20:31.208118Z"
    }
   },
   "outputs": [
    {
     "data": {
      "text/plain": [
       "7"
      ]
     },
     "execution_count": 80,
     "metadata": {},
     "output_type": "execute_result"
    }
   ],
   "source": [
    "class CLS:\n",
    "    pass\n",
    "@add_method(CLS)\n",
    "def foo(self):\n",
    "    self.k = 7\n",
    "p = CLS()\n",
    "p.foo()\n",
    "p.k"
   ]
  },
  {
   "cell_type": "code",
   "execution_count": null,
   "metadata": {
    "ExecuteTime": {
     "end_time": "2019-12-29T20:16:44.695054Z",
     "start_time": "2019-12-29T20:16:44.591048Z"
    }
   },
   "outputs": [],
   "source": []
  },
  {
   "cell_type": "code",
   "execution_count": 81,
   "metadata": {
    "ExecuteTime": {
     "end_time": "2019-12-30T12:20:31.431131Z",
     "start_time": "2019-12-30T12:20:31.305124Z"
    }
   },
   "outputs": [
    {
     "data": {
      "text/plain": [
       "[1, 2, 3]"
      ]
     },
     "execution_count": 81,
     "metadata": {},
     "output_type": "execute_result"
    }
   ],
   "source": [
    "list((1,2,3))"
   ]
  },
  {
   "cell_type": "code",
   "execution_count": 82,
   "metadata": {
    "ExecuteTime": {
     "end_time": "2019-12-30T12:20:31.548138Z",
     "start_time": "2019-12-30T12:20:31.433131Z"
    }
   },
   "outputs": [
    {
     "data": {
      "text/plain": [
       "[]"
      ]
     },
     "execution_count": 82,
     "metadata": {},
     "output_type": "execute_result"
    }
   ],
   "source": [
    "Elist(1,(1,2,3))"
   ]
  },
  {
   "cell_type": "code",
   "execution_count": 83,
   "metadata": {
    "ExecuteTime": {
     "end_time": "2019-12-30T12:20:31.654144Z",
     "start_time": "2019-12-30T12:20:31.551138Z"
    }
   },
   "outputs": [
    {
     "data": {
      "text/plain": [
       "[]"
      ]
     },
     "execution_count": 83,
     "metadata": {},
     "output_type": "execute_result"
    }
   ],
   "source": [
    "Elist(3,'a')"
   ]
  },
  {
   "cell_type": "code",
   "execution_count": 84,
   "metadata": {
    "ExecuteTime": {
     "end_time": "2019-12-30T12:20:31.742149Z",
     "start_time": "2019-12-30T12:20:31.658144Z"
    }
   },
   "outputs": [
    {
     "name": "stdout",
     "output_type": "stream",
     "text": [
      "a\n"
     ]
    },
    {
     "data": {
      "text/plain": [
       "True"
      ]
     },
     "execution_count": 84,
     "metadata": {},
     "output_type": "execute_result"
    }
   ],
   "source": [
    "x = Elist(3,'a')\n",
    "print(x.mes)\n",
    "x==[]"
   ]
  },
  {
   "cell_type": "code",
   "execution_count": 85,
   "metadata": {
    "ExecuteTime": {
     "end_time": "2019-12-30T12:20:31.843155Z",
     "start_time": "2019-12-30T12:20:31.745149Z"
    }
   },
   "outputs": [
    {
     "data": {
      "text/plain": [
       "list"
      ]
     },
     "execution_count": 85,
     "metadata": {},
     "output_type": "execute_result"
    }
   ],
   "source": [
    "type(Elist(3,'a')+[])"
   ]
  },
  {
   "cell_type": "code",
   "execution_count": null,
   "metadata": {
    "ExecuteTime": {
     "end_time": "2019-12-29T20:16:45.377093Z",
     "start_time": "2019-12-29T20:16:45.249086Z"
    }
   },
   "outputs": [],
   "source": []
  },
  {
   "cell_type": "code",
   "execution_count": null,
   "metadata": {
    "ExecuteTime": {
     "end_time": "2019-12-29T20:16:45.541103Z",
     "start_time": "2019-12-29T20:16:45.385094Z"
    }
   },
   "outputs": [],
   "source": [
    "\n"
   ]
  },
  {
   "cell_type": "markdown",
   "metadata": {},
   "source": [
    "### Вызов"
   ]
  },
  {
   "cell_type": "code",
   "execution_count": 86,
   "metadata": {
    "ExecuteTime": {
     "end_time": "2019-12-30T12:20:31.919159Z",
     "start_time": "2019-12-30T12:20:31.851155Z"
    }
   },
   "outputs": [],
   "source": [
    "#def make_pattern_as_str(self,iden):"
   ]
  },
  {
   "cell_type": "code",
   "execution_count": 87,
   "metadata": {
    "ExecuteTime": {
     "end_time": "2019-12-30T12:20:31.993163Z",
     "start_time": "2019-12-30T12:20:31.921159Z"
    },
    "code_folding": []
   },
   "outputs": [],
   "source": [
    "# reg_str_link ::= `$`  ( ?id=identifier ) /*=>{link:arg.id}* /;\n",
    "#@add_method(Parser)\n",
    "#def p_reg_str_link(self,s,p):"
   ]
  },
  {
   "cell_type": "code",
   "execution_count": 88,
   "metadata": {
    "ExecuteTime": {
     "end_time": "2019-12-30T12:20:32.092169Z",
     "start_time": "2019-12-30T12:20:31.995163Z"
    },
    "code_folding": []
   },
   "outputs": [],
   "source": [
    "# reg_bnf_link ::= {?}`$`  ( ?id=identifier ) /*=>{link:arg.id}* /;\n",
    "#@add_method(Parser)\n",
    "#def p_bnf_str_link(self,s,p):"
   ]
  },
  {
   "cell_type": "code",
   "execution_count": 89,
   "metadata": {
    "ExecuteTime": {
     "end_time": "2019-12-30T12:20:32.175174Z",
     "start_time": "2019-12-30T12:20:32.094169Z"
    }
   },
   "outputs": [],
   "source": [
    "# obj_direct_link ::= `$` ('(' $identifier ')'\n",
    "#                          | '{' $identifier {?}([=:] $identifier)'}');\n",
    "#@add_method(Parser)\n",
    "#def p_obj_direct_link(self,s,p):"
   ]
  },
  {
   "cell_type": "code",
   "execution_count": 90,
   "metadata": {
    "ExecuteTime": {
     "end_time": "2019-12-30T12:20:32.377185Z",
     "start_time": "2019-12-30T12:20:32.177174Z"
    },
    "code_folding": []
   },
   "outputs": [
    {
     "data": {
      "text/plain": [
       "(0, FatalError(''))"
      ]
     },
     "execution_count": 90,
     "metadata": {},
     "output_type": "execute_result"
    }
   ],
   "source": [
    "parser = Parser()\n",
    "parser.p_obj_direct_link('p',0)"
   ]
  },
  {
   "cell_type": "code",
   "execution_count": 91,
   "metadata": {
    "ExecuteTime": {
     "end_time": "2019-12-30T12:20:32.467190Z",
     "start_time": "2019-12-30T12:20:32.381186Z"
    },
    "code_folding": []
   },
   "outputs": [
    {
     "data": {
      "text/plain": [
       "(4,\n",
       " ('direct',\n",
       "  <function my_parser.p_obj_direct_link.<locals>.pp_pattern_as_direct(s, p)>))"
      ]
     },
     "execution_count": 91,
     "metadata": {},
     "output_type": "execute_result"
    }
   ],
   "source": [
    "parser = Parser()\n",
    "parser.p_obj_direct_link('$(p)',0)"
   ]
  },
  {
   "cell_type": "code",
   "execution_count": 92,
   "metadata": {
    "ExecuteTime": {
     "end_time": "2019-12-30T12:20:32.556196Z",
     "start_time": "2019-12-30T12:20:32.470191Z"
    },
    "code_folding": []
   },
   "outputs": [
    {
     "data": {
      "text/plain": [
       "(4,\n",
       " ('obj',\n",
       "  <function my_parser.p_obj_direct_link.<locals>.pp_pattern_as_obj(s, p)>))"
      ]
     },
     "execution_count": 92,
     "metadata": {},
     "output_type": "execute_result"
    }
   ],
   "source": [
    "parser = Parser()\n",
    "parser.p_obj_direct_link('${p}',0)"
   ]
  },
  {
   "cell_type": "code",
   "execution_count": 93,
   "metadata": {
    "ExecuteTime": {
     "end_time": "2019-12-30T12:20:32.644201Z",
     "start_time": "2019-12-30T12:20:32.560196Z"
    },
    "code_folding": []
   },
   "outputs": [
    {
     "data": {
      "text/plain": [
       "(6,\n",
       " ('obj',\n",
       "  <function my_parser.p_obj_direct_link.<locals>.pp_pattern_as_obj(s, p)>))"
      ]
     },
     "execution_count": 93,
     "metadata": {},
     "output_type": "execute_result"
    }
   ],
   "source": [
    "parser = Parser()\n",
    "parser.p_obj_direct_link('${n:p}',0)"
   ]
  },
  {
   "cell_type": "code",
   "execution_count": 94,
   "metadata": {
    "ExecuteTime": {
     "end_time": "2019-12-30T12:20:33.194232Z",
     "start_time": "2019-12-30T12:20:32.649201Z"
    },
    "code_folding": []
   },
   "outputs": [
    {
     "data": {
      "text/plain": [
       "(6,\n",
       " ('obj',\n",
       "  <function my_parser.p_obj_direct_link.<locals>.pp_pattern_as_obj(s, p)>))"
      ]
     },
     "execution_count": 94,
     "metadata": {},
     "output_type": "execute_result"
    }
   ],
   "source": [
    "parser = Parser()\n",
    "parser.p_obj_direct_link('${n=p}',0)"
   ]
  },
  {
   "cell_type": "code",
   "execution_count": 95,
   "metadata": {
    "ExecuteTime": {
     "end_time": "2019-12-30T12:20:33.268236Z",
     "start_time": "2019-12-30T12:20:33.197232Z"
    },
    "code_folding": []
   },
   "outputs": [],
   "source": [
    "# reg_symbol ::= reg_char|quoted_sequence|reg_class|reg_str_link|obj_direct_link;\n",
    "#@add_method(Parser)\n",
    "#def p_reg_symbol(self,s,p):"
   ]
  },
  {
   "cell_type": "code",
   "execution_count": 96,
   "metadata": {
    "ExecuteTime": {
     "end_time": "2019-12-30T12:20:33.350241Z",
     "start_time": "2019-12-30T12:20:33.270236Z"
    },
    "code_folding": []
   },
   "outputs": [],
   "source": [
    "# bnf_symbol ::= bnf_char|quoted_sequence|bnf_class|bnf_str_link|obj_direct_link;\n",
    "#@add_method(Parser)\n",
    "#def p_bnf_symbol(self,s,p):"
   ]
  },
  {
   "cell_type": "code",
   "execution_count": 97,
   "metadata": {
    "ExecuteTime": {
     "end_time": "2019-12-30T12:20:33.440246Z",
     "start_time": "2019-12-30T12:20:33.353241Z"
    }
   },
   "outputs": [
    {
     "name": "stdout",
     "output_type": "stream",
     "text": [
      "string\n"
     ]
    },
    {
     "data": {
      "text/plain": [
       "[(1, 's')]"
      ]
     },
     "execution_count": 97,
     "metadata": {},
     "output_type": "execute_result"
    }
   ],
   "source": [
    "parser = Parser()\n",
    "tmp = parser.p_bnf_symbol('[a-z]',0)\n",
    "print(tmp[1][0])\n",
    "tmp[1][1]('s',0)"
   ]
  },
  {
   "cell_type": "code",
   "execution_count": 98,
   "metadata": {
    "ExecuteTime": {
     "end_time": "2019-12-30T12:20:33.538252Z",
     "start_time": "2019-12-30T12:20:33.443246Z"
    }
   },
   "outputs": [
    {
     "name": "stdout",
     "output_type": "stream",
     "text": [
      "string\n"
     ]
    },
    {
     "data": {
      "text/plain": [
       "[(3, 'qwe')]"
      ]
     },
     "execution_count": 98,
     "metadata": {},
     "output_type": "execute_result"
    }
   ],
   "source": [
    "parser = Parser()\n",
    "tmp = parser.p_bnf_symbol('`qwe`',0)\n",
    "print(tmp[1][0])\n",
    "tmp[1][1]('qwe',0)"
   ]
  },
  {
   "cell_type": "code",
   "execution_count": 99,
   "metadata": {
    "ExecuteTime": {
     "end_time": "2019-12-30T12:20:33.619256Z",
     "start_time": "2019-12-30T12:20:33.543252Z"
    }
   },
   "outputs": [],
   "source": [
    "#@add_method(Parser)\n",
    "#def bnf_pattern_symbol(self,name,patt):"
   ]
  },
  {
   "cell_type": "code",
   "execution_count": 100,
   "metadata": {
    "ExecuteTime": {
     "end_time": "2019-12-30T12:20:33.712262Z",
     "start_time": "2019-12-30T12:20:33.622257Z"
    }
   },
   "outputs": [
    {
     "data": {
      "text/plain": [
       "'a'"
      ]
     },
     "execution_count": 100,
     "metadata": {},
     "output_type": "execute_result"
    }
   ],
   "source": [
    "parser = Parser()\n",
    "parser.bnf_pattern_symbol('__main__','`a`')\n",
    "parser.parse('a')\n",
    "#parser.patterns"
   ]
  },
  {
   "cell_type": "code",
   "execution_count": 101,
   "metadata": {
    "ExecuteTime": {
     "end_time": "2019-12-30T12:20:33.806267Z",
     "start_time": "2019-12-30T12:20:33.717262Z"
    }
   },
   "outputs": [
    {
     "data": {
      "text/plain": [
       "'a'"
      ]
     },
     "execution_count": 101,
     "metadata": {},
     "output_type": "execute_result"
    }
   ],
   "source": [
    "parser = Parser()\n",
    "parser.bnf_pattern_symbol('__main__','ppp')\n",
    "parser.bnf_pattern_symbol('ppp','`a`')\n",
    "parser.parse('a')\n",
    "#parser.patterns"
   ]
  },
  {
   "cell_type": "code",
   "execution_count": 102,
   "metadata": {
    "ExecuteTime": {
     "end_time": "2019-12-30T12:20:33.895272Z",
     "start_time": "2019-12-30T12:20:33.811267Z"
    }
   },
   "outputs": [
    {
     "data": {
      "text/plain": [
       "'a'"
      ]
     },
     "execution_count": 102,
     "metadata": {},
     "output_type": "execute_result"
    }
   ],
   "source": [
    "parser = Parser()\n",
    "parser.bnf_pattern_symbol('__main__','$ppp')\n",
    "parser.bnf_pattern_symbol('ppp','`a`')\n",
    "parser.parse('a')\n",
    "#parser.patterns"
   ]
  },
  {
   "cell_type": "code",
   "execution_count": 103,
   "metadata": {
    "ExecuteTime": {
     "end_time": "2019-12-30T12:20:34.002278Z",
     "start_time": "2019-12-30T12:20:33.898272Z"
    }
   },
   "outputs": [
    {
     "data": {
      "text/plain": [
       "'a'"
      ]
     },
     "execution_count": 103,
     "metadata": {},
     "output_type": "execute_result"
    }
   ],
   "source": [
    "parser = Parser()\n",
    "parser.bnf_pattern_symbol('__main__','$(ppp)')\n",
    "parser.bnf_pattern_symbol('ppp','`a`')\n",
    "parser.parse('a')\n",
    "#parser.patterns"
   ]
  },
  {
   "cell_type": "code",
   "execution_count": 104,
   "metadata": {
    "ExecuteTime": {
     "end_time": "2019-12-30T12:20:34.097284Z",
     "start_time": "2019-12-30T12:20:34.006279Z"
    }
   },
   "outputs": [
    {
     "data": {
      "text/plain": [
       "{'ppp': 'a'}"
      ]
     },
     "execution_count": 104,
     "metadata": {},
     "output_type": "execute_result"
    }
   ],
   "source": [
    "parser = Parser()\n",
    "parser.bnf_pattern_symbol('__main__','${ppp}')\n",
    "parser.bnf_pattern_symbol('ppp','`a`')\n",
    "parser.parse('a')\n",
    "#parser.patterns"
   ]
  },
  {
   "cell_type": "code",
   "execution_count": 105,
   "metadata": {
    "ExecuteTime": {
     "end_time": "2019-12-30T12:20:34.199290Z",
     "start_time": "2019-12-30T12:20:34.100284Z"
    }
   },
   "outputs": [
    {
     "data": {
      "text/plain": [
       "{'n': 'a'}"
      ]
     },
     "execution_count": 105,
     "metadata": {},
     "output_type": "execute_result"
    }
   ],
   "source": [
    "parser = Parser()\n",
    "parser.bnf_pattern_symbol('__main__','${n:ppp}')\n",
    "parser.bnf_pattern_symbol('ppp','`a`')\n",
    "parser.parse('a')\n",
    "#parser.patterns"
   ]
  },
  {
   "cell_type": "markdown",
   "metadata": {},
   "source": [
    "### последовательности:"
   ]
  },
  {
   "cell_type": "markdown",
   "metadata": {},
   "source": [
    "* строковые\n",
    "* * имя не указано, все подпоследовательности строковые - конкатенируем, обработчик должен вернуть строку\n",
    "* direct\n",
    "* * имя пустое или не указано, одна из подпоследовательностей direct, все остальные строковые <br>- берем только у того, который direct, все остальные игнорируем, обработчик допустим, если указано пустое имя\n",
    "* * имя пустое, все подпоследовательности строковые - конкатенируем, обработчик допустим\n",
    "* объектные\n",
    "* * имя не указано, подпоследовательности строковые и объектные <br>- объединяем объектные, все остальные игнорируем, обработчик НЕдопустим\n",
    "* * имя указано, все подпоследовательности строковые - конкатенируем, обработчик допустим\n",
    "* * имя указано, одна из подпоследовательностей direct, все остальные строковые<br>- берем только у того, который direct, все остальные игнорируем, обработчик допустим"
   ]
  },
  {
   "cell_type": "code",
   "execution_count": null,
   "metadata": {
    "ExecuteTime": {
     "end_time": "2019-12-29T20:40:10.454459Z",
     "start_time": "2019-12-29T20:40:10.404456Z"
    },
    "code_folding": []
   },
   "outputs": [],
   "source": []
  },
  {
   "cell_type": "code",
   "execution_count": null,
   "metadata": {
    "ExecuteTime": {
     "end_time": "2019-12-29T22:09:52.283282Z",
     "start_time": "2019-12-29T22:09:52.262281Z"
    },
    "code_folding": []
   },
   "outputs": [],
   "source": []
  },
  {
   "cell_type": "code",
   "execution_count": null,
   "metadata": {
    "ExecuteTime": {
     "end_time": "2019-12-29T22:09:38.589499Z",
     "start_time": "2019-12-29T22:09:38.565498Z"
    },
    "code_folding": []
   },
   "outputs": [],
   "source": []
  },
  {
   "cell_type": "code",
   "execution_count": 106,
   "metadata": {
    "ExecuteTime": {
     "end_time": "2019-12-30T12:20:34.276294Z",
     "start_time": "2019-12-30T12:20:34.202290Z"
    }
   },
   "outputs": [],
   "source": [
    "parser = Parser()"
   ]
  },
  {
   "cell_type": "code",
   "execution_count": 107,
   "metadata": {
    "ExecuteTime": {
     "end_time": "2019-12-30T12:20:34.384300Z",
     "start_time": "2019-12-30T12:20:34.278294Z"
    }
   },
   "outputs": [
    {
     "name": "stdout",
     "output_type": "stream",
     "text": [
      "1 string\n"
     ]
    },
    {
     "data": {
      "text/plain": [
       "[(1, 'a')]"
      ]
     },
     "execution_count": 107,
     "metadata": {},
     "output_type": "execute_result"
    }
   ],
   "source": [
    "# вообще работает\n",
    "tmp = parser.p_reg_sequence('a',0)\n",
    "print(tmp[0],tmp[1][0])\n",
    "tmp[1][1]('a',0)"
   ]
  },
  {
   "cell_type": "code",
   "execution_count": 108,
   "metadata": {
    "ExecuteTime": {
     "end_time": "2019-12-30T12:20:34.558310Z",
     "start_time": "2019-12-30T12:20:34.387300Z"
    }
   },
   "outputs": [
    {
     "name": "stdout",
     "output_type": "stream",
     "text": [
      "15 string\n"
     ]
    },
    {
     "data": {
      "text/plain": [
       "[(2, 'abqwe')]"
      ]
     },
     "execution_count": 108,
     "metadata": {},
     "output_type": "execute_result"
    }
   ],
   "source": [
    "# обработчик\n",
    "tmp = parser.p_reg_sequence('ab/*x:x+\"qwe\"*/',0)\n",
    "print(tmp[0],tmp[1][0])\n",
    "tmp[1][1]('ab',0)"
   ]
  },
  {
   "cell_type": "code",
   "execution_count": 109,
   "metadata": {
    "ExecuteTime": {
     "end_time": "2019-12-30T12:20:34.650315Z",
     "start_time": "2019-12-30T12:20:34.562310Z"
    }
   },
   "outputs": [
    {
     "name": "stdout",
     "output_type": "stream",
     "text": [
      "9 string\n"
     ]
    },
    {
     "name": "stderr",
     "output_type": "stream",
     "text": [
      "обработчик строковой последовательности должен возвращать строку\n"
     ]
    },
    {
     "data": {
      "text/plain": [
       "[]"
      ]
     },
     "execution_count": 109,
     "metadata": {},
     "output_type": "execute_result"
    }
   ],
   "source": [
    "# обработчик\n",
    "tmp = parser.p_reg_sequence('ab/*x:2*/',0)\n",
    "print(tmp[0],tmp[1][0])\n",
    "tmp[1][1]('ab',0)"
   ]
  },
  {
   "cell_type": "code",
   "execution_count": 110,
   "metadata": {
    "ExecuteTime": {
     "end_time": "2019-12-30T12:20:34.767322Z",
     "start_time": "2019-12-30T12:20:34.653316Z"
    }
   },
   "outputs": [
    {
     "name": "stdout",
     "output_type": "stream",
     "text": [
      "6 string\n"
     ]
    },
    {
     "data": {
      "text/plain": [
       "[(2, 'ab')]"
      ]
     },
     "execution_count": 110,
     "metadata": {},
     "output_type": "execute_result"
    }
   ],
   "source": [
    "# str_cat\n",
    "tmp = parser.p_reg_sequence('`a``b`',0)\n",
    "print(tmp[0],tmp[1][0])\n",
    "tmp[1][1]('ab',0)"
   ]
  },
  {
   "cell_type": "code",
   "execution_count": 111,
   "metadata": {
    "ExecuteTime": {
     "end_time": "2019-12-30T12:20:34.851327Z",
     "start_time": "2019-12-30T12:20:34.770322Z"
    }
   },
   "outputs": [
    {
     "name": "stdout",
     "output_type": "stream",
     "text": [
      "11 string\n"
     ]
    },
    {
     "data": {
      "text/plain": [
       "[(3, 'aqb')]"
      ]
     },
     "execution_count": 111,
     "metadata": {},
     "output_type": "execute_result"
    }
   ],
   "source": [
    "# str_cat\n",
    "tmp = parser.p_reg_sequence('`a`[qwe]`b`',0)\n",
    "print(tmp[0],tmp[1][0])\n",
    "tmp[1][1]('aqb',0)"
   ]
  },
  {
   "cell_type": "code",
   "execution_count": 112,
   "metadata": {
    "ExecuteTime": {
     "end_time": "2019-12-30T12:20:34.954333Z",
     "start_time": "2019-12-30T12:20:34.853327Z"
    },
    "scrolled": true
   },
   "outputs": [
    {
     "name": "stdout",
     "output_type": "stream",
     "text": [
      "16 string\n"
     ]
    },
    {
     "data": {
      "text/plain": [
       "[(4, 'aqxb')]"
      ]
     },
     "execution_count": 112,
     "metadata": {},
     "output_type": "execute_result"
    }
   ],
   "source": [
    "# str_cat\n",
    "tmp = parser.p_reg_sequence('`a`([qwe]`x`)`b`',0)\n",
    "print(tmp[0],tmp[1][0])\n",
    "tmp[1][1]('aqxb',0)"
   ]
  },
  {
   "cell_type": "code",
   "execution_count": 113,
   "metadata": {
    "ExecuteTime": {
     "end_time": "2019-12-30T12:20:35.079340Z",
     "start_time": "2019-12-30T12:20:34.960333Z"
    }
   },
   "outputs": [
    {
     "name": "stdout",
     "output_type": "stream",
     "text": [
      "10 obj\n"
     ]
    },
    {
     "data": {
      "text/plain": [
       "[(1, {'nnn': 'q'})]"
      ]
     },
     "execution_count": 113,
     "metadata": {},
     "output_type": "execute_result"
    }
   ],
   "source": [
    "# объекты\n",
    "tmp = parser.p_reg_sequence('?nnn=[qwe]',0)\n",
    "print(tmp[0],tmp[1][0])\n",
    "tmp[1][1]('q',0)"
   ]
  },
  {
   "cell_type": "code",
   "execution_count": 114,
   "metadata": {
    "ExecuteTime": {
     "end_time": "2019-12-30T12:20:35.184346Z",
     "start_time": "2019-12-30T12:20:35.081340Z"
    }
   },
   "outputs": [
    {
     "name": "stdout",
     "output_type": "stream",
     "text": [
      "14 obj\n"
     ]
    },
    {
     "data": {
      "text/plain": [
       "[(3, {'nnn': 'q'})]"
      ]
     },
     "execution_count": 114,
     "metadata": {},
     "output_type": "execute_result"
    }
   ],
   "source": [
    "# implicit_obj_join\n",
    "tmp = parser.p_reg_sequence('a(?nnn=[qwe])b',0)\n",
    "print(tmp[0],tmp[1][0])\n",
    "tmp[1][1]('aqb',0)"
   ]
  },
  {
   "cell_type": "code",
   "execution_count": 115,
   "metadata": {
    "ExecuteTime": {
     "end_time": "2019-12-30T12:20:35.289352Z",
     "start_time": "2019-12-30T12:20:35.187346Z"
    }
   },
   "outputs": [
    {
     "name": "stdout",
     "output_type": "stream",
     "text": [
      "24 obj\n"
     ]
    },
    {
     "data": {
      "text/plain": [
       "[(4, {'n1': 'q', 'n2': 'a'})]"
      ]
     },
     "execution_count": 115,
     "metadata": {},
     "output_type": "execute_result"
    }
   ],
   "source": [
    "# implicit_obj_join\n",
    "tmp = parser.p_reg_sequence('a(?n1=[qwe])b(?n2=[asd])',0)\n",
    "print(tmp[0],tmp[1][0])\n",
    "tmp[1][1]('aqba',0)"
   ]
  },
  {
   "cell_type": "code",
   "execution_count": 116,
   "metadata": {
    "ExecuteTime": {
     "end_time": "2019-12-30T12:20:35.402358Z",
     "start_time": "2019-12-30T12:20:35.292352Z"
    }
   },
   "outputs": [
    {
     "name": "stdout",
     "output_type": "stream",
     "text": [
      "7 direct\n"
     ]
    },
    {
     "data": {
      "text/plain": [
       "[(1, 'q')]"
      ]
     },
     "execution_count": 116,
     "metadata": {},
     "output_type": "execute_result"
    }
   ],
   "source": [
    "# direct\n",
    "tmp = parser.p_reg_sequence('?=[qwe]',0)\n",
    "print(tmp[0],tmp[1][0])\n",
    "tmp[1][1]('q',0)"
   ]
  },
  {
   "cell_type": "code",
   "execution_count": 117,
   "metadata": {
    "ExecuteTime": {
     "end_time": "2019-12-30T12:20:35.509364Z",
     "start_time": "2019-12-30T12:20:35.404358Z"
    }
   },
   "outputs": [
    {
     "name": "stdout",
     "output_type": "stream",
     "text": [
      "18 direct\n"
     ]
    },
    {
     "data": {
      "text/plain": [
       "[(4, 'q')]"
      ]
     },
     "execution_count": 117,
     "metadata": {},
     "output_type": "execute_result"
    }
   ],
   "source": [
    "# implicit_direct_direct\n",
    "tmp = parser.p_reg_sequence('a(?=[qwe])b([asd])',0)\n",
    "print(tmp[0],tmp[1][0])\n",
    "tmp[1][1]('aqba',0)"
   ]
  },
  {
   "cell_type": "code",
   "execution_count": 118,
   "metadata": {
    "ExecuteTime": {
     "end_time": "2019-12-30T12:20:35.608370Z",
     "start_time": "2019-12-30T12:20:35.511365Z"
    }
   },
   "outputs": [
    {
     "name": "stdout",
     "output_type": "stream",
     "text": [
      "в последовательности количество direct подпоследовательностей не должно превышать одну\n"
     ]
    },
    {
     "data": {
      "text/plain": [
       "(20,\n",
       " FatalError('в последовательности количество direct подпоследовательностей не должно превышать одну'))"
      ]
     },
     "execution_count": 118,
     "metadata": {},
     "output_type": "execute_result"
    }
   ],
   "source": [
    "# implicit_direct_direct\n",
    "parser.p_reg_sequence('a(?=[qwe])b(?=[asd])',0)\n"
   ]
  },
  {
   "cell_type": "code",
   "execution_count": 119,
   "metadata": {
    "ExecuteTime": {
     "end_time": "2019-12-30T12:20:35.813382Z",
     "start_time": "2019-12-30T12:20:35.613370Z"
    },
    "scrolled": true
   },
   "outputs": [
    {
     "name": "stdout",
     "output_type": "stream",
     "text": [
      "радом с direct-последовательностью находятся объектные последовательности\n"
     ]
    },
    {
     "data": {
      "text/plain": [
       "(23,\n",
       " FatalError('радом с direct-последовательностью находятся объектные последовательности'))"
      ]
     },
     "execution_count": 119,
     "metadata": {},
     "output_type": "execute_result"
    }
   ],
   "source": [
    "# implicit_direct_direct\n",
    "parser.p_reg_sequence('a(?=[qwe])b(?nnn=[asd])',0)\n"
   ]
  },
  {
   "cell_type": "code",
   "execution_count": 120,
   "metadata": {
    "ExecuteTime": {
     "end_time": "2019-12-30T12:20:35.922388Z",
     "start_time": "2019-12-30T12:20:35.817382Z"
    }
   },
   "outputs": [
    {
     "name": "stdout",
     "output_type": "stream",
     "text": [
      "16 direct\n"
     ]
    },
    {
     "data": {
      "text/plain": [
       "[(4, 'qa')]"
      ]
     },
     "execution_count": 120,
     "metadata": {},
     "output_type": "execute_result"
    }
   ],
   "source": [
    "# direct_str_cat\n",
    "tmp = parser.p_reg_sequence('a(?=[qwe][asd])b',0)\n",
    "print(tmp[0],tmp[1][0])\n",
    "tmp[1][1]('aqab',0)"
   ]
  },
  {
   "cell_type": "code",
   "execution_count": 121,
   "metadata": {
    "ExecuteTime": {
     "end_time": "2019-12-30T12:20:36.018394Z",
     "start_time": "2019-12-30T12:20:35.925388Z"
    }
   },
   "outputs": [
    {
     "name": "stdout",
     "output_type": "stream",
     "text": [
      "warning-error: direct-последовательность содержит объектные подпоследовательности\n"
     ]
    },
    {
     "data": {
      "text/plain": [
       "(21,\n",
       " FatalError('warning-error: direct-последовательность содержит объектные подпоследовательности'))"
      ]
     },
     "execution_count": 121,
     "metadata": {},
     "output_type": "execute_result"
    }
   ],
   "source": [
    "# direct error warning\n",
    "parser.p_reg_sequence('?=a(?nnn=[qwe][asd])b',0)\n"
   ]
  },
  {
   "cell_type": "code",
   "execution_count": 122,
   "metadata": {
    "ExecuteTime": {
     "end_time": "2019-12-30T12:20:36.106399Z",
     "start_time": "2019-12-30T12:20:36.030394Z"
    }
   },
   "outputs": [
    {
     "name": "stdout",
     "output_type": "stream",
     "text": [
      "18 direct\n"
     ]
    },
    {
     "data": {
      "text/plain": [
       "[(4, 'qa')]"
      ]
     },
     "execution_count": 122,
     "metadata": {},
     "output_type": "execute_result"
    }
   ],
   "source": [
    "# direct direct\n",
    "tmp = parser.p_reg_sequence('?=a(?=[qwe][asd])b',0)\n",
    "print(tmp[0],tmp[1][0])\n",
    "tmp[1][1]('aqab',0)"
   ]
  },
  {
   "cell_type": "code",
   "execution_count": 123,
   "metadata": {
    "ExecuteTime": {
     "end_time": "2019-12-30T12:20:36.333412Z",
     "start_time": "2019-12-30T12:20:36.109399Z"
    }
   },
   "outputs": [
    {
     "name": "stdout",
     "output_type": "stream",
     "text": [
      "радом с direct-последовательностью находятся объектные последовательности\n"
     ]
    },
    {
     "data": {
      "text/plain": [
       "(23,\n",
       " FatalError('радом с direct-последовательностью находятся объектные последовательности'))"
      ]
     },
     "execution_count": 123,
     "metadata": {},
     "output_type": "execute_result"
    }
   ],
   "source": [
    "# direct error\n",
    "parser.p_reg_sequence('?=a(?=[qwe])(?n=[asd])b',0)\n"
   ]
  },
  {
   "cell_type": "code",
   "execution_count": 124,
   "metadata": {
    "ExecuteTime": {
     "end_time": "2019-12-30T12:20:36.572425Z",
     "start_time": "2019-12-30T12:20:36.336412Z"
    }
   },
   "outputs": [
    {
     "name": "stdout",
     "output_type": "stream",
     "text": [
      "11 obj\n"
     ]
    },
    {
     "data": {
      "text/plain": [
       "[(3, {'nn': 'aqb'})]"
      ]
     },
     "execution_count": 124,
     "metadata": {},
     "output_type": "execute_result"
    }
   ],
   "source": [
    "# obj_str_cat\n",
    "tmp = parser.p_reg_sequence('?nn=a[qwe]b',0)\n",
    "print(tmp[0],tmp[1][0])\n",
    "tmp[1][1]('aqb',0)"
   ]
  },
  {
   "cell_type": "code",
   "execution_count": 125,
   "metadata": {
    "ExecuteTime": {
     "end_time": "2019-12-30T12:20:36.772437Z",
     "start_time": "2019-12-30T12:20:36.575425Z"
    }
   },
   "outputs": [
    {
     "name": "stdout",
     "output_type": "stream",
     "text": [
      "28 obj\n"
     ]
    },
    {
     "data": {
      "text/plain": [
       "[(4, {'n3': {'n1': 'q', 'n2': 'a'}})]"
      ]
     },
     "execution_count": 125,
     "metadata": {},
     "output_type": "execute_result"
    }
   ],
   "source": [
    "# obj_join\n",
    "tmp = parser.p_reg_sequence('?n3=a(?n1=[qwe])b(?n2=[asd])',0)\n",
    "print(tmp[0],tmp[1][0])\n",
    "tmp[1][1]('aqba',0)"
   ]
  },
  {
   "cell_type": "code",
   "execution_count": 126,
   "metadata": {
    "ExecuteTime": {
     "end_time": "2019-12-30T12:20:36.971448Z",
     "start_time": "2019-12-30T12:20:36.776437Z"
    }
   },
   "outputs": [
    {
     "name": "stdout",
     "output_type": "stream",
     "text": [
      "22 obj\n"
     ]
    },
    {
     "data": {
      "text/plain": [
       "[(4, {'n3': 'q'})]"
      ]
     },
     "execution_count": 126,
     "metadata": {},
     "output_type": "execute_result"
    }
   ],
   "source": [
    "# obj_direct\n",
    "tmp = parser.p_reg_sequence('?n3=a(?=[qwe])b([asd])',0)\n",
    "print(tmp[0],tmp[1][0])\n",
    "tmp[1][1]('aqba',0)"
   ]
  },
  {
   "cell_type": "markdown",
   "metadata": {},
   "source": [
    "### циклы"
   ]
  },
  {
   "cell_type": "markdown",
   "metadata": {},
   "source": [
    "* строковые\n",
    "* * имя не указано, паттерн строковый - конкатенируем, обработчик должен вернуть строку\n",
    "* direct\n",
    "* * имя либо не указано либо пустое, паттерн - объект или direct <br>- объединяем в массив, обработчик допустим, если указано пустое имя\n",
    "* * имя пустое, паттерн строковый - конкатенируем, обработчик допустим\n",
    "* объект\n",
    "* * имя указано, паттерн - объект или direct - объединяем в массив, обработчик допустим\n",
    "* * имя указано, паттерн строковый - конкатенируем, обработчик допустим\n",
    "\n",
    "квантификаторы бывают простыми `[+*?]` и составными `{...}` <br>\n",
    "в регулярном синтаксисе квантификаторы идут после символа или скобок (постфиксно)<br>\n",
    "в bnf-синтаксисе простой квантификатор идет посфиксно, а составной - префиксно\n",
    "\n",
    "все циклы кроме `{0-1}` или `?` - сверхжадные и агрессивные<br>\n",
    "сверхжадные - пытаются прочитать как можно больше, и более короткие варианты не возвращают ([Ревнивая квантификация (сверхжадная)](https://ru.wikipedia.org/wiki/%D0%A0%D0%B5%D0%B3%D1%83%D0%BB%D1%8F%D1%80%D0%BD%D1%8B%D0%B5_%D0%B2%D1%8B%D1%80%D0%B0%D0%B6%D0%B5%D0%BD%D0%B8%D1%8F#%D0%A0%D0%B5%D0%B2%D0%BD%D0%B8%D0%B2%D0%B0%D1%8F_%D0%BA%D0%B2%D0%B0%D0%BD%D1%82%D0%B8%D1%84%D0%B8%D0%BA%D0%B0%D1%86%D0%B8%D1%8F_(%D1%81%D0%B2%D0%B5%D1%80%D1%85%D0%B6%D0%B0%D0%B4%D0%BD%D0%B0%D1%8F))) <br>\n",
    "агрессивные - если паттерн возвращает несколько вариантов - остается только первый\n",
    "\n"
   ]
  },
  {
   "cell_type": "code",
   "execution_count": null,
   "metadata": {
    "ExecuteTime": {
     "end_time": "2019-12-29T20:16:52.113479Z",
     "start_time": "2019-12-29T20:16:51.955470Z"
    }
   },
   "outputs": [],
   "source": []
  },
  {
   "cell_type": "code",
   "execution_count": 127,
   "metadata": {
    "ExecuteTime": {
     "end_time": "2019-12-30T12:20:37.121457Z",
     "start_time": "2019-12-30T12:20:36.974448Z"
    }
   },
   "outputs": [
    {
     "name": "stdout",
     "output_type": "stream",
     "text": [
      "2 string\n"
     ]
    },
    {
     "data": {
      "text/plain": [
       "[(3, 'aaa')]"
      ]
     },
     "execution_count": 127,
     "metadata": {},
     "output_type": "execute_result"
    }
   ],
   "source": [
    "# \n",
    "tmp = parser.p_reg_sequence('a*',0)\n",
    "print(tmp[0],tmp[1][0])\n",
    "tmp[1][1]('aaa',0)"
   ]
  },
  {
   "cell_type": "code",
   "execution_count": 128,
   "metadata": {
    "ExecuteTime": {
     "end_time": "2019-12-30T12:20:37.234463Z",
     "start_time": "2019-12-30T12:20:37.125457Z"
    }
   },
   "outputs": [
    {
     "name": "stdout",
     "output_type": "stream",
     "text": [
      "2 string\n"
     ]
    },
    {
     "data": {
      "text/plain": [
       "[(0, '')]"
      ]
     },
     "execution_count": 128,
     "metadata": {},
     "output_type": "execute_result"
    }
   ],
   "source": [
    "# \n",
    "tmp = parser.p_reg_sequence('a?',0)\n",
    "print(tmp[0],tmp[1][0])\n",
    "tmp[1][1]('b',0)"
   ]
  },
  {
   "cell_type": "code",
   "execution_count": 129,
   "metadata": {
    "ExecuteTime": {
     "end_time": "2019-12-30T12:20:37.323468Z",
     "start_time": "2019-12-30T12:20:37.236463Z"
    }
   },
   "outputs": [
    {
     "name": "stdout",
     "output_type": "stream",
     "text": [
      "6 direct\n"
     ]
    },
    {
     "data": {
      "text/plain": [
       "[(3, ['a', 'a', 'a'])]"
      ]
     },
     "execution_count": 129,
     "metadata": {},
     "output_type": "execute_result"
    }
   ],
   "source": [
    "# \n",
    "tmp = parser.p_reg_sequence('(?=a)*',0)\n",
    "print(tmp[0],tmp[1][0])\n",
    "tmp[1][1]('aaa',0)"
   ]
  },
  {
   "cell_type": "code",
   "execution_count": null,
   "metadata": {},
   "outputs": [],
   "source": []
  },
  {
   "cell_type": "markdown",
   "metadata": {},
   "source": [
    "### перечисления (альтернатив)"
   ]
  },
  {
   "cell_type": "markdown",
   "metadata": {},
   "source": [
    "* direct - если хотябы одна из альтернатив direct\n",
    "* * direct - OK\n",
    "* * объект - Warning при компиляции, ОК при выполнении\n",
    "* * строка - Warning при компиляции, {} (пустой объект) при выполнении\n",
    "* объектное - иначе если хотябы одна из альтернатив объектная\n",
    "* * объект - ОК\n",
    "* * строка - Warning при компиляции, {} (пустой объект) при выполнении\n",
    "* строковое - иначе\n",
    "* * строка - ОК"
   ]
  },
  {
   "cell_type": "code",
   "execution_count": null,
   "metadata": {
    "ExecuteTime": {
     "end_time": "2019-12-29T22:09:05.429602Z",
     "start_time": "2019-12-29T22:09:05.409601Z"
    }
   },
   "outputs": [],
   "source": []
  },
  {
   "cell_type": "code",
   "execution_count": null,
   "metadata": {
    "ExecuteTime": {
     "end_time": "2019-12-29T22:14:26.684977Z",
     "start_time": "2019-12-29T22:14:26.672976Z"
    }
   },
   "outputs": [],
   "source": []
  },
  {
   "cell_type": "code",
   "execution_count": null,
   "metadata": {
    "ExecuteTime": {
     "end_time": "2019-12-29T22:14:32.618316Z",
     "start_time": "2019-12-29T22:14:32.605316Z"
    }
   },
   "outputs": [],
   "source": []
  },
  {
   "cell_type": "code",
   "execution_count": 130,
   "metadata": {
    "ExecuteTime": {
     "end_time": "2019-12-30T12:20:37.401473Z",
     "start_time": "2019-12-30T12:20:37.329469Z"
    }
   },
   "outputs": [],
   "source": [
    "@add_method(Parser)\n",
    "def bnf_pattern_alternatives(self,name,patt):\n",
    "    p,r = self.p_bnf_alternatives(patt,0)\n",
    "    if is_fatal(r):\n",
    "        raise BaseException(r)\n",
    "    tmp = r\n",
    "    p,r = p_spcs(patt,p)\n",
    "    if p!=len(patt):\n",
    "        raise BaseException(p)\n",
    "    self.patterns[name] = tmp[1]"
   ]
  },
  {
   "cell_type": "code",
   "execution_count": 131,
   "metadata": {
    "ExecuteTime": {
     "end_time": "2019-12-30T12:20:37.604484Z",
     "start_time": "2019-12-30T12:20:37.404473Z"
    }
   },
   "outputs": [],
   "source": [
    "parser = Parser()\n"
   ]
  },
  {
   "cell_type": "code",
   "execution_count": null,
   "metadata": {},
   "outputs": [],
   "source": []
  },
  {
   "cell_type": "code",
   "execution_count": null,
   "metadata": {},
   "outputs": [],
   "source": []
  }
 ],
 "metadata": {
  "hide_input": false,
  "kernelspec": {
   "display_name": "Python 3",
   "language": "python",
   "name": "python3"
  },
  "language_info": {
   "codemirror_mode": {
    "name": "ipython",
    "version": 3
   },
   "file_extension": ".py",
   "mimetype": "text/x-python",
   "name": "python",
   "nbconvert_exporter": "python",
   "pygments_lexer": "ipython3",
   "version": "3.6.7"
  }
 },
 "nbformat": 4,
 "nbformat_minor": 2
}
