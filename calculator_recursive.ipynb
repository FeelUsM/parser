{
 "cells": [
  {
   "cell_type": "code",
   "execution_count": 1,
   "metadata": {
    "ExecuteTime": {
     "end_time": "2020-01-06T00:11:31.828059Z",
     "start_time": "2020-01-06T00:11:31.811058Z"
    }
   },
   "outputs": [
    {
     "data": {
      "text/plain": [
       "[]"
      ]
     },
     "execution_count": 1,
     "metadata": {},
     "output_type": "execute_result"
    }
   ],
   "source": [
    "from my_parser import *\n",
    "import my_parser\n",
    "my_parser.tail_error"
   ]
  },
  {
   "cell_type": "code",
   "execution_count": 64,
   "metadata": {
    "ExecuteTime": {
     "end_time": "2020-01-05T23:27:08.707153Z",
     "start_time": "2020-01-05T23:27:08.699153Z"
    }
   },
   "outputs": [
    {
     "data": {
      "text/plain": [
       "'<lambda>'"
      ]
     },
     "execution_count": 64,
     "metadata": {},
     "output_type": "execute_result"
    }
   ],
   "source": [
    "foo = lambda x:x\n",
    "foo.__name__"
   ]
  },
  {
   "cell_type": "markdown",
   "metadata": {
    "heading_collapsed": true
   },
   "source": [
    "## calc recursive"
   ]
  },
  {
   "cell_type": "code",
   "execution_count": 3,
   "metadata": {
    "ExecuteTime": {
     "end_time": "2020-01-05T23:14:30.705798Z",
     "start_time": "2020-01-05T23:14:30.596792Z"
    },
    "hidden": true
   },
   "outputs": [],
   "source": [
    "calc_recursive = Parser()\n",
    "calc_recursive.add_bnf('num','?=[0-9]+/*s:int(s)*/')\n",
    "calc_recursive.add_bnf('rterm',\"$(num)|'('$(sum)')'\")\n",
    "calc_recursive.add_bnf('term',\n",
    "'''$(rterm) \n",
    "|?= ${t:rterm} '*' ${n:term} /* t,n:t*n */ \n",
    "|?= ${t:rterm} '/' ${n:term} /* t,n:t/n */ \n",
    "''')\n",
    "calc_recursive.add_bnf('sum',\n",
    "'''$(term)\n",
    "|?= ${t:term} '+' ${n:sum} /* t,n:t+n */ \n",
    "|?= ${t:term} '-' ${n:sum} /* t,n:t-n */ \n",
    "''')\n",
    "calc_recursive.main = 'sum'"
   ]
  },
  {
   "cell_type": "code",
   "execution_count": 4,
   "metadata": {
    "ExecuteTime": {
     "end_time": "2020-01-05T23:14:30.851806Z",
     "start_time": "2020-01-05T23:14:30.714799Z"
    },
    "hidden": true,
    "scrolled": false
   },
   "outputs": [
    {
     "data": {
      "text/plain": [
       "6"
      ]
     },
     "execution_count": 4,
     "metadata": {},
     "output_type": "execute_result"
    }
   ],
   "source": [
    "calc_recursive.parse('2+2*2')"
   ]
  },
  {
   "cell_type": "code",
   "execution_count": 5,
   "metadata": {
    "ExecuteTime": {
     "end_time": "2020-01-05T23:14:30.949812Z",
     "start_time": "2020-01-05T23:14:30.854807Z"
    },
    "hidden": true,
    "scrolled": false
   },
   "outputs": [
    {
     "data": {
      "text/plain": [
       "8"
      ]
     },
     "execution_count": 5,
     "metadata": {},
     "output_type": "execute_result"
    }
   ],
   "source": [
    "calc_recursive.debug = False\n",
    "calc_recursive.parse('(2+2)*2')"
   ]
  },
  {
   "cell_type": "code",
   "execution_count": 6,
   "metadata": {
    "ExecuteTime": {
     "end_time": "2020-01-05T23:14:31.075819Z",
     "start_time": "2020-01-05T23:14:30.951812Z"
    },
    "hidden": true,
    "scrolled": true
   },
   "outputs": [
    {
     "data": {
      "text/plain": [
       "28"
      ]
     },
     "execution_count": 6,
     "metadata": {},
     "output_type": "execute_result"
    }
   ],
   "source": [
    "calc_recursive.debug = True\n",
    "calc_recursive.parse('2+2+2+3+5+2+2+2+3+5')"
   ]
  },
  {
   "cell_type": "markdown",
   "metadata": {
    "heading_collapsed": true
   },
   "source": [
    "## calc cycle"
   ]
  },
  {
   "cell_type": "code",
   "execution_count": 7,
   "metadata": {
    "ExecuteTime": {
     "end_time": "2020-01-05T23:14:31.148823Z",
     "start_time": "2020-01-05T23:14:31.079819Z"
    },
    "hidden": true
   },
   "outputs": [],
   "source": [
    "calc_cyclic = Parser()\n",
    "calc_cyclic = Parser()\n",
    "calc_cyclic.add_bnf('num','?=[0-9]+/*s:int(s)*/')\n",
    "calc_cyclic.add_bnf('rterm',\"$(num)|'('$(sum)')'\")"
   ]
  },
  {
   "cell_type": "code",
   "execution_count": 8,
   "metadata": {
    "ExecuteTime": {
     "end_time": "2020-01-05T23:14:31.249829Z",
     "start_time": "2020-01-05T23:14:31.151824Z"
    },
    "hidden": true,
    "scrolled": false
   },
   "outputs": [],
   "source": [
    "@calc_cyclic.add_bnf_seqfun('term','?= ${head:rterm} {?tail= * }((?s=[\"*/\"]) ${x:rterm})')\n",
    "def seqsum(head,tail):\n",
    "    for o in tail:\n",
    "        #print(o)\n",
    "        if o['s']=='*': head*=o['x']\n",
    "        if o['s']=='/': head/=o['x']\n",
    "    return head\n",
    "@calc_cyclic.add_bnf_seqfun('sum','?= ${head:term} {?tail= * }((?s=[\"+-\"]) ${x:term})')\n",
    "def seqsum(head,tail):\n",
    "    for o in tail:\n",
    "        #print(o)\n",
    "        if o['s']=='+': head+=o['x']\n",
    "        if o['s']=='-': head-=o['x']\n",
    "    return head\n",
    "calc_cyclic.main = 'sum'"
   ]
  },
  {
   "cell_type": "code",
   "execution_count": 9,
   "metadata": {
    "ExecuteTime": {
     "end_time": "2020-01-05T23:14:31.350835Z",
     "start_time": "2020-01-05T23:14:31.251829Z"
    },
    "hidden": true
   },
   "outputs": [
    {
     "data": {
      "text/plain": [
       "2"
      ]
     },
     "execution_count": 9,
     "metadata": {},
     "output_type": "execute_result"
    }
   ],
   "source": [
    "calc_cyclic.parse('2')"
   ]
  },
  {
   "cell_type": "code",
   "execution_count": 10,
   "metadata": {
    "ExecuteTime": {
     "end_time": "2020-01-05T23:14:31.500843Z",
     "start_time": "2020-01-05T23:14:31.353835Z"
    },
    "hidden": true
   },
   "outputs": [
    {
     "data": {
      "text/plain": [
       "4"
      ]
     },
     "execution_count": 10,
     "metadata": {},
     "output_type": "execute_result"
    }
   ],
   "source": [
    "calc_cyclic.parse('2+2')"
   ]
  },
  {
   "cell_type": "code",
   "execution_count": 11,
   "metadata": {
    "ExecuteTime": {
     "end_time": "2020-01-05T23:14:31.599849Z",
     "start_time": "2020-01-05T23:14:31.503844Z"
    },
    "hidden": true
   },
   "outputs": [
    {
     "data": {
      "text/plain": [
       "6"
      ]
     },
     "execution_count": 11,
     "metadata": {},
     "output_type": "execute_result"
    }
   ],
   "source": [
    "calc_cyclic.parse('2+2*2')"
   ]
  },
  {
   "cell_type": "code",
   "execution_count": 12,
   "metadata": {
    "ExecuteTime": {
     "end_time": "2020-01-05T23:14:31.699855Z",
     "start_time": "2020-01-05T23:14:31.602849Z"
    },
    "hidden": true
   },
   "outputs": [
    {
     "data": {
      "text/plain": [
       "8"
      ]
     },
     "execution_count": 12,
     "metadata": {},
     "output_type": "execute_result"
    }
   ],
   "source": [
    "calc_cyclic.parse('(2+2)*2')"
   ]
  },
  {
   "cell_type": "code",
   "execution_count": 13,
   "metadata": {
    "ExecuteTime": {
     "end_time": "2020-01-05T23:14:31.791860Z",
     "start_time": "2020-01-05T23:14:31.708855Z"
    },
    "hidden": true,
    "scrolled": true
   },
   "outputs": [
    {
     "data": {
      "text/plain": [
       "28"
      ]
     },
     "execution_count": 13,
     "metadata": {},
     "output_type": "execute_result"
    }
   ],
   "source": [
    "calc_cyclic.debug = True\n",
    "calc_cyclic.parse('2+2+2+3+5+2+2+2+3+5')"
   ]
  },
  {
   "cell_type": "markdown",
   "metadata": {
    "heading_collapsed": true
   },
   "source": [
    "## JSON"
   ]
  },
  {
   "cell_type": "code",
   "execution_count": 14,
   "metadata": {
    "ExecuteTime": {
     "end_time": "2020-01-05T23:14:31.905867Z",
     "start_time": "2020-01-05T23:14:31.793860Z"
    },
    "hidden": true
   },
   "outputs": [],
   "source": [
    "#test = Parser()\n",
    "#test.add_bnf('character',r'''?= [^\"\\x0-\\x19\\\"\\\\\"]  \n",
    "#| \"\\\\\" (?=escape)''')\n",
    "\n"
   ]
  },
  {
   "cell_type": "code",
   "execution_count": 15,
   "metadata": {
    "ExecuteTime": {
     "end_time": "2020-01-05T23:14:32.017873Z",
     "start_time": "2020-01-05T23:14:31.907867Z"
    },
    "hidden": true
   },
   "outputs": [],
   "source": [
    "my_parser.debug = False\n",
    "json_p = Parser(main = 'json')\n",
    "json_p.add_bnf('json','$(element)')\n",
    "json_p.add_bnf('value','''$(object)|$(array)|$(string)|$(number)\n",
    "               |?=\"true\"/*x:True*/|?=\"false\"/*x:False*/|?=\"null\"/*x:None*/''')\n",
    "json_p.add_bnf('object',\"?= '{' ws '}'/*x:{}*/|'{' $(members) '}'\")\n",
    "json_p.add_bnf('members',\"\"\"?= $(member)/*mms:{mms[\"k\"]:mms[\"v\"]}*/\n",
    "               |?= ${m=member} ',' ${mms=members}/*m,mms:{m[\"k\"]:m[\"v\"],**mms}*/\"\"\")\n",
    "json_p.add_bnf('member',\"ws ${k=string} ws ':' ${v=element}\")\n",
    "\n",
    "json_p.add_bnf('array',\"?= '[' ws ']'/*x:[]*/|'[' $(elements) ']'\")\n",
    "json_p.add_bnf('elements',\"?=$(element)/*x:[x]*/|?= ${e=element} ',' ${els=elements} /*e,els:[e,*els]*/\")\n",
    "json_p.add_bnf('element',\"ws $(value) ws\")\n",
    "\n",
    "json_p.add_bnf('string',\"'\\\"' (?=characters) '\\\"'\")\n",
    "json_p.add_bnf('characters','\"\"|character characters')\n",
    "\n",
    "json_p.add_bnf('character',r'''?= [^\\x00-\\x19\\\"\\\\]  \n",
    "| \"\\\\\" (?=escape)'''\n",
    "              )\n",
    "\n",
    "my_parser.debug = False\n",
    "json_p.add_bnf('escape',r'''?=[\\\"\\\\\\/]\n",
    "|?=\"b\"/*x:'\\b'*/\n",
    "|?=\"f\"/*x:'\\f'*/\n",
    "|?=\"n\"/*x:'\\n'*/\n",
    "|?=\"r\"/*x:'\\r'*/\n",
    "|?=\"t\"/*x:'\\t'*/\n",
    "|'u' (?=hex hex hex hex/*x:chr(int(x,16))*/) '''\n",
    "              )\n",
    "json_p.add_bnf('hex',\"digit|[a-fA-F]\")\n",
    "\n",
    "json_p.add_bnf('number','''?= ${i=integer} (?f=fraction exponent)\n",
    "/*i,f: float(i+f) if f!=\"\" else int(i)*/''')\n",
    "json_p.add_bnf('integer','digit|onenine digits|\"-\" digit|\"-\" onenine digits')\n",
    "json_p.add_bnf('digits','digit|digit digits')\n",
    "json_p.add_bnf('digit','[0-9]')\n",
    "json_p.add_bnf('onenine','[1-9]')\n",
    "json_p.add_bnf('fraction','\"\"|\".\" digits')\n",
    "json_p.add_bnf('exponent','\"\"|\"E\" sign digits|\"e\" sign digits')\n",
    "json_p.add_bnf('sign','[\"+-\"]?')\n",
    "\n",
    "json_p.add_bnf('ws','\"\"|\"\\x20\" ws|\"\\x0A\" ws|\"\\x0D\" ws|\"\\x09\" ws')\n",
    "               "
   ]
  },
  {
   "cell_type": "code",
   "execution_count": 16,
   "metadata": {
    "ExecuteTime": {
     "end_time": "2020-01-05T23:14:32.132880Z",
     "start_time": "2020-01-05T23:14:32.019873Z"
    },
    "hidden": true
   },
   "outputs": [
    {
     "data": {
      "text/plain": [
       "'33'"
      ]
     },
     "execution_count": 16,
     "metadata": {},
     "output_type": "execute_result"
    }
   ],
   "source": [
    "ascii(33)"
   ]
  },
  {
   "cell_type": "code",
   "execution_count": 17,
   "metadata": {
    "ExecuteTime": {
     "end_time": "2020-01-05T23:14:32.224885Z",
     "start_time": "2020-01-05T23:14:32.135880Z"
    },
    "hidden": true
   },
   "outputs": [
    {
     "data": {
      "text/plain": [
       "(5, '\\x00-\\x19')"
      ]
     },
     "execution_count": 17,
     "metadata": {},
     "output_type": "execute_result"
    }
   ],
   "source": [
    "p_bnf_quoted_sequence('\"\\x00-\\x19\\\"\\\\\"',0)"
   ]
  },
  {
   "cell_type": "code",
   "execution_count": 18,
   "metadata": {
    "ExecuteTime": {
     "end_time": "2020-01-05T23:14:32.332891Z",
     "start_time": "2020-01-05T23:14:32.226885Z"
    },
    "hidden": true
   },
   "outputs": [
    {
     "data": {
      "text/plain": [
       "{}"
      ]
     },
     "execution_count": 18,
     "metadata": {},
     "output_type": "execute_result"
    }
   ],
   "source": [
    "json_p.trace_log = False\n",
    "json_p.parse('{}')"
   ]
  },
  {
   "cell_type": "code",
   "execution_count": 19,
   "metadata": {
    "ExecuteTime": {
     "end_time": "2020-01-05T23:14:32.433897Z",
     "start_time": "2020-01-05T23:14:32.338891Z"
    },
    "hidden": true
   },
   "outputs": [
    {
     "data": {
      "text/plain": [
       "'qwer'"
      ]
     },
     "execution_count": 19,
     "metadata": {},
     "output_type": "execute_result"
    }
   ],
   "source": [
    "json_p.parse('\"qwer\"')"
   ]
  },
  {
   "cell_type": "code",
   "execution_count": 20,
   "metadata": {
    "ExecuteTime": {
     "end_time": "2020-01-05T23:14:32.541903Z",
     "start_time": "2020-01-05T23:14:32.438897Z"
    },
    "hidden": true
   },
   "outputs": [
    {
     "data": {
      "text/plain": [
       "'qw\\x11er'"
      ]
     },
     "execution_count": 20,
     "metadata": {},
     "output_type": "execute_result"
    }
   ],
   "source": [
    "json_p.trace_log = False\n",
    "json_p.parse(r'\"qw\\u0011er\"')"
   ]
  },
  {
   "cell_type": "code",
   "execution_count": 21,
   "metadata": {
    "ExecuteTime": {
     "end_time": "2020-01-05T23:14:32.636908Z",
     "start_time": "2020-01-05T23:14:32.543903Z"
    },
    "hidden": true
   },
   "outputs": [
    {
     "data": {
      "text/plain": [
       "[2]"
      ]
     },
     "execution_count": 21,
     "metadata": {},
     "output_type": "execute_result"
    }
   ],
   "source": [
    "json_p.trace_log = False\n",
    "json_p.parse('[2]')"
   ]
  },
  {
   "cell_type": "code",
   "execution_count": 22,
   "metadata": {
    "ExecuteTime": {
     "end_time": "2020-01-05T23:14:32.749915Z",
     "start_time": "2020-01-05T23:14:32.638909Z"
    },
    "hidden": true
   },
   "outputs": [
    {
     "data": {
      "text/plain": [
       "[2, 3]"
      ]
     },
     "execution_count": 22,
     "metadata": {},
     "output_type": "execute_result"
    }
   ],
   "source": [
    "json_p.parse('[2,3]')"
   ]
  },
  {
   "cell_type": "code",
   "execution_count": 23,
   "metadata": {
    "ExecuteTime": {
     "end_time": "2020-01-05T23:14:32.850921Z",
     "start_time": "2020-01-05T23:14:32.751915Z"
    },
    "hidden": true,
    "scrolled": false
   },
   "outputs": [
    {
     "data": {
      "text/plain": [
       "{'a': 2}"
      ]
     },
     "execution_count": 23,
     "metadata": {},
     "output_type": "execute_result"
    }
   ],
   "source": [
    "json_p.trace_log = False\n",
    "json_p.parse('{\"a\":2}')"
   ]
  },
  {
   "cell_type": "code",
   "execution_count": 24,
   "metadata": {
    "ExecuteTime": {
     "end_time": "2020-01-05T23:14:32.942926Z",
     "start_time": "2020-01-05T23:14:32.852921Z"
    },
    "hidden": true,
    "scrolled": false
   },
   "outputs": [
    {
     "data": {
      "text/plain": [
       "{'a': 2, 'b': 3}"
      ]
     },
     "execution_count": 24,
     "metadata": {},
     "output_type": "execute_result"
    }
   ],
   "source": [
    "json_p.trace_log = False\n",
    "json_p.parse('{\"a\":2,\"b\":3}')"
   ]
  },
  {
   "cell_type": "code",
   "execution_count": 25,
   "metadata": {
    "ExecuteTime": {
     "end_time": "2020-01-05T23:14:33.044932Z",
     "start_time": "2020-01-05T23:14:32.944926Z"
    },
    "hidden": true,
    "scrolled": false
   },
   "outputs": [
    {
     "data": {
      "text/plain": [
       "{'a': 2, 'b': [7, 7.4, '\\x00']}"
      ]
     },
     "execution_count": 25,
     "metadata": {},
     "output_type": "execute_result"
    }
   ],
   "source": [
    "json_p.parse(r'{\"a\":2,\"b\":[7,7.4,\"\\u0000\"]}')"
   ]
  },
  {
   "cell_type": "code",
   "execution_count": 26,
   "metadata": {
    "ExecuteTime": {
     "end_time": "2020-01-05T23:14:33.219942Z",
     "start_time": "2020-01-05T23:14:33.046932Z"
    },
    "hidden": true,
    "scrolled": false
   },
   "outputs": [
    {
     "data": {
      "text/plain": [
       "{'a': 2, 'b': {'c': 'd'}}"
      ]
     },
     "execution_count": 26,
     "metadata": {},
     "output_type": "execute_result"
    }
   ],
   "source": [
    "json_p.parse(r'{\"a\":2,\"b\":{\"c\":\"d\"}}')"
   ]
  },
  {
   "cell_type": "markdown",
   "metadata": {},
   "source": [
    "## JSON cyclic"
   ]
  },
  {
   "cell_type": "code",
   "execution_count": 2,
   "metadata": {
    "ExecuteTime": {
     "end_time": "2020-01-06T00:11:35.887291Z",
     "start_time": "2020-01-06T00:11:35.866290Z"
    },
    "scrolled": false
   },
   "outputs": [],
   "source": [
    "my_parser.debug = False\n",
    "json_cp = Parser(main = 'json')\n",
    "json_cp.add_bnf('json','$(element)')\n",
    "json_cp.add_bnf('value','''$(object)|$(array)|$(string)|$(number)\n",
    "               |?=\"true\"/*x:True*/|?=\"false\"/*x:False*/|?=\"null\"/*x:None*/''')\n",
    "\n",
    "@json_cp.add_bnf_seqfun('object',\"?='{' {?a= *}($(member) ',') {?l= ?}$(member) '}'\")\n",
    "def make_obj(a,l):\n",
    "    o = {}\n",
    "    for lo in a:\n",
    "        o[lo['k']]=lo['v']\n",
    "    for lo in l:\n",
    "        o[lo['k']]=lo['v']\n",
    "    return o\n",
    "json_cp.add_bnf('member',\"ws ${k=string} ws ':' ${v=element}\")\n",
    "\n",
    "json_cp.add_bnf('array',\"?= '[' {?a= *}($(element) ',') {?l= ?}$(element) ']' /*a,l:a+l*/\")\n",
    "json_cp.add_bnf('element',\"ws $(value) ws\")\n",
    "\n",
    "json_cp.add_bnf('string',\"'\\\"' (?=character*) '\\\"'\")\n",
    "json_cp.add_bnf('character',r'''?= [^\\x00-\\x19\\\"\\\\]  \n",
    "| \"\\\\\" (?=escape)'''\n",
    "              )\n",
    "json_cp.add_bnf('escape',r'''?=[\\\"\\\\\\/]\n",
    "|?=\"b\"/*x:'\\b'*/\n",
    "|?=\"f\"/*x:'\\f'*/\n",
    "|?=\"n\"/*x:'\\n'*/\n",
    "|?=\"r\"/*x:'\\r'*/\n",
    "|?=\"t\"/*x:'\\t'*/\n",
    "|'u' (?=hex hex hex hex/*x:chr(int(x,16))*/) '''\n",
    "              )\n",
    "json_cp.add_bnf('hex',\"[0-9a-fA-F]\")\n",
    "\n",
    "json_cp.add_bnf('number','''?= ${i=integer} (?f=fraction exponent)\n",
    "/*i,f: float(i+f) if f!=\"\" else int(i)*/''')\n",
    "json_cp.add_bnf('integer','\"-\"? [0-9] | \"-\"? [1-9] [0-9]+')\n",
    "json_cp.add_bnf('fraction','\"\"|\".\" [0-9]+')\n",
    "json_cp.add_bnf('exponent','\"\"|\"E\" [\"+-\"]? [0-9]+|\"e\" [\"+-\"]? [0-9]+')\n",
    "\n",
    "json_cp.add_bnf('ws',r'[\\x20\\x0A\\x0D\\x09]*')\n",
    "               "
   ]
  },
  {
   "cell_type": "code",
   "execution_count": 3,
   "metadata": {
    "ExecuteTime": {
     "end_time": "2020-01-06T00:11:36.065301Z",
     "start_time": "2020-01-06T00:11:36.059301Z"
    }
   },
   "outputs": [
    {
     "data": {
      "text/plain": [
       "{}"
      ]
     },
     "execution_count": 3,
     "metadata": {},
     "output_type": "execute_result"
    }
   ],
   "source": [
    "json_cp.trace_log = False\n",
    "json_cp.parse('{}')"
   ]
  },
  {
   "cell_type": "code",
   "execution_count": 4,
   "metadata": {
    "ExecuteTime": {
     "end_time": "2020-01-06T00:11:36.250311Z",
     "start_time": "2020-01-06T00:11:36.242311Z"
    }
   },
   "outputs": [
    {
     "data": {
      "text/plain": [
       "'qwer'"
      ]
     },
     "execution_count": 4,
     "metadata": {},
     "output_type": "execute_result"
    }
   ],
   "source": [
    "json_cp.parse('\"qwer\"')"
   ]
  },
  {
   "cell_type": "code",
   "execution_count": 5,
   "metadata": {
    "ExecuteTime": {
     "end_time": "2020-01-06T00:11:36.432322Z",
     "start_time": "2020-01-06T00:11:36.427322Z"
    }
   },
   "outputs": [
    {
     "data": {
      "text/plain": [
       "'qw\\x11er'"
      ]
     },
     "execution_count": 5,
     "metadata": {},
     "output_type": "execute_result"
    }
   ],
   "source": [
    "json_cp.trace_log = False\n",
    "json_cp.parse(r'\"qw\\u0011er\"')"
   ]
  },
  {
   "cell_type": "code",
   "execution_count": 6,
   "metadata": {
    "ExecuteTime": {
     "end_time": "2020-01-06T00:11:36.602332Z",
     "start_time": "2020-01-06T00:11:36.594331Z"
    }
   },
   "outputs": [
    {
     "data": {
      "text/plain": [
       "[2]"
      ]
     },
     "execution_count": 6,
     "metadata": {},
     "output_type": "execute_result"
    }
   ],
   "source": [
    "json_cp.trace_log = False\n",
    "json_cp.parse('[2,]')"
   ]
  },
  {
   "cell_type": "code",
   "execution_count": 7,
   "metadata": {
    "ExecuteTime": {
     "end_time": "2020-01-06T00:11:36.800343Z",
     "start_time": "2020-01-06T00:11:36.792342Z"
    }
   },
   "outputs": [
    {
     "data": {
      "text/plain": [
       "[2, 3]"
      ]
     },
     "execution_count": 7,
     "metadata": {},
     "output_type": "execute_result"
    }
   ],
   "source": [
    "json_cp.parse('[2,3]')"
   ]
  },
  {
   "cell_type": "code",
   "execution_count": 8,
   "metadata": {
    "ExecuteTime": {
     "end_time": "2020-01-06T00:11:36.973353Z",
     "start_time": "2020-01-06T00:11:36.965352Z"
    },
    "scrolled": false
   },
   "outputs": [
    {
     "data": {
      "text/plain": [
       "{'a': 2}"
      ]
     },
     "execution_count": 8,
     "metadata": {},
     "output_type": "execute_result"
    }
   ],
   "source": [
    "json_cp.trace_log = False\n",
    "json_cp.parse('{\"a\":2}')"
   ]
  },
  {
   "cell_type": "code",
   "execution_count": 9,
   "metadata": {
    "ExecuteTime": {
     "end_time": "2020-01-06T00:11:37.149363Z",
     "start_time": "2020-01-06T00:11:37.142362Z"
    },
    "scrolled": false
   },
   "outputs": [
    {
     "data": {
      "text/plain": [
       "{'a': 2, 'b': 3}"
      ]
     },
     "execution_count": 9,
     "metadata": {},
     "output_type": "execute_result"
    }
   ],
   "source": [
    "json_cp.trace_log = False\n",
    "json_cp.parse('{\"a\":2,\"b\":3}')"
   ]
  },
  {
   "cell_type": "code",
   "execution_count": 10,
   "metadata": {
    "ExecuteTime": {
     "end_time": "2020-01-06T00:11:37.317372Z",
     "start_time": "2020-01-06T00:11:37.309372Z"
    },
    "scrolled": false
   },
   "outputs": [
    {
     "data": {
      "text/plain": [
       "{'a': 2, 'b': [7, 7.4, '\\x00']}"
      ]
     },
     "execution_count": 10,
     "metadata": {},
     "output_type": "execute_result"
    }
   ],
   "source": [
    "json_cp.parse(r'{\"a\":2,\"b\":[7,7.4,\"\\u0000\"]}')"
   ]
  },
  {
   "cell_type": "code",
   "execution_count": 11,
   "metadata": {
    "ExecuteTime": {
     "end_time": "2020-01-06T00:11:37.493383Z",
     "start_time": "2020-01-06T00:11:37.485382Z"
    },
    "scrolled": false
   },
   "outputs": [
    {
     "data": {
      "text/plain": [
       "{'a': 2, 'b': {'c': 'd'}}"
      ]
     },
     "execution_count": 11,
     "metadata": {},
     "output_type": "execute_result"
    }
   ],
   "source": [
    "json_cp.parse(r'{\"a\":2,\"b\":{\"c\":\"d\"}}')"
   ]
  },
  {
   "cell_type": "code",
   "execution_count": 12,
   "metadata": {
    "ExecuteTime": {
     "end_time": "2020-01-06T00:11:37.666392Z",
     "start_time": "2020-01-06T00:11:37.649391Z"
    }
   },
   "outputs": [],
   "source": [
    "import codecs\n",
    "import json\n",
    "hash_path = r'D:\\.files\\patch 2020-01-02 02-42-28+0300 to 2020-01-05 02-40-35+0300.json'\n",
    "with codecs.open(hash_path,'r', encoding='utf-8') as file:\n",
    "    file_text = file.read()\n",
    "    "
   ]
  },
  {
   "cell_type": "code",
   "execution_count": 13,
   "metadata": {
    "ExecuteTime": {
     "end_time": "2020-01-06T00:11:52.616248Z",
     "start_time": "2020-01-06T00:11:39.232482Z"
    }
   },
   "outputs": [],
   "source": [
    "#json_cp.trace_log = True\n",
    "test_obj = json_cp.parse(file_text)"
   ]
  },
  {
   "cell_type": "code",
   "execution_count": 14,
   "metadata": {
    "ExecuteTime": {
     "end_time": "2020-01-06T00:11:52.629248Z",
     "start_time": "2020-01-06T00:11:52.618248Z"
    }
   },
   "outputs": [],
   "source": [
    "#json_cp.trace_log = True\n",
    "real_obj = json.loads(file_text)"
   ]
  },
  {
   "cell_type": "code",
   "execution_count": 15,
   "metadata": {
    "ExecuteTime": {
     "end_time": "2020-01-06T00:11:52.706253Z",
     "start_time": "2020-01-06T00:11:52.633249Z"
    }
   },
   "outputs": [
    {
     "data": {
      "text/plain": [
       "True"
      ]
     },
     "execution_count": 15,
     "metadata": {},
     "output_type": "execute_result"
    }
   ],
   "source": [
    "test_obj == real_obj"
   ]
  },
  {
   "cell_type": "code",
   "execution_count": null,
   "metadata": {},
   "outputs": [],
   "source": []
  },
  {
   "cell_type": "code",
   "execution_count": null,
   "metadata": {},
   "outputs": [],
   "source": []
  }
 ],
 "metadata": {
  "hide_input": false,
  "kernelspec": {
   "display_name": "Python 3",
   "language": "python",
   "name": "python3"
  },
  "language_info": {
   "codemirror_mode": {
    "name": "ipython",
    "version": 3
   },
   "file_extension": ".py",
   "mimetype": "text/x-python",
   "name": "python",
   "nbconvert_exporter": "python",
   "pygments_lexer": "ipython3",
   "version": "3.6.7"
  }
 },
 "nbformat": 4,
 "nbformat_minor": 2
}
