{
 "cells": [
  {
   "cell_type": "code",
   "execution_count": 1,
   "metadata": {
    "ExecuteTime": {
     "end_time": "2019-12-31T20:11:02.589701Z",
     "start_time": "2019-12-31T20:11:02.564700Z"
    }
   },
   "outputs": [],
   "source": [
    "from my_parser import *"
   ]
  },
  {
   "cell_type": "code",
   "execution_count": 2,
   "metadata": {
    "ExecuteTime": {
     "end_time": "2019-12-31T20:11:02.610703Z",
     "start_time": "2019-12-31T20:11:02.592702Z"
    }
   },
   "outputs": [
    {
     "data": {
      "text/plain": [
       "'aaa'"
      ]
     },
     "execution_count": 2,
     "metadata": {},
     "output_type": "execute_result"
    }
   ],
   "source": [
    "import re\n",
    "m = re.match(r'a{3}','aaaaaa')\n",
    "m.group(0)"
   ]
  },
  {
   "cell_type": "code",
   "execution_count": 13,
   "metadata": {
    "ExecuteTime": {
     "end_time": "2019-12-31T20:11:21.450780Z",
     "start_time": "2019-12-31T20:11:21.440780Z"
    }
   },
   "outputs": [],
   "source": [
    "depth = 0\n",
    "def cache_debug(name):\n",
    "    def decorator(fun):\n",
    "        def wrapper(s,p):\n",
    "            global depth\n",
    "            #print('  '*depth,name,p)\n",
    "            depth+=1\n",
    "            try:\n",
    "                rezs=fun(s,p)   # <<<<<================== CALL FUN ======================\n",
    "            finally:\n",
    "                depth-=1\n",
    "            return rezs\n",
    "        return wrapper\n",
    "    return decorator"
   ]
  },
  {
   "cell_type": "code",
   "execution_count": 4,
   "metadata": {
    "ExecuteTime": {
     "end_time": "2019-12-31T20:11:02.632704Z",
     "start_time": "2019-12-31T20:11:02.623703Z"
    }
   },
   "outputs": [],
   "source": [
    "@method(Parser)\n",
    "def add_regexp(self,name,patt):\n",
    "    cp = re.compile(patt)\n",
    "    def pp_regexp(s,p):\n",
    "        m = cp.match(s[p:])\n",
    "        if m==None:\n",
    "            return Elist(p,FatalError('ожидалось рег.выр. '+name))\n",
    "        else:\n",
    "            return [(p+len(m.group(0)),m.group(0))]\n",
    "    self.patterns[name] = cache_debug(name)(pp_regexp)"
   ]
  },
  {
   "cell_type": "code",
   "execution_count": 5,
   "metadata": {
    "ExecuteTime": {
     "end_time": "2019-12-31T20:11:02.710708Z",
     "start_time": "2019-12-31T20:11:02.671706Z"
    }
   },
   "outputs": [],
   "source": [
    "@method(Parser)\n",
    "def add_reg_seq(self,name,patt):\n",
    "    p,r = self.p_reg_sequence(patt,0)\n",
    "    if is_fatal(r):\n",
    "        raise BaseException(r)\n",
    "    tmp = r\n",
    "    p,r = p_spcs(patt,p)\n",
    "    if p!=len(patt):\n",
    "        raise BaseException('разобран не весь паттерн')\n",
    "    self.patterns[name] = cache_debug(name)(tmp[1])\n"
   ]
  },
  {
   "cell_type": "code",
   "execution_count": 6,
   "metadata": {
    "ExecuteTime": {
     "end_time": "2019-12-31T20:11:02.926721Z",
     "start_time": "2019-12-31T20:11:02.713708Z"
    }
   },
   "outputs": [],
   "source": [
    "@method(Parser)\n",
    "def add_bnf_seq(self,name,patt):\n",
    "    p,r = self.p_bnf_sequence_(patt,0)\n",
    "    if is_fatal(r):\n",
    "        raise BaseException(r)\n",
    "    tmp = r\n",
    "    if p!=len(patt):\n",
    "        raise BaseException('разобран не весь паттерн')\n",
    "    self.patterns[name] = cache_debug(name)(tmp[1])\n",
    "    "
   ]
  },
  {
   "cell_type": "code",
   "execution_count": 7,
   "metadata": {
    "ExecuteTime": {
     "end_time": "2019-12-31T20:11:03.049728Z",
     "start_time": "2019-12-31T20:11:02.928721Z"
    }
   },
   "outputs": [],
   "source": [
    "@method(Parser)\n",
    "def add_reg_alt(self,name,patt):\n",
    "    p,r = self.p_reg_alternatives(patt,0)\n",
    "    if is_fatal(r):\n",
    "        raise BaseException(r)\n",
    "    tmp = r\n",
    "    p,r = p_spcs(patt,p)\n",
    "    if p!=len(patt):\n",
    "        raise BaseException('разобран не весь паттерн')\n",
    "    self.patterns[name] = cache_debug(name)(tmp[1])\n"
   ]
  },
  {
   "cell_type": "code",
   "execution_count": 8,
   "metadata": {
    "ExecuteTime": {
     "end_time": "2019-12-31T20:11:03.184735Z",
     "start_time": "2019-12-31T20:11:03.057728Z"
    }
   },
   "outputs": [],
   "source": [
    "@method(Parser)\n",
    "def add_bnf_alt(self,name,patt):\n",
    "    p,r = self.p_bnf_alternatives_(patt,0)\n",
    "    if is_fatal(r):\n",
    "        raise BaseException((p,r))\n",
    "    tmp = r\n",
    "    if p!=len(patt):\n",
    "        raise BaseException('разобран не весь паттерн')\n",
    "    self.patterns[name] = cache_debug(name)(tmp[1])\n"
   ]
  },
  {
   "cell_type": "code",
   "execution_count": 15,
   "metadata": {
    "ExecuteTime": {
     "end_time": "2019-12-31T20:11:29.409235Z",
     "start_time": "2019-12-31T20:11:29.403235Z"
    }
   },
   "outputs": [],
   "source": [
    "calculator = Parser()\n",
    "calculator.add_bnf_seq('num','?=[0-9]+/*s:int(s)*/')\n",
    "calculator.add_bnf_alt('rterm','$(num)|`(`$(sum)`)`')\n",
    "calculator.add_bnf_alt('term',\n",
    "'''$(rterm) \n",
    "|?= ${t:rterm} `*` ${n:term} /* t,n:t*n */ \n",
    "|?= ${t:rterm} `/` ${n:term} /* t,n:t/n */ \n",
    "''')\n",
    "calculator.add_bnf_alt('sum',\n",
    "'''$(term)\n",
    "|?= ${t:term} `+` ${n:sum} /* t,n:t+n */ \n",
    "|?= ${t:term} `-` ${n:sum} /* t,n:t-n */ \n",
    "''')\n",
    "calculator.main = 'sum'"
   ]
  },
  {
   "cell_type": "code",
   "execution_count": 16,
   "metadata": {
    "ExecuteTime": {
     "end_time": "2019-12-31T20:11:30.011270Z",
     "start_time": "2019-12-31T20:11:30.002269Z"
    },
    "scrolled": false
   },
   "outputs": [
    {
     "data": {
      "text/plain": [
       "6"
      ]
     },
     "execution_count": 16,
     "metadata": {},
     "output_type": "execute_result"
    }
   ],
   "source": [
    "calculator.parse('2+2*2')"
   ]
  },
  {
   "cell_type": "code",
   "execution_count": 11,
   "metadata": {
    "ExecuteTime": {
     "end_time": "2019-12-31T20:11:03.768769Z",
     "start_time": "2019-12-31T20:11:03.722766Z"
    }
   },
   "outputs": [
    {
     "name": "stdout",
     "output_type": "stream",
     "text": [
      "у неявной объектной последовательности обработчики НЕ допустимы\n"
     ]
    },
    {
     "data": {
      "text/plain": [
       "(38,\n",
       " FatalError('у неявной объектной последовательности обработчики НЕ допустимы'))"
      ]
     },
     "execution_count": 11,
     "metadata": {},
     "output_type": "execute_result"
    }
   ],
   "source": [
    "calculator.p_bnf_sequence_('(?t=term) `*` (?n=rterm) /* t,n:t*n */',0)"
   ]
  },
  {
   "cell_type": "code",
   "execution_count": 12,
   "metadata": {
    "ExecuteTime": {
     "end_time": "2019-12-31T20:11:03.880775Z",
     "start_time": "2019-12-31T20:11:03.777769Z"
    }
   },
   "outputs": [
    {
     "data": {
      "text/plain": [
       "(41,\n",
       " ('direct',\n",
       "  <function my_parser.make_sequence.<locals>.pp_direct_obj_join(s, p0)>))"
      ]
     },
     "execution_count": 12,
     "metadata": {},
     "output_type": "execute_result"
    }
   ],
   "source": [
    "calculator.p_bnf_sequence_('?= (?t=term) `*` (?n=rterm) /* t,n:t*n */',0)"
   ]
  },
  {
   "cell_type": "code",
   "execution_count": null,
   "metadata": {},
   "outputs": [],
   "source": []
  }
 ],
 "metadata": {
  "hide_input": false,
  "kernelspec": {
   "display_name": "Python 3",
   "language": "python",
   "name": "python3"
  },
  "language_info": {
   "codemirror_mode": {
    "name": "ipython",
    "version": 3
   },
   "file_extension": ".py",
   "mimetype": "text/x-python",
   "name": "python",
   "nbconvert_exporter": "python",
   "pygments_lexer": "ipython3",
   "version": "3.6.7"
  }
 },
 "nbformat": 4,
 "nbformat_minor": 2
}
