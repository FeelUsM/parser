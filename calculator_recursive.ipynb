{
 "cells": [
  {
   "cell_type": "code",
   "execution_count": 1,
   "metadata": {
    "ExecuteTime": {
     "end_time": "2020-01-01T18:17:48.618870Z",
     "start_time": "2020-01-01T18:17:48.584868Z"
    }
   },
   "outputs": [],
   "source": [
    "from my_parser import *\n",
    "import sys"
   ]
  },
  {
   "cell_type": "code",
   "execution_count": 19,
   "metadata": {
    "ExecuteTime": {
     "end_time": "2020-01-01T18:22:09.980819Z",
     "start_time": "2020-01-01T18:22:09.969818Z"
    }
   },
   "outputs": [],
   "source": [
    "calculator = Parser()\n",
    "calculator.add_bnf('num','?=[0-9]+/*s:int(s)*/')\n",
    "calculator.add_bnf('rterm',\"$(num)|'('$(sum)')'\")\n",
    "calculator.add_bnf('term',\n",
    "'''$(rterm) \n",
    "|?= ${t:rterm} '*' ${n:term} /* t,n:t*n */ \n",
    "|?= ${t:rterm} '/' ${n:term} /* t,n:t/n */ \n",
    "''')\n",
    "calculator.add_bnf('sum',\n",
    "'''$(term)\n",
    "|?= ${t:term} '+' ${n:sum} /* t,n:t+n */ \n",
    "|?= ${t:term} '-' ${n:sum} /* t,n:t-n */ \n",
    "''')\n",
    "calculator.main = 'sum'"
   ]
  },
  {
   "cell_type": "code",
   "execution_count": 20,
   "metadata": {
    "ExecuteTime": {
     "end_time": "2020-01-01T18:22:10.433845Z",
     "start_time": "2020-01-01T18:22:10.421844Z"
    },
    "scrolled": false
   },
   "outputs": [
    {
     "data": {
      "text/plain": [
       "6"
      ]
     },
     "execution_count": 20,
     "metadata": {},
     "output_type": "execute_result"
    }
   ],
   "source": [
    "calculator.parse('2+2*2')"
   ]
  },
  {
   "cell_type": "code",
   "execution_count": 23,
   "metadata": {
    "ExecuteTime": {
     "end_time": "2020-01-01T18:32:57.686866Z",
     "start_time": "2020-01-01T18:32:57.678865Z"
    },
    "scrolled": false
   },
   "outputs": [
    {
     "data": {
      "text/plain": [
       "8"
      ]
     },
     "execution_count": 23,
     "metadata": {},
     "output_type": "execute_result"
    }
   ],
   "source": [
    "calculator.debug = False\n",
    "calculator.parse('(2+2)*2')"
   ]
  },
  {
   "cell_type": "code",
   "execution_count": 25,
   "metadata": {
    "ExecuteTime": {
     "end_time": "2020-01-01T18:33:07.579431Z",
     "start_time": "2020-01-01T18:33:07.552430Z"
    },
    "scrolled": false
   },
   "outputs": [
    {
     "data": {
      "text/plain": [
       "8"
      ]
     },
     "execution_count": 25,
     "metadata": {},
     "output_type": "execute_result"
    }
   ],
   "source": [
    "calculator.debug = False\n",
    "calculator.parse('2+2+2+2')"
   ]
  },
  {
   "cell_type": "code",
   "execution_count": 9,
   "metadata": {
    "ExecuteTime": {
     "end_time": "2020-01-01T18:17:49.474919Z",
     "start_time": "2020-01-01T18:17:49.397914Z"
    }
   },
   "outputs": [
    {
     "data": {
      "text/plain": [
       "(10,\n",
       " ('obj',\n",
       "  <function my_parser.make_sequence.<locals>.pp_implicit_obj_join(s, p0)>))"
      ]
     },
     "execution_count": 9,
     "metadata": {},
     "output_type": "execute_result"
    }
   ],
   "source": [
    "calculator.p_bnf_sequence_('(?t=term) `*` (?n=rterm) /* t,n:t*n */',0)"
   ]
  },
  {
   "cell_type": "code",
   "execution_count": 10,
   "metadata": {
    "ExecuteTime": {
     "end_time": "2020-01-01T18:17:49.563924Z",
     "start_time": "2020-01-01T18:17:49.477919Z"
    }
   },
   "outputs": [
    {
     "data": {
      "text/plain": [
       "(13,\n",
       " ('direct',\n",
       "  <function my_parser.make_sequence.<locals>.pp_direct_obj_join(s, p0)>))"
      ]
     },
     "execution_count": 10,
     "metadata": {},
     "output_type": "execute_result"
    }
   ],
   "source": [
    "calculator.p_bnf_sequence_('?= (?t=term) `*` (?n=rterm) /* t,n:t*n */',0)"
   ]
  },
  {
   "cell_type": "code",
   "execution_count": 11,
   "metadata": {
    "ExecuteTime": {
     "end_time": "2020-01-01T18:17:49.659929Z",
     "start_time": "2020-01-01T18:17:49.566924Z"
    }
   },
   "outputs": [],
   "source": []
  },
  {
   "cell_type": "code",
   "execution_count": 12,
   "metadata": {
    "ExecuteTime": {
     "end_time": "2020-01-01T18:17:49.837940Z",
     "start_time": "2020-01-01T18:17:49.747934Z"
    }
   },
   "outputs": [],
   "source": []
  },
  {
   "cell_type": "code",
   "execution_count": null,
   "metadata": {},
   "outputs": [],
   "source": []
  }
 ],
 "metadata": {
  "hide_input": false,
  "kernelspec": {
   "display_name": "Python 3",
   "language": "python",
   "name": "python3"
  },
  "language_info": {
   "codemirror_mode": {
    "name": "ipython",
    "version": 3
   },
   "file_extension": ".py",
   "mimetype": "text/x-python",
   "name": "python",
   "nbconvert_exporter": "python",
   "pygments_lexer": "ipython3",
   "version": "3.6.7"
  }
 },
 "nbformat": 4,
 "nbformat_minor": 2
}
